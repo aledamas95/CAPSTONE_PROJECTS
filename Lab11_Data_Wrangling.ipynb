{
 "cells": [
  {
   "cell_type": "markdown",
   "metadata": {},
   "source": [
    "<p style=\"text-align:center\">\n",
    "    <a href=\"https://skills.network\" target=\"_blank\">\n",
    "    <img src=\"https://cf-courses-data.s3.us.cloud-object-storage.appdomain.cloud/assets/logos/SN_web_lightmode.png\" width=\"200\" alt=\"Skills Network Logo\"  />\n",
    "    </a>\n",
    "</p>\n"
   ]
  },
  {
   "cell_type": "markdown",
   "metadata": {},
   "source": [
    "# **Data Wrangling Lab**\n"
   ]
  },
  {
   "cell_type": "markdown",
   "metadata": {},
   "source": [
    "Estimated time needed: **45** minutes\n"
   ]
  },
  {
   "cell_type": "markdown",
   "metadata": {},
   "source": [
    "In this lab, you will perform data wrangling tasks to prepare raw data for analysis. Data wrangling involves cleaning, transforming, and organizing data into a structured format suitable for analysis. This lab focuses on tasks like identifying inconsistencies, encoding categorical variables, and feature transformation.\n"
   ]
  },
  {
   "cell_type": "markdown",
   "metadata": {},
   "source": [
    "## Objectives\n"
   ]
  },
  {
   "cell_type": "markdown",
   "metadata": {},
   "source": [
    "After completing this lab, you will be able to:\n"
   ]
  },
  {
   "cell_type": "markdown",
   "metadata": {},
   "source": [
    "- Identify and remove inconsistent data entries.\n",
    "\n",
    "- Encode categorical variables for analysis.\n",
    "\n",
    "- Handle missing values using multiple imputation strategies.\n",
    "\n",
    "- Apply feature scaling and transformation techniques.\n"
   ]
  },
  {
   "cell_type": "markdown",
   "metadata": {},
   "source": [
    "#### Intsall the required libraries\n"
   ]
  },
  {
   "cell_type": "code",
   "execution_count": 1,
   "metadata": {},
   "outputs": [
    {
     "name": "stdout",
     "output_type": "stream",
     "text": [
      "Collecting pandas\n",
      "  Downloading pandas-2.2.3-cp312-cp312-manylinux_2_17_x86_64.manylinux2014_x86_64.whl.metadata (89 kB)\n",
      "Collecting numpy>=1.26.0 (from pandas)\n",
      "  Downloading numpy-2.2.3-cp312-cp312-manylinux_2_17_x86_64.manylinux2014_x86_64.whl.metadata (62 kB)\n",
      "Requirement already satisfied: python-dateutil>=2.8.2 in /opt/conda/lib/python3.12/site-packages (from pandas) (2.9.0.post0)\n",
      "Requirement already satisfied: pytz>=2020.1 in /opt/conda/lib/python3.12/site-packages (from pandas) (2024.2)\n",
      "Collecting tzdata>=2022.7 (from pandas)\n",
      "  Downloading tzdata-2025.1-py2.py3-none-any.whl.metadata (1.4 kB)\n",
      "Requirement already satisfied: six>=1.5 in /opt/conda/lib/python3.12/site-packages (from python-dateutil>=2.8.2->pandas) (1.17.0)\n",
      "Downloading pandas-2.2.3-cp312-cp312-manylinux_2_17_x86_64.manylinux2014_x86_64.whl (12.7 MB)\n",
      "\u001b[2K   \u001b[90m━━━━━━━━━━━━━━━━━━━━━━━━━━━━━━━━━━━━━━━━\u001b[0m \u001b[32m12.7/12.7 MB\u001b[0m \u001b[31m130.4 MB/s\u001b[0m eta \u001b[36m0:00:00\u001b[0m\n",
      "\u001b[?25hDownloading numpy-2.2.3-cp312-cp312-manylinux_2_17_x86_64.manylinux2014_x86_64.whl (16.1 MB)\n",
      "\u001b[2K   \u001b[90m━━━━━━━━━━━━━━━━━━━━━━━━━━━━━━━━━━━━━━━━\u001b[0m \u001b[32m16.1/16.1 MB\u001b[0m \u001b[31m127.2 MB/s\u001b[0m eta \u001b[36m0:00:00\u001b[0m\n",
      "\u001b[?25hDownloading tzdata-2025.1-py2.py3-none-any.whl (346 kB)\n",
      "Installing collected packages: tzdata, numpy, pandas\n",
      "Successfully installed numpy-2.2.3 pandas-2.2.3 tzdata-2025.1\n",
      "Collecting matplotlib\n",
      "  Downloading matplotlib-3.10.0-cp312-cp312-manylinux_2_17_x86_64.manylinux2014_x86_64.whl.metadata (11 kB)\n",
      "Collecting contourpy>=1.0.1 (from matplotlib)\n",
      "  Downloading contourpy-1.3.1-cp312-cp312-manylinux_2_17_x86_64.manylinux2014_x86_64.whl.metadata (5.4 kB)\n",
      "Collecting cycler>=0.10 (from matplotlib)\n",
      "  Downloading cycler-0.12.1-py3-none-any.whl.metadata (3.8 kB)\n",
      "Collecting fonttools>=4.22.0 (from matplotlib)\n",
      "  Downloading fonttools-4.56.0-cp312-cp312-manylinux_2_5_x86_64.manylinux1_x86_64.manylinux_2_17_x86_64.manylinux2014_x86_64.whl.metadata (101 kB)\n",
      "Collecting kiwisolver>=1.3.1 (from matplotlib)\n",
      "  Downloading kiwisolver-1.4.8-cp312-cp312-manylinux_2_17_x86_64.manylinux2014_x86_64.whl.metadata (6.2 kB)\n",
      "Requirement already satisfied: numpy>=1.23 in /opt/conda/lib/python3.12/site-packages (from matplotlib) (2.2.3)\n",
      "Requirement already satisfied: packaging>=20.0 in /opt/conda/lib/python3.12/site-packages (from matplotlib) (24.2)\n",
      "Collecting pillow>=8 (from matplotlib)\n",
      "  Downloading pillow-11.1.0-cp312-cp312-manylinux_2_28_x86_64.whl.metadata (9.1 kB)\n",
      "Collecting pyparsing>=2.3.1 (from matplotlib)\n",
      "  Downloading pyparsing-3.2.1-py3-none-any.whl.metadata (5.0 kB)\n",
      "Requirement already satisfied: python-dateutil>=2.7 in /opt/conda/lib/python3.12/site-packages (from matplotlib) (2.9.0.post0)\n",
      "Requirement already satisfied: six>=1.5 in /opt/conda/lib/python3.12/site-packages (from python-dateutil>=2.7->matplotlib) (1.17.0)\n",
      "Downloading matplotlib-3.10.0-cp312-cp312-manylinux_2_17_x86_64.manylinux2014_x86_64.whl (8.6 MB)\n",
      "\u001b[2K   \u001b[90m━━━━━━━━━━━━━━━━━━━━━━━━━━━━━━━━━━━━━━━━\u001b[0m \u001b[32m8.6/8.6 MB\u001b[0m \u001b[31m144.5 MB/s\u001b[0m eta \u001b[36m0:00:00\u001b[0m\n",
      "\u001b[?25hDownloading contourpy-1.3.1-cp312-cp312-manylinux_2_17_x86_64.manylinux2014_x86_64.whl (323 kB)\n",
      "Downloading cycler-0.12.1-py3-none-any.whl (8.3 kB)\n",
      "Downloading fonttools-4.56.0-cp312-cp312-manylinux_2_5_x86_64.manylinux1_x86_64.manylinux_2_17_x86_64.manylinux2014_x86_64.whl (4.9 MB)\n",
      "\u001b[2K   \u001b[90m━━━━━━━━━━━━━━━━━━━━━━━━━━━━━━━━━━━━━━━━\u001b[0m \u001b[32m4.9/4.9 MB\u001b[0m \u001b[31m110.9 MB/s\u001b[0m eta \u001b[36m0:00:00\u001b[0m\n",
      "\u001b[?25hDownloading kiwisolver-1.4.8-cp312-cp312-manylinux_2_17_x86_64.manylinux2014_x86_64.whl (1.5 MB)\n",
      "\u001b[2K   \u001b[90m━━━━━━━━━━━━━━━━━━━━━━━━━━━━━━━━━━━━━━━━\u001b[0m \u001b[32m1.5/1.5 MB\u001b[0m \u001b[31m69.9 MB/s\u001b[0m eta \u001b[36m0:00:00\u001b[0m\n",
      "\u001b[?25hDownloading pillow-11.1.0-cp312-cp312-manylinux_2_28_x86_64.whl (4.5 MB)\n",
      "\u001b[2K   \u001b[90m━━━━━━━━━━━━━━━━━━━━━━━━━━━━━━━━━━━━━━━━\u001b[0m \u001b[32m4.5/4.5 MB\u001b[0m \u001b[31m130.8 MB/s\u001b[0m eta \u001b[36m0:00:00\u001b[0m\n",
      "\u001b[?25hDownloading pyparsing-3.2.1-py3-none-any.whl (107 kB)\n",
      "Installing collected packages: pyparsing, pillow, kiwisolver, fonttools, cycler, contourpy, matplotlib\n",
      "Successfully installed contourpy-1.3.1 cycler-0.12.1 fonttools-4.56.0 kiwisolver-1.4.8 matplotlib-3.10.0 pillow-11.1.0 pyparsing-3.2.1\n"
     ]
    }
   ],
   "source": [
    "!pip install pandas\n",
    "!pip install matplotlib"
   ]
  },
  {
   "cell_type": "markdown",
   "metadata": {},
   "source": [
    "## Tasks\n"
   ]
  },
  {
   "cell_type": "markdown",
   "metadata": {},
   "source": [
    "#### Step 1: Import the necessary module.\n"
   ]
  },
  {
   "cell_type": "markdown",
   "metadata": {},
   "source": [
    "### 1. Load the Dataset\n"
   ]
  },
  {
   "cell_type": "markdown",
   "metadata": {},
   "source": [
    "<h5>1.1 Import necessary libraries and load the dataset.</h5>\n"
   ]
  },
  {
   "cell_type": "markdown",
   "metadata": {},
   "source": [
    "Ensure the dataset is loaded correctly by displaying the first few rows.\n"
   ]
  },
  {
   "cell_type": "code",
   "execution_count": 32,
   "metadata": {},
   "outputs": [
    {
     "name": "stdout",
     "output_type": "stream",
     "text": [
      "   ResponseId                      MainBranch                 Age  \\\n",
      "0           1  I am a developer by profession  Under 18 years old   \n",
      "1           2  I am a developer by profession     35-44 years old   \n",
      "2           3  I am a developer by profession     45-54 years old   \n",
      "3           4           I am learning to code     18-24 years old   \n",
      "4           5  I am a developer by profession     18-24 years old   \n",
      "\n",
      "            Employment RemoteWork   Check  \\\n",
      "0  Employed, full-time     Remote  Apples   \n",
      "1  Employed, full-time     Remote  Apples   \n",
      "2  Employed, full-time     Remote  Apples   \n",
      "3   Student, full-time        NaN  Apples   \n",
      "4   Student, full-time        NaN  Apples   \n",
      "\n",
      "                                    CodingActivities  \\\n",
      "0                                              Hobby   \n",
      "1  Hobby;Contribute to open-source projects;Other...   \n",
      "2  Hobby;Contribute to open-source projects;Other...   \n",
      "3                                                NaN   \n",
      "4                                                NaN   \n",
      "\n",
      "                                             EdLevel  \\\n",
      "0                          Primary/elementary school   \n",
      "1       Bachelor’s degree (B.A., B.S., B.Eng., etc.)   \n",
      "2    Master’s degree (M.A., M.S., M.Eng., MBA, etc.)   \n",
      "3  Some college/university study without earning ...   \n",
      "4  Secondary school (e.g. American high school, G...   \n",
      "\n",
      "                                           LearnCode  \\\n",
      "0                             Books / Physical media   \n",
      "1  Books / Physical media;Colleague;On the job tr...   \n",
      "2  Books / Physical media;Colleague;On the job tr...   \n",
      "3  Other online resources (e.g., videos, blogs, f...   \n",
      "4  Other online resources (e.g., videos, blogs, f...   \n",
      "\n",
      "                                     LearnCodeOnline  ... JobSatPoints_6  \\\n",
      "0                                                NaN  ...            NaN   \n",
      "1  Technical documentation;Blogs;Books;Written Tu...  ...            0.0   \n",
      "2  Technical documentation;Blogs;Books;Written Tu...  ...            NaN   \n",
      "3  Stack Overflow;How-to videos;Interactive tutorial  ...            NaN   \n",
      "4  Technical documentation;Blogs;Written Tutorial...  ...            NaN   \n",
      "\n",
      "  JobSatPoints_7 JobSatPoints_8 JobSatPoints_9 JobSatPoints_10  \\\n",
      "0            NaN            NaN            NaN             NaN   \n",
      "1            0.0            0.0            0.0             0.0   \n",
      "2            NaN            NaN            NaN             NaN   \n",
      "3            NaN            NaN            NaN             NaN   \n",
      "4            NaN            NaN            NaN             NaN   \n",
      "\n",
      "  JobSatPoints_11           SurveyLength SurveyEase ConvertedCompYearly JobSat  \n",
      "0             NaN                    NaN        NaN                 NaN    NaN  \n",
      "1             0.0                    NaN        NaN                 NaN    NaN  \n",
      "2             NaN  Appropriate in length       Easy                 NaN    NaN  \n",
      "3             NaN               Too long       Easy                 NaN    NaN  \n",
      "4             NaN              Too short       Easy                 NaN    NaN  \n",
      "\n",
      "[5 rows x 114 columns]\n"
     ]
    }
   ],
   "source": [
    "import pandas as pd\n",
    "\n",
    "dataset_url = \"https://cf-courses-data.s3.us.cloud-object-storage.appdomain.cloud/n01PQ9pSmiRX6520flujwQ/survey-data.csv\"\n",
    "df = pd.read_csv(dataset_url)\n",
    "\n",
    "print(df.head())"
   ]
  },
  {
   "cell_type": "markdown",
   "metadata": {},
   "source": [
    "#### 2. Explore the Dataset\n"
   ]
  },
  {
   "cell_type": "markdown",
   "metadata": {},
   "source": [
    "<h5>2.1 Summarize the dataset by displaying the column data types, counts, and missing values.</h5>\n"
   ]
  },
  {
   "cell_type": "code",
   "execution_count": 6,
   "metadata": {},
   "outputs": [
    {
     "data": {
      "text/plain": [
       "ResponseId               int64\n",
       "MainBranch              object\n",
       "Age                     object\n",
       "Employment              object\n",
       "RemoteWork              object\n",
       "                        ...   \n",
       "JobSatPoints_11        float64\n",
       "SurveyLength            object\n",
       "SurveyEase              object\n",
       "ConvertedCompYearly    float64\n",
       "JobSat                 float64\n",
       "Length: 114, dtype: object"
      ]
     },
     "execution_count": 6,
     "metadata": {},
     "output_type": "execute_result"
    }
   ],
   "source": [
    "df.dtypes"
   ]
  },
  {
   "cell_type": "code",
   "execution_count": 7,
   "metadata": {},
   "outputs": [
    {
     "name": "stdout",
     "output_type": "stream",
     "text": [
      "<class 'pandas.core.frame.DataFrame'>\n",
      "RangeIndex: 65437 entries, 0 to 65436\n",
      "Columns: 114 entries, ResponseId to JobSat\n",
      "dtypes: float64(13), int64(1), object(100)\n",
      "memory usage: 56.9+ MB\n"
     ]
    }
   ],
   "source": [
    "df.info()"
   ]
  },
  {
   "cell_type": "code",
   "execution_count": 8,
   "metadata": {},
   "outputs": [
    {
     "name": "stdout",
     "output_type": "stream",
     "text": [
      "ResponseId                 0\n",
      "MainBranch                 0\n",
      "Age                        0\n",
      "Employment                 0\n",
      "RemoteWork             10631\n",
      "                       ...  \n",
      "JobSatPoints_11        35992\n",
      "SurveyLength            9255\n",
      "SurveyEase              9199\n",
      "ConvertedCompYearly    42002\n",
      "JobSat                 36311\n",
      "Length: 114, dtype: int64\n"
     ]
    }
   ],
   "source": [
    "missing_values = df.isnull().sum()\n",
    "print(missing_values)"
   ]
  },
  {
   "cell_type": "markdown",
   "metadata": {},
   "source": [
    "<h5>2.2 Generate basic statistics for numerical columns.</h5>\n"
   ]
  },
  {
   "cell_type": "code",
   "execution_count": 9,
   "metadata": {},
   "outputs": [
    {
     "data": {
      "text/html": [
       "<div>\n",
       "<style scoped>\n",
       "    .dataframe tbody tr th:only-of-type {\n",
       "        vertical-align: middle;\n",
       "    }\n",
       "\n",
       "    .dataframe tbody tr th {\n",
       "        vertical-align: top;\n",
       "    }\n",
       "\n",
       "    .dataframe thead th {\n",
       "        text-align: right;\n",
       "    }\n",
       "</style>\n",
       "<table border=\"1\" class=\"dataframe\">\n",
       "  <thead>\n",
       "    <tr style=\"text-align: right;\">\n",
       "      <th></th>\n",
       "      <th>JobSatPoints_6</th>\n",
       "      <th>JobSatPoints_7</th>\n",
       "      <th>JobSatPoints_8</th>\n",
       "      <th>JobSatPoints_9</th>\n",
       "      <th>JobSatPoints_10</th>\n",
       "      <th>JobSatPoints_11</th>\n",
       "      <th>JobSat</th>\n",
       "      <th>ConvertedCompYearly</th>\n",
       "    </tr>\n",
       "  </thead>\n",
       "  <tbody>\n",
       "    <tr>\n",
       "      <th>count</th>\n",
       "      <td>29450.000000</td>\n",
       "      <td>29448.00000</td>\n",
       "      <td>29456.000000</td>\n",
       "      <td>29456.000000</td>\n",
       "      <td>29450.000000</td>\n",
       "      <td>29445.000000</td>\n",
       "      <td>29126.000000</td>\n",
       "      <td>2.343500e+04</td>\n",
       "    </tr>\n",
       "    <tr>\n",
       "      <th>mean</th>\n",
       "      <td>24.343232</td>\n",
       "      <td>22.96522</td>\n",
       "      <td>20.278165</td>\n",
       "      <td>16.169432</td>\n",
       "      <td>10.955713</td>\n",
       "      <td>9.953948</td>\n",
       "      <td>6.935041</td>\n",
       "      <td>8.615529e+04</td>\n",
       "    </tr>\n",
       "    <tr>\n",
       "      <th>std</th>\n",
       "      <td>27.089360</td>\n",
       "      <td>27.01774</td>\n",
       "      <td>26.108110</td>\n",
       "      <td>24.845032</td>\n",
       "      <td>22.906263</td>\n",
       "      <td>21.775652</td>\n",
       "      <td>2.088259</td>\n",
       "      <td>1.867570e+05</td>\n",
       "    </tr>\n",
       "    <tr>\n",
       "      <th>min</th>\n",
       "      <td>0.000000</td>\n",
       "      <td>0.00000</td>\n",
       "      <td>0.000000</td>\n",
       "      <td>0.000000</td>\n",
       "      <td>0.000000</td>\n",
       "      <td>0.000000</td>\n",
       "      <td>0.000000</td>\n",
       "      <td>1.000000e+00</td>\n",
       "    </tr>\n",
       "    <tr>\n",
       "      <th>25%</th>\n",
       "      <td>0.000000</td>\n",
       "      <td>0.00000</td>\n",
       "      <td>0.000000</td>\n",
       "      <td>0.000000</td>\n",
       "      <td>0.000000</td>\n",
       "      <td>0.000000</td>\n",
       "      <td>6.000000</td>\n",
       "      <td>3.271200e+04</td>\n",
       "    </tr>\n",
       "    <tr>\n",
       "      <th>50%</th>\n",
       "      <td>20.000000</td>\n",
       "      <td>15.00000</td>\n",
       "      <td>10.000000</td>\n",
       "      <td>5.000000</td>\n",
       "      <td>0.000000</td>\n",
       "      <td>0.000000</td>\n",
       "      <td>7.000000</td>\n",
       "      <td>6.500000e+04</td>\n",
       "    </tr>\n",
       "    <tr>\n",
       "      <th>75%</th>\n",
       "      <td>30.000000</td>\n",
       "      <td>30.00000</td>\n",
       "      <td>25.000000</td>\n",
       "      <td>20.000000</td>\n",
       "      <td>10.000000</td>\n",
       "      <td>10.000000</td>\n",
       "      <td>8.000000</td>\n",
       "      <td>1.079715e+05</td>\n",
       "    </tr>\n",
       "    <tr>\n",
       "      <th>max</th>\n",
       "      <td>100.000000</td>\n",
       "      <td>100.00000</td>\n",
       "      <td>100.000000</td>\n",
       "      <td>100.000000</td>\n",
       "      <td>100.000000</td>\n",
       "      <td>100.000000</td>\n",
       "      <td>10.000000</td>\n",
       "      <td>1.625660e+07</td>\n",
       "    </tr>\n",
       "  </tbody>\n",
       "</table>\n",
       "</div>"
      ],
      "text/plain": [
       "       JobSatPoints_6  JobSatPoints_7  JobSatPoints_8  JobSatPoints_9  \\\n",
       "count    29450.000000     29448.00000    29456.000000    29456.000000   \n",
       "mean        24.343232        22.96522       20.278165       16.169432   \n",
       "std         27.089360        27.01774       26.108110       24.845032   \n",
       "min          0.000000         0.00000        0.000000        0.000000   \n",
       "25%          0.000000         0.00000        0.000000        0.000000   \n",
       "50%         20.000000        15.00000       10.000000        5.000000   \n",
       "75%         30.000000        30.00000       25.000000       20.000000   \n",
       "max        100.000000       100.00000      100.000000      100.000000   \n",
       "\n",
       "       JobSatPoints_10  JobSatPoints_11        JobSat  ConvertedCompYearly  \n",
       "count     29450.000000     29445.000000  29126.000000         2.343500e+04  \n",
       "mean         10.955713         9.953948      6.935041         8.615529e+04  \n",
       "std          22.906263        21.775652      2.088259         1.867570e+05  \n",
       "min           0.000000         0.000000      0.000000         1.000000e+00  \n",
       "25%           0.000000         0.000000      6.000000         3.271200e+04  \n",
       "50%           0.000000         0.000000      7.000000         6.500000e+04  \n",
       "75%          10.000000        10.000000      8.000000         1.079715e+05  \n",
       "max         100.000000       100.000000     10.000000         1.625660e+07  "
      ]
     },
     "execution_count": 9,
     "metadata": {},
     "output_type": "execute_result"
    }
   ],
   "source": [
    "df[[\"JobSatPoints_6\", \"JobSatPoints_7\", \"JobSatPoints_8\", \"JobSatPoints_9\", \"JobSatPoints_10\", \"JobSatPoints_11\", \"JobSat\", \"ConvertedCompYearly\"]].describe()"
   ]
  },
  {
   "cell_type": "markdown",
   "metadata": {},
   "source": [
    "### 3. Identifying and Removing Inconsistencies\n"
   ]
  },
  {
   "cell_type": "markdown",
   "metadata": {},
   "source": [
    "<h5>3.1 Identify inconsistent or irrelevant entries in specific columns (e.g., Country).</h5>\n"
   ]
  },
  {
   "cell_type": "code",
   "execution_count": 11,
   "metadata": {},
   "outputs": [
    {
     "name": "stdout",
     "output_type": "stream",
     "text": [
      "Inconsistent entries based on pattern:\n",
      "        ResponseId                      MainBranch                 Age  \\\n",
      "0               1  I am a developer by profession  Under 18 years old   \n",
      "1               2  I am a developer by profession     35-44 years old   \n",
      "2               3  I am a developer by profession     45-54 years old   \n",
      "3               4           I am learning to code     18-24 years old   \n",
      "4               5  I am a developer by profession     18-24 years old   \n",
      "...           ...                             ...                 ...   \n",
      "65432       65433  I am a developer by profession     18-24 years old   \n",
      "65433       65434  I am a developer by profession     25-34 years old   \n",
      "65434       65435  I am a developer by profession     25-34 years old   \n",
      "65435       65436  I am a developer by profession     18-24 years old   \n",
      "65436       65437     I code primarily as a hobby     18-24 years old   \n",
      "\n",
      "                Employment                            RemoteWork   Check  \\\n",
      "0      Employed, full-time                                Remote  Apples   \n",
      "1      Employed, full-time                                Remote  Apples   \n",
      "2      Employed, full-time                                Remote  Apples   \n",
      "3       Student, full-time                                   NaN  Apples   \n",
      "4       Student, full-time                                   NaN  Apples   \n",
      "...                    ...                                   ...     ...   \n",
      "65432  Employed, full-time                                Remote  Apples   \n",
      "65433  Employed, full-time                                Remote  Apples   \n",
      "65434  Employed, full-time                             In-person  Apples   \n",
      "65435  Employed, full-time  Hybrid (some remote, some in-person)  Apples   \n",
      "65436   Student, full-time                                   NaN  Apples   \n",
      "\n",
      "                                        CodingActivities  \\\n",
      "0                                                  Hobby   \n",
      "1      Hobby;Contribute to open-source projects;Other...   \n",
      "2      Hobby;Contribute to open-source projects;Other...   \n",
      "3                                                    NaN   \n",
      "4                                                    NaN   \n",
      "...                                                  ...   \n",
      "65432                      Hobby;School or academic work   \n",
      "65433           Hobby;Contribute to open-source projects   \n",
      "65434                                              Hobby   \n",
      "65435  Hobby;Contribute to open-source projects;Profe...   \n",
      "65436                                                NaN   \n",
      "\n",
      "                                                 EdLevel  \\\n",
      "0                              Primary/elementary school   \n",
      "1           Bachelor’s degree (B.A., B.S., B.Eng., etc.)   \n",
      "2        Master’s degree (M.A., M.S., M.Eng., MBA, etc.)   \n",
      "3      Some college/university study without earning ...   \n",
      "4      Secondary school (e.g. American high school, G...   \n",
      "...                                                  ...   \n",
      "65432       Bachelor’s degree (B.A., B.S., B.Eng., etc.)   \n",
      "65433                                                NaN   \n",
      "65434       Bachelor’s degree (B.A., B.S., B.Eng., etc.)   \n",
      "65435  Secondary school (e.g. American high school, G...   \n",
      "65436                                                NaN   \n",
      "\n",
      "                                               LearnCode  \\\n",
      "0                                 Books / Physical media   \n",
      "1      Books / Physical media;Colleague;On the job tr...   \n",
      "2      Books / Physical media;Colleague;On the job tr...   \n",
      "3      Other online resources (e.g., videos, blogs, f...   \n",
      "4      Other online resources (e.g., videos, blogs, f...   \n",
      "...                                                  ...   \n",
      "65432  On the job training;School (i.e., University, ...   \n",
      "65433                                                NaN   \n",
      "65434  Other online resources (e.g., videos, blogs, f...   \n",
      "65435  On the job training;Other online resources (e....   \n",
      "65436                                                NaN   \n",
      "\n",
      "                                         LearnCodeOnline  ... JobSatPoints_6  \\\n",
      "0                                                    NaN  ...            NaN   \n",
      "1      Technical documentation;Blogs;Books;Written Tu...  ...            0.0   \n",
      "2      Technical documentation;Blogs;Books;Written Tu...  ...            NaN   \n",
      "3      Stack Overflow;How-to videos;Interactive tutorial  ...            NaN   \n",
      "4      Technical documentation;Blogs;Written Tutorial...  ...            NaN   \n",
      "...                                                  ...  ...            ...   \n",
      "65432                                                NaN  ...            NaN   \n",
      "65433                                                NaN  ...            NaN   \n",
      "65434  Technical documentation;Stack Overflow;Social ...  ...            NaN   \n",
      "65435  Technical documentation;Blogs;Written Tutorial...  ...            0.0   \n",
      "65436                                                NaN  ...            NaN   \n",
      "\n",
      "      JobSatPoints_7 JobSatPoints_8 JobSatPoints_9 JobSatPoints_10  \\\n",
      "0                NaN            NaN            NaN             NaN   \n",
      "1                0.0            0.0            0.0             0.0   \n",
      "2                NaN            NaN            NaN             NaN   \n",
      "3                NaN            NaN            NaN             NaN   \n",
      "4                NaN            NaN            NaN             NaN   \n",
      "...              ...            ...            ...             ...   \n",
      "65432            NaN            NaN            NaN             NaN   \n",
      "65433            NaN            NaN            NaN             NaN   \n",
      "65434            NaN            NaN            NaN             NaN   \n",
      "65435            0.0            0.0            0.0             0.0   \n",
      "65436            NaN            NaN            NaN             NaN   \n",
      "\n",
      "      JobSatPoints_11           SurveyLength SurveyEase ConvertedCompYearly  \\\n",
      "0                 NaN                    NaN        NaN                 NaN   \n",
      "1                 0.0                    NaN        NaN                 NaN   \n",
      "2                 NaN  Appropriate in length       Easy                 NaN   \n",
      "3                 NaN               Too long       Easy                 NaN   \n",
      "4                 NaN              Too short       Easy                 NaN   \n",
      "...               ...                    ...        ...                 ...   \n",
      "65432             NaN                    NaN        NaN                 NaN   \n",
      "65433             NaN                    NaN        NaN                 NaN   \n",
      "65434             NaN                    NaN        NaN                 NaN   \n",
      "65435             0.0                    NaN        NaN                 NaN   \n",
      "65436             NaN                    NaN        NaN                 NaN   \n",
      "\n",
      "      JobSat  \n",
      "0        NaN  \n",
      "1        NaN  \n",
      "2        NaN  \n",
      "3        NaN  \n",
      "4        NaN  \n",
      "...      ...  \n",
      "65432    NaN  \n",
      "65433    NaN  \n",
      "65434    NaN  \n",
      "65435    NaN  \n",
      "65436    NaN  \n",
      "\n",
      "[65437 rows x 114 columns]\n"
     ]
    }
   ],
   "source": [
    "pattern = r'^[A-Za-z]+\\s\\d+$'\n",
    "inconsistent_entries = df[~df['Country'].astype(str).str.contains(pattern, na=False)]\n",
    "print(\"Inconsistent entries based on pattern:\\n\", inconsistent_entries)"
   ]
  },
  {
   "cell_type": "markdown",
   "metadata": {},
   "source": [
    "<h5>3.2 Standardize entries in columns like Country or EdLevel by mapping inconsistent values to a consistent format.</h5>\n"
   ]
  },
  {
   "cell_type": "code",
   "execution_count": 12,
   "metadata": {},
   "outputs": [
    {
     "data": {
      "text/plain": [
       "Index(['United States of America', 'Germany', 'India',\n",
       "       'United Kingdom of Great Britain and Northern Ireland', 'Ukraine',\n",
       "       'France', 'Canada', 'Poland', 'Netherlands', 'Brazil',\n",
       "       ...\n",
       "       'Niger', 'Guinea', 'Saint Kitts and Nevis', 'Lesotho', 'Haiti',\n",
       "       'Micronesia, Federated States of...', 'Nauru', 'Chad', 'Djibouti',\n",
       "       'Solomon Islands'],\n",
       "      dtype='object', name='Country', length=185)"
      ]
     },
     "execution_count": 12,
     "metadata": {},
     "output_type": "execute_result"
    }
   ],
   "source": [
    "df.Country.value_counts().index"
   ]
  },
  {
   "cell_type": "code",
   "execution_count": 3,
   "metadata": {},
   "outputs": [
    {
     "name": "stdout",
     "output_type": "stream",
     "text": [
      "            Country\n",
      "0               USA\n",
      "1           Germany\n",
      "2             India\n",
      "3                UK\n",
      "4           Ukraine\n",
      "5            France\n",
      "6            Canada\n",
      "7            Poland\n",
      "8       Netherlands\n",
      "9            Brazil\n",
      "10            Niger\n",
      "11           Guinea\n",
      "12   St.Kitts/Nevis\n",
      "13          Lesotho\n",
      "14            Haiti\n",
      "15       Micronesia\n",
      "16            Nauru\n",
      "17             Chad\n",
      "18         Djibouti\n",
      "19  Solomon Islands\n"
     ]
    }
   ],
   "source": [
    "def standardize_column(df, Country, mapping):\n",
    "    df[Country] = df[Country].map(mapping).fillna(df[Country])\n",
    "    return df\n",
    "data = {'Country': ['United States of America', 'Germany', 'India',\n",
    "       'United Kingdom of Great Britain and Northern Ireland', 'Ukraine',\n",
    "       'France', 'Canada', 'Poland', 'Netherlands', 'Brazil',\n",
    "       'Niger', 'Guinea', 'Saint Kitts and Nevis', 'Lesotho', 'Haiti',\n",
    "       'Micronesia, Federated States of...', 'Nauru', 'Chad', 'Djibouti',\n",
    "       'Solomon Islands']}\n",
    "df = pd.DataFrame(data)\n",
    "\n",
    "Country_mapping = {\n",
    "        'United States of America': 'USA', \n",
    "        'Germany': 'Germany', \n",
    "        'India': 'India',\n",
    "        'United Kingdom of Great Britain and Northern Ireland': 'UK', \n",
    "        'Ukraine': 'Ukraine',\n",
    "        'France': 'France', \n",
    "        'Canada': 'Canada',\n",
    "        'Poland': 'Poland',\n",
    "        'Netherlands': 'Netherlands',\n",
    "        'Brazil': 'Brazil',\n",
    "        'Niger': 'Niger', \n",
    "        'Guinea': 'Guinea', \n",
    "        'Saint Kitts and Nevis': 'St.Kitts/Nevis', \n",
    "        'Lesotho': 'Lesotho', \n",
    "        'Haiti': 'Haiti',\n",
    "        'Micronesia, Federated States of...': 'Micronesia', \n",
    "        'Nauru': 'Nauru', \n",
    "        'Chad': 'Chad', \n",
    "        'Djibouti': 'Djibouti',\n",
    "        'Solomon Islands': 'Solomon Islands'\n",
    "}\n",
    "\n",
    "df = standardize_column(df, 'Country', Country_mapping)\n",
    "print(df)"
   ]
  },
  {
   "cell_type": "code",
   "execution_count": 4,
   "metadata": {},
   "outputs": [
    {
     "name": "stdout",
     "output_type": "stream",
     "text": [
      "                   EdLevel\n",
      "0          Bachelor Degree\n",
      "1            Master Degree\n",
      "2  Some College/University\n",
      "3       Highschool Diploma\n",
      "4         Doctorate Degree\n",
      "5         Associate Degree\n",
      "6           Primary School\n",
      "7                    Other\n"
     ]
    }
   ],
   "source": [
    "def standardize_column(df, EdLevel, mapping):\n",
    "    df[EdLevel] = df[EdLevel].map(mapping).fillna(df[EdLevel])\n",
    "    return df\n",
    "\n",
    "data = {'EdLevel': ['Bachelor’s degree (B.A., B.S., B.Eng., etc.)',\n",
    "       'Master’s degree (M.A., M.S., M.Eng., MBA, etc.)',\n",
    "       'Some college/university study without earning a degree',\n",
    "       'Secondary school (e.g. American high school, German Realschule or Gymnasium, etc.)',\n",
    "       'Professional degree (JD, MD, Ph.D, Ed.D, etc.)',\n",
    "       'Associate degree (A.A., A.S., etc.)', 'Primary/elementary school',\n",
    "       'Something else']}\n",
    "df = pd.DataFrame(data)\n",
    "\n",
    "EdLevel_mapping = {\n",
    "   'Bachelor’s degree (B.A., B.S., B.Eng., etc.)': 'Bachelor Degree',\n",
    "       'Master’s degree (M.A., M.S., M.Eng., MBA, etc.)': 'Master Degree',\n",
    "       'Some college/university study without earning a degree': 'Some College/University',\n",
    "       'Secondary school (e.g. American high school, German Realschule or Gymnasium, etc.)': 'Highschool Diploma',\n",
    "       'Professional degree (JD, MD, Ph.D, Ed.D, etc.)': 'Doctorate Degree',\n",
    "       'Associate degree (A.A., A.S., etc.)': 'Associate Degree',\n",
    "       'Primary/elementary school': 'Primary School',\n",
    "       'Something else': 'Other'\n",
    "}\n",
    "\n",
    "df = standardize_column(df, 'EdLevel', EdLevel_mapping)\n",
    "print(df)"
   ]
  },
  {
   "cell_type": "markdown",
   "metadata": {},
   "source": [
    "### 4. Encoding Categorical Variables\n"
   ]
  },
  {
   "cell_type": "markdown",
   "metadata": {},
   "source": [
    "<h5>4.1 Encode the Employment column using one-hot encoding.</h5>\n"
   ]
  },
  {
   "cell_type": "code",
   "execution_count": 5,
   "metadata": {},
   "outputs": [
    {
     "name": "stdout",
     "output_type": "stream",
     "text": [
      "    Employment_Employed, full-time  \\\n",
      "0                             True   \n",
      "1                            False   \n",
      "2                            False   \n",
      "3                            False   \n",
      "4                            False   \n",
      "5                            False   \n",
      "6                            False   \n",
      "7                            False   \n",
      "8                            False   \n",
      "9                            False   \n",
      "10                           False   \n",
      "11                           False   \n",
      "12                           False   \n",
      "13                           False   \n",
      "14                           False   \n",
      "15                           False   \n",
      "16                           False   \n",
      "17                           False   \n",
      "18                           False   \n",
      "19                           False   \n",
      "\n",
      "    Employment_Employed, full-time;Independent contractor, freelancer, or self-employed  \\\n",
      "0                                               False                                     \n",
      "1                                               False                                     \n",
      "2                                               False                                     \n",
      "3                                                True                                     \n",
      "4                                               False                                     \n",
      "5                                               False                                     \n",
      "6                                               False                                     \n",
      "7                                               False                                     \n",
      "8                                               False                                     \n",
      "9                                               False                                     \n",
      "10                                              False                                     \n",
      "11                                              False                                     \n",
      "12                                              False                                     \n",
      "13                                              False                                     \n",
      "14                                              False                                     \n",
      "15                                              False                                     \n",
      "16                                              False                                     \n",
      "17                                              False                                     \n",
      "18                                              False                                     \n",
      "19                                              False                                     \n",
      "\n",
      "    Employment_Employed, full-time;Not employed, but looking for work;Not employed, and not looking for work;Employed, part-time  \\\n",
      "0                                               False                                                                              \n",
      "1                                               False                                                                              \n",
      "2                                               False                                                                              \n",
      "3                                               False                                                                              \n",
      "4                                               False                                                                              \n",
      "5                                               False                                                                              \n",
      "6                                               False                                                                              \n",
      "7                                               False                                                                              \n",
      "8                                               False                                                                              \n",
      "9                                               False                                                                              \n",
      "10                                              False                                                                              \n",
      "11                                               True                                                                              \n",
      "12                                              False                                                                              \n",
      "13                                              False                                                                              \n",
      "14                                              False                                                                              \n",
      "15                                              False                                                                              \n",
      "16                                              False                                                                              \n",
      "17                                              False                                                                              \n",
      "18                                              False                                                                              \n",
      "19                                              False                                                                              \n",
      "\n",
      "    Employment_Employed, full-time;Not employed, but looking for work;Student, part-time  \\\n",
      "0                                               False                                      \n",
      "1                                               False                                      \n",
      "2                                               False                                      \n",
      "3                                               False                                      \n",
      "4                                               False                                      \n",
      "5                                               False                                      \n",
      "6                                               False                                      \n",
      "7                                               False                                      \n",
      "8                                               False                                      \n",
      "9                                               False                                      \n",
      "10                                              False                                      \n",
      "11                                              False                                      \n",
      "12                                              False                                      \n",
      "13                                              False                                      \n",
      "14                                              False                                      \n",
      "15                                              False                                      \n",
      "16                                              False                                      \n",
      "17                                               True                                      \n",
      "18                                              False                                      \n",
      "19                                              False                                      \n",
      "\n",
      "    Employment_Employed, full-time;Student, full-time  \\\n",
      "0                                               False   \n",
      "1                                               False   \n",
      "2                                               False   \n",
      "3                                               False   \n",
      "4                                               False   \n",
      "5                                               False   \n",
      "6                                               False   \n",
      "7                                                True   \n",
      "8                                               False   \n",
      "9                                               False   \n",
      "10                                              False   \n",
      "11                                              False   \n",
      "12                                              False   \n",
      "13                                              False   \n",
      "14                                              False   \n",
      "15                                              False   \n",
      "16                                              False   \n",
      "17                                              False   \n",
      "18                                              False   \n",
      "19                                              False   \n",
      "\n",
      "    Employment_Employed, full-time;Student, full-time;Independent contractor, freelancer, or self-employed;Student, part-time;Retired  \\\n",
      "0                                               False                                                                                   \n",
      "1                                               False                                                                                   \n",
      "2                                               False                                                                                   \n",
      "3                                               False                                                                                   \n",
      "4                                               False                                                                                   \n",
      "5                                               False                                                                                   \n",
      "6                                               False                                                                                   \n",
      "7                                               False                                                                                   \n",
      "8                                               False                                                                                   \n",
      "9                                               False                                                                                   \n",
      "10                                              False                                                                                   \n",
      "11                                              False                                                                                   \n",
      "12                                               True                                                                                   \n",
      "13                                              False                                                                                   \n",
      "14                                              False                                                                                   \n",
      "15                                              False                                                                                   \n",
      "16                                              False                                                                                   \n",
      "17                                              False                                                                                   \n",
      "18                                              False                                                                                   \n",
      "19                                              False                                                                                   \n",
      "\n",
      "    Employment_Employed, full-time;Student, full-time;Not employed, but looking for work;Independent contractor, freelancer, or self-employed  \\\n",
      "0                                               False                                                                                           \n",
      "1                                               False                                                                                           \n",
      "2                                               False                                                                                           \n",
      "3                                               False                                                                                           \n",
      "4                                               False                                                                                           \n",
      "5                                               False                                                                                           \n",
      "6                                               False                                                                                           \n",
      "7                                               False                                                                                           \n",
      "8                                               False                                                                                           \n",
      "9                                               False                                                                                           \n",
      "10                                               True                                                                                           \n",
      "11                                              False                                                                                           \n",
      "12                                              False                                                                                           \n",
      "13                                              False                                                                                           \n",
      "14                                              False                                                                                           \n",
      "15                                              False                                                                                           \n",
      "16                                              False                                                                                           \n",
      "17                                              False                                                                                           \n",
      "18                                              False                                                                                           \n",
      "19                                              False                                                                                           \n",
      "\n",
      "    Employment_Employed, full-time;Student, full-time;Not employed, but looking for work;Independent contractor, freelancer, or self-employed;Student, part-time;Employed, part-time;Retired  \\\n",
      "0                                               False                                                                                                                                          \n",
      "1                                               False                                                                                                                                          \n",
      "2                                               False                                                                                                                                          \n",
      "3                                               False                                                                                                                                          \n",
      "4                                               False                                                                                                                                          \n",
      "5                                               False                                                                                                                                          \n",
      "6                                               False                                                                                                                                          \n",
      "7                                               False                                                                                                                                          \n",
      "8                                               False                                                                                                                                          \n",
      "9                                               False                                                                                                                                          \n",
      "10                                              False                                                                                                                                          \n",
      "11                                              False                                                                                                                                          \n",
      "12                                              False                                                                                                                                          \n",
      "13                                              False                                                                                                                                          \n",
      "14                                               True                                                                                                                                          \n",
      "15                                              False                                                                                                                                          \n",
      "16                                              False                                                                                                                                          \n",
      "17                                              False                                                                                                                                          \n",
      "18                                              False                                                                                                                                          \n",
      "19                                              False                                                                                                                                          \n",
      "\n",
      "    Employment_Employed, full-time;Student, full-time;Not employed, but looking for work;Student, part-time;Employed, part-time  \\\n",
      "0                                               False                                                                             \n",
      "1                                               False                                                                             \n",
      "2                                               False                                                                             \n",
      "3                                               False                                                                             \n",
      "4                                               False                                                                             \n",
      "5                                               False                                                                             \n",
      "6                                               False                                                                             \n",
      "7                                               False                                                                             \n",
      "8                                               False                                                                             \n",
      "9                                               False                                                                             \n",
      "10                                              False                                                                             \n",
      "11                                              False                                                                             \n",
      "12                                              False                                                                             \n",
      "13                                               True                                                                             \n",
      "14                                              False                                                                             \n",
      "15                                              False                                                                             \n",
      "16                                              False                                                                             \n",
      "17                                              False                                                                             \n",
      "18                                              False                                                                             \n",
      "19                                              False                                                                             \n",
      "\n",
      "    Employment_Employed, full-time;Student, part-time  \\\n",
      "0                                               False   \n",
      "1                                               False   \n",
      "2                                               False   \n",
      "3                                               False   \n",
      "4                                               False   \n",
      "5                                               False   \n",
      "6                                               False   \n",
      "7                                               False   \n",
      "8                                                True   \n",
      "9                                               False   \n",
      "10                                              False   \n",
      "11                                              False   \n",
      "12                                              False   \n",
      "13                                              False   \n",
      "14                                              False   \n",
      "15                                              False   \n",
      "16                                              False   \n",
      "17                                              False   \n",
      "18                                              False   \n",
      "19                                              False   \n",
      "\n",
      "    Employment_Employed, part-time  \\\n",
      "0                            False   \n",
      "1                            False   \n",
      "2                            False   \n",
      "3                            False   \n",
      "4                            False   \n",
      "5                             True   \n",
      "6                            False   \n",
      "7                            False   \n",
      "8                            False   \n",
      "9                            False   \n",
      "10                           False   \n",
      "11                           False   \n",
      "12                           False   \n",
      "13                           False   \n",
      "14                           False   \n",
      "15                           False   \n",
      "16                           False   \n",
      "17                           False   \n",
      "18                           False   \n",
      "19                           False   \n",
      "\n",
      "    Employment_Independent contractor, freelancer, or self-employed  \\\n",
      "0                                               False                 \n",
      "1                                                True                 \n",
      "2                                               False                 \n",
      "3                                               False                 \n",
      "4                                               False                 \n",
      "5                                               False                 \n",
      "6                                               False                 \n",
      "7                                               False                 \n",
      "8                                               False                 \n",
      "9                                               False                 \n",
      "10                                              False                 \n",
      "11                                              False                 \n",
      "12                                              False                 \n",
      "13                                              False                 \n",
      "14                                              False                 \n",
      "15                                              False                 \n",
      "16                                              False                 \n",
      "17                                              False                 \n",
      "18                                              False                 \n",
      "19                                              False                 \n",
      "\n",
      "    Employment_Not employed, and not looking for work;Student, part-time;Employed, part-time  \\\n",
      "0                                               False                                          \n",
      "1                                               False                                          \n",
      "2                                               False                                          \n",
      "3                                               False                                          \n",
      "4                                               False                                          \n",
      "5                                               False                                          \n",
      "6                                               False                                          \n",
      "7                                               False                                          \n",
      "8                                               False                                          \n",
      "9                                               False                                          \n",
      "10                                              False                                          \n",
      "11                                              False                                          \n",
      "12                                              False                                          \n",
      "13                                              False                                          \n",
      "14                                              False                                          \n",
      "15                                              False                                          \n",
      "16                                              False                                          \n",
      "17                                              False                                          \n",
      "18                                               True                                          \n",
      "19                                              False                                          \n",
      "\n",
      "    Employment_Not employed, but looking for work  \\\n",
      "0                                           False   \n",
      "1                                           False   \n",
      "2                                           False   \n",
      "3                                           False   \n",
      "4                                            True   \n",
      "5                                           False   \n",
      "6                                           False   \n",
      "7                                           False   \n",
      "8                                           False   \n",
      "9                                           False   \n",
      "10                                          False   \n",
      "11                                          False   \n",
      "12                                          False   \n",
      "13                                          False   \n",
      "14                                          False   \n",
      "15                                          False   \n",
      "16                                          False   \n",
      "17                                          False   \n",
      "18                                          False   \n",
      "19                                          False   \n",
      "\n",
      "    Employment_Not employed, but looking for work;Independent contractor, freelancer, or self-employed;Not employed, and not looking for work;Employed, part-time  \\\n",
      "0                                               False                                                                                                               \n",
      "1                                               False                                                                                                               \n",
      "2                                               False                                                                                                               \n",
      "3                                               False                                                                                                               \n",
      "4                                               False                                                                                                               \n",
      "5                                               False                                                                                                               \n",
      "6                                               False                                                                                                               \n",
      "7                                               False                                                                                                               \n",
      "8                                               False                                                                                                               \n",
      "9                                               False                                                                                                               \n",
      "10                                              False                                                                                                               \n",
      "11                                              False                                                                                                               \n",
      "12                                              False                                                                                                               \n",
      "13                                              False                                                                                                               \n",
      "14                                              False                                                                                                               \n",
      "15                                               True                                                                                                               \n",
      "16                                              False                                                                                                               \n",
      "17                                              False                                                                                                               \n",
      "18                                              False                                                                                                               \n",
      "19                                              False                                                                                                               \n",
      "\n",
      "    Employment_Not employed, but looking for work;Independent contractor, freelancer, or self-employed;Student, part-time;Retired  \\\n",
      "0                                               False                                                                               \n",
      "1                                               False                                                                               \n",
      "2                                               False                                                                               \n",
      "3                                               False                                                                               \n",
      "4                                               False                                                                               \n",
      "5                                               False                                                                               \n",
      "6                                               False                                                                               \n",
      "7                                               False                                                                               \n",
      "8                                               False                                                                               \n",
      "9                                               False                                                                               \n",
      "10                                              False                                                                               \n",
      "11                                              False                                                                               \n",
      "12                                              False                                                                               \n",
      "13                                              False                                                                               \n",
      "14                                              False                                                                               \n",
      "15                                              False                                                                               \n",
      "16                                              False                                                                               \n",
      "17                                              False                                                                               \n",
      "18                                              False                                                                               \n",
      "19                                               True                                                                               \n",
      "\n",
      "    Employment_Student, full-time  \\\n",
      "0                           False   \n",
      "1                           False   \n",
      "2                            True   \n",
      "3                           False   \n",
      "4                           False   \n",
      "5                           False   \n",
      "6                           False   \n",
      "7                           False   \n",
      "8                           False   \n",
      "9                           False   \n",
      "10                          False   \n",
      "11                          False   \n",
      "12                          False   \n",
      "13                          False   \n",
      "14                          False   \n",
      "15                          False   \n",
      "16                          False   \n",
      "17                          False   \n",
      "18                          False   \n",
      "19                          False   \n",
      "\n",
      "    Employment_Student, full-time;Employed, part-time  \\\n",
      "0                                               False   \n",
      "1                                               False   \n",
      "2                                               False   \n",
      "3                                               False   \n",
      "4                                               False   \n",
      "5                                               False   \n",
      "6                                                True   \n",
      "7                                               False   \n",
      "8                                               False   \n",
      "9                                               False   \n",
      "10                                              False   \n",
      "11                                              False   \n",
      "12                                              False   \n",
      "13                                              False   \n",
      "14                                              False   \n",
      "15                                              False   \n",
      "16                                              False   \n",
      "17                                              False   \n",
      "18                                              False   \n",
      "19                                              False   \n",
      "\n",
      "    Employment_Student, full-time;Not employed, but looking for work  \\\n",
      "0                                               False                  \n",
      "1                                               False                  \n",
      "2                                               False                  \n",
      "3                                               False                  \n",
      "4                                               False                  \n",
      "5                                               False                  \n",
      "6                                               False                  \n",
      "7                                               False                  \n",
      "8                                               False                  \n",
      "9                                                True                  \n",
      "10                                              False                  \n",
      "11                                              False                  \n",
      "12                                              False                  \n",
      "13                                              False                  \n",
      "14                                              False                  \n",
      "15                                              False                  \n",
      "16                                              False                  \n",
      "17                                              False                  \n",
      "18                                              False                  \n",
      "19                                              False                  \n",
      "\n",
      "    Employment_Student, full-time;Retired  \n",
      "0                                   False  \n",
      "1                                   False  \n",
      "2                                   False  \n",
      "3                                   False  \n",
      "4                                   False  \n",
      "5                                   False  \n",
      "6                                   False  \n",
      "7                                   False  \n",
      "8                                   False  \n",
      "9                                   False  \n",
      "10                                  False  \n",
      "11                                  False  \n",
      "12                                  False  \n",
      "13                                  False  \n",
      "14                                  False  \n",
      "15                                  False  \n",
      "16                                   True  \n",
      "17                                  False  \n",
      "18                                  False  \n",
      "19                                  False  \n"
     ]
    }
   ],
   "source": [
    "data = {'Employment': ['Employed, full-time',\n",
    "       'Independent contractor, freelancer, or self-employed',\n",
    "       'Student, full-time',\n",
    "       'Employed, full-time;Independent contractor, freelancer, or self-employed',\n",
    "       'Not employed, but looking for work', 'Employed, part-time',\n",
    "       'Student, full-time;Employed, part-time',\n",
    "       'Employed, full-time;Student, full-time',\n",
    "       'Employed, full-time;Student, part-time',\n",
    "       'Student, full-time;Not employed, but looking for work',\n",
    "       'Employed, full-time;Student, full-time;Not employed, but looking for work;Independent contractor, freelancer, or self-employed',\n",
    "       'Employed, full-time;Not employed, but looking for work;Not employed, and not looking for work;Employed, part-time',\n",
    "       'Employed, full-time;Student, full-time;Independent contractor, freelancer, or self-employed;Student, part-time;Retired',\n",
    "       'Employed, full-time;Student, full-time;Not employed, but looking for work;Student, part-time;Employed, part-time',\n",
    "       'Employed, full-time;Student, full-time;Not employed, but looking for work;Independent contractor, freelancer, or self-employed;Student, part-time;Employed, part-time;Retired',\n",
    "       'Not employed, but looking for work;Independent contractor, freelancer, or self-employed;Not employed, and not looking for work;Employed, part-time',\n",
    "       'Student, full-time;Retired',\n",
    "       'Employed, full-time;Not employed, but looking for work;Student, part-time',\n",
    "       'Not employed, and not looking for work;Student, part-time;Employed, part-time',\n",
    "       'Not employed, but looking for work;Independent contractor, freelancer, or self-employed;Student, part-time;Retired'\n",
    "    \n",
    "]}\n",
    "df = pd.DataFrame(data)\n",
    "\n",
    "df_encoded = pd.get_dummies(df, columns=['Employment'])\n",
    "\n",
    "print(df_encoded)"
   ]
  },
  {
   "cell_type": "markdown",
   "metadata": {},
   "source": [
    "### 5. Handling Missing Values\n"
   ]
  },
  {
   "cell_type": "markdown",
   "metadata": {},
   "source": [
    "<h5>5.1 Identify columns with the highest number of missing values.</h5>\n"
   ]
  },
  {
   "cell_type": "code",
   "execution_count": 24,
   "metadata": {},
   "outputs": [
    {
     "name": "stdout",
     "output_type": "stream",
     "text": [
      "AINextMuch less integrated    64289\n",
      "AINextLess integrated         63082\n",
      "AINextNo change               52939\n",
      "AINextMuch more integrated    51999\n",
      "EmbeddedAdmired               48704\n",
      "                              ...  \n",
      "YearsCode                      5568\n",
      "NEWSOSites                     5151\n",
      "LearnCode                      4949\n",
      "EdLevel                        4653\n",
      "AISelect                       4530\n",
      "Length: 108, dtype: int64\n"
     ]
    }
   ],
   "source": [
    "def find_missing_values(df):\n",
    "    missing_values = df.isnull().sum()\n",
    "    missing_values = missing_values[missing_values > 0]\n",
    "    return missing_values.sort_values(ascending=False)\n",
    "\n",
    "missing_counts = find_missing_values(df)\n",
    "print(missing_counts)"
   ]
  },
  {
   "cell_type": "markdown",
   "metadata": {},
   "source": [
    "<h5>5.2 Impute missing values in numerical columns (e.g., `ConvertedCompYearly`) with the mean or median.</h5>\n"
   ]
  },
  {
   "cell_type": "code",
   "execution_count": 25,
   "metadata": {},
   "outputs": [
    {
     "name": "stdout",
     "output_type": "stream",
     "text": [
      "Number of missing values in column 'ConvertedCompYearly': 0\n"
     ]
    }
   ],
   "source": [
    "column_name = 'ConvertedCompYearly'\n",
    "missing_count = df['ConvertedCompYearly'].isnull().sum()\n",
    "print(f\"Number of missing values in column '{'ConvertedCompYearly'}': {missing_count}\")"
   ]
  },
  {
   "cell_type": "code",
   "execution_count": 11,
   "metadata": {},
   "outputs": [
    {
     "data": {
      "text/plain": [
       "count    2.343500e+04\n",
       "mean     8.615529e+04\n",
       "std      1.867570e+05\n",
       "min      1.000000e+00\n",
       "25%      3.271200e+04\n",
       "50%      6.500000e+04\n",
       "75%      1.079715e+05\n",
       "max      1.625660e+07\n",
       "Name: ConvertedCompYearly, dtype: float64"
      ]
     },
     "execution_count": 11,
     "metadata": {},
     "output_type": "execute_result"
    }
   ],
   "source": [
    "df['ConvertedCompYearly'].describe()"
   ]
  },
  {
   "cell_type": "markdown",
   "metadata": {},
   "source": [
    "<h5>5.3 Impute missing values in categorical columns (e.g., `RemoteWork`) with the most frequent value.</h5>\n"
   ]
  },
  {
   "cell_type": "code",
   "execution_count": 26,
   "metadata": {},
   "outputs": [
    {
     "name": "stdout",
     "output_type": "stream",
     "text": [
      "Most frequent value is Hybrid (some remote, some in-person)\n",
      "                             RemoteWork\n",
      "0  Hybrid (some remote, some in-person)\n",
      "1                                Remote\n",
      "2                             In-person\n"
     ]
    }
   ],
   "source": [
    "options = ['Hybrid (some remote, some in-person)', 'Remote', 'In-person']\n",
    "\n",
    "most_freq = pd.Series(options)\n",
    "most_freq_counts = most_freq.value_counts()\n",
    "print(\"Most frequent value is\", most_freq_counts.index[0])\n",
    "\n",
    "def impute_with_mode(df, RemoteWork):\n",
    "    mode_value = df['RemoteWork'].mode()[0]\n",
    "    df.fillna({'RemoteWork': mode_value}, inplace=True)\n",
    "    return df\n",
    "\n",
    "data = {'RemoteWork': ['Hybrid (some remote, some in-person)', 'Remote', 'In-person']}\n",
    "df = pd.DataFrame(data)\n",
    "\n",
    "df = impute_with_mode(df, 'RemoteWork')\n",
    "print(df)\n"
   ]
  },
  {
   "cell_type": "markdown",
   "metadata": {},
   "source": [
    "### 6. Feature Scaling and Transformation\n"
   ]
  },
  {
   "cell_type": "markdown",
   "metadata": {},
   "source": [
    "<h5>6.1 Apply Min-Max Scaling to normalize the `ConvertedCompYearly` column.</h5>\n"
   ]
  },
  {
   "cell_type": "code",
   "execution_count": 27,
   "metadata": {},
   "outputs": [
    {
     "name": "stdout",
     "output_type": "stream",
     "text": [
      "   ConvertedCompYearly  ConvertedCompYearly_MinMax\n",
      "0             23435.00                    0.001442\n",
      "1             86155.29                    0.005300\n",
      "2            186757.00                    0.011488\n",
      "3                 1.00                    0.000000\n",
      "4             32712.00                    0.002012\n",
      "5             65000.00                    0.003998\n",
      "6            107971.50                    0.006642\n",
      "7          16256600.00                    1.000000\n"
     ]
    }
   ],
   "source": [
    "def min_max_scale_column(df, ConvertedCompYearly):\n",
    "    min_value = df['ConvertedCompYearly'].min()\n",
    "    max_value = df['ConvertedCompYearly'].max()\n",
    "    df['ConvertedCompYearly_MinMax'] = (df['ConvertedCompYearly'] - min_value) / (max_value - min_value)\n",
    "    return df\n",
    "\n",
    "data = {'ConvertedCompYearly': [2.343500e+04, 8.615529e+04, 1.867570e+05, 1.000000e+00, 3.271200e+04, 6.500000e+04, 1.079715e+05, 1.625660e+07]}\n",
    "4,\n",
    "df = pd.DataFrame(data)\n",
    "\n",
    "df = min_max_scale_column(df, 'ConvertedCompYearly')\n",
    "print(df)"
   ]
  },
  {
   "cell_type": "markdown",
   "metadata": {},
   "source": [
    "<h5>6.2 Log-transform the ConvertedCompYearly column to reduce skewness.</h5>\n"
   ]
  },
  {
   "cell_type": "code",
   "execution_count": 28,
   "metadata": {},
   "outputs": [
    {
     "data": {
      "text/plain": [
       "Index([23435.0, 86155.29, 186757.0, 1.0, 32712.0, 65000.0, 107971.5,\n",
       "       16256600.0],\n",
       "      dtype='float64', name='ConvertedCompYearly')"
      ]
     },
     "execution_count": 28,
     "metadata": {},
     "output_type": "execute_result"
    }
   ],
   "source": [
    "df['ConvertedCompYearly'].value_counts().index"
   ]
  },
  {
   "cell_type": "code",
   "execution_count": 30,
   "metadata": {},
   "outputs": [
    {
     "name": "stdout",
     "output_type": "stream",
     "text": [
      "Skewness before: 2.827840917819262\n",
      "Skewness after: -1.6468299300535483\n",
      "   ConvertedCompYearly  ConvertedCompYearly_log\n",
      "0             23435.00                10.061986\n",
      "1             86155.29                11.363907\n",
      "2            186757.00                12.137564\n",
      "3                 1.00                 0.000000\n",
      "4             32712.00                10.395497\n",
      "5             65000.00                11.082143\n",
      "6            107971.50                11.589623\n",
      "7          16256600.00                16.604010\n"
     ]
    }
   ],
   "source": [
    "import numpy as np\n",
    "\n",
    "data = {'ConvertedCompYearly': [23435.0, 86155.29, 186757.0, 1.0, 32712.0, 65000.0, 107971.5,\n",
    "       16256600.0]}\n",
    "df = pd.DataFrame(data)\n",
    "\n",
    "if (df['ConvertedCompYearly'] <= 0).any():\n",
    "    df['ConvertedCompYearly'] = df['ConvertedCompYearly'] + 1\n",
    "\n",
    "df['ConvertedCompYearly_log'] = np.log(df['ConvertedCompYearly'])\n",
    "\n",
    "print(\"Skewness before:\", df['ConvertedCompYearly'].skew())\n",
    "print(\"Skewness after:\", df['ConvertedCompYearly_log'].skew())\n",
    "\n",
    "print(df)"
   ]
  },
  {
   "cell_type": "markdown",
   "metadata": {},
   "source": [
    "### 7. Feature Engineering\n"
   ]
  },
  {
   "cell_type": "markdown",
   "metadata": {},
   "source": [
    "<h5>7.1 Create a new column `ExperienceLevel` based on the `YearsCodePro` column:</h5>\n"
   ]
  },
  {
   "cell_type": "code",
   "execution_count": 33,
   "metadata": {},
   "outputs": [
    {
     "data": {
      "text/plain": [
       "Index(['2', '3', '5', '10', '4', 'Less than 1 year', '6', '1', '8', '7', '12',\n",
       "       '15', '20', '9', '11', '13', '14', '25', '16', '18', '17', '30', '24',\n",
       "       '19', '22', '23', '26', '27', '21', '28', '35', '29', '40', '32', '34',\n",
       "       '38', '33', '36', '31', '37', '45', '42', '39', '41',\n",
       "       'More than 50 years', '44', '43', '46', '50', '48', '49', '47'],\n",
       "      dtype='object', name='YearsCodePro')"
      ]
     },
     "execution_count": 33,
     "metadata": {},
     "output_type": "execute_result"
    }
   ],
   "source": [
    "df.YearsCodePro.value_counts().index"
   ]
  },
  {
   "cell_type": "code",
   "execution_count": 42,
   "metadata": {},
   "outputs": [
    {
     "data": {
      "text/plain": [
       "Index(['2', '3', '5', '10', '4', 'Less than 1 year', '6', '1', '8', '7', '12',\n",
       "       '15', '20', '9', '11', '13', '14', '25', '16', '18', '17', '30', '24',\n",
       "       '19', '22', '23', '26', '27', '21', '28', '35', '29', '40', '32', '34',\n",
       "       '38', '33', '36', '31', '37', '45', '42', '39', '41',\n",
       "       'More than 50 years', '44', '43', '46', '50', '48', '49', '47'],\n",
       "      dtype='object', name='ExperienceLevel')"
      ]
     },
     "execution_count": 42,
     "metadata": {},
     "output_type": "execute_result"
    }
   ],
   "source": [
    "df['ExperienceLevel'].value_counts().index"
   ]
  },
  {
   "cell_type": "code",
   "execution_count": 41,
   "metadata": {},
   "outputs": [
    {
     "name": "stdout",
     "output_type": "stream",
     "text": [
      "          YearsCodePro     ExperienceLevel\n",
      "0                    2                   2\n",
      "1                    3                   3\n",
      "2                    5                   5\n",
      "3                   10                  10\n",
      "4                    4                   4\n",
      "5     Less than 1 year    Less than 1 year\n",
      "6                    6                   6\n",
      "7                    1                   1\n",
      "8                    8                   8\n",
      "9                    7                   7\n",
      "10                  12                  12\n",
      "11                  15                  15\n",
      "12                  20                  20\n",
      "13                   9                   9\n",
      "14                  11                  11\n",
      "15                  13                  13\n",
      "16                  14                  14\n",
      "17                  25                  25\n",
      "18                  16                  16\n",
      "19                  18                  18\n",
      "20                  17                  17\n",
      "21                  30                  30\n",
      "22                  24                  24\n",
      "23                  19                  19\n",
      "24                  22                  22\n",
      "25                  23                  23\n",
      "26                  26                  26\n",
      "27                  27                  27\n",
      "28                  21                  21\n",
      "29                  28                  28\n",
      "30                  35                  35\n",
      "31                  29                  29\n",
      "32                  40                  40\n",
      "33                  32                  32\n",
      "34                  34                  34\n",
      "35                  38                  38\n",
      "36                  33                  33\n",
      "37                  36                  36\n",
      "38                  31                  31\n",
      "39                  37                  37\n",
      "40                  45                  45\n",
      "41                  42                  42\n",
      "42                  39                  39\n",
      "43                  41                  41\n",
      "44  More than 50 years  More than 50 years\n",
      "45                  44                  44\n",
      "46                  43                  43\n",
      "47                  46                  46\n",
      "48                  50                  50\n",
      "49                  48                  48\n",
      "50                  49                  49\n",
      "51                  47                  47\n"
     ]
    }
   ],
   "source": [
    "df['ExperienceLevel'] = df['YearsCodePro']\n",
    "print(df)"
   ]
  },
  {
   "cell_type": "markdown",
   "metadata": {},
   "source": [
    "### Summary\n"
   ]
  },
  {
   "cell_type": "markdown",
   "metadata": {},
   "source": [
    "In this lab, you:\n",
    "\n",
    "- Explored the dataset to identify inconsistencies and missing values.\n",
    "\n",
    "- Encoded categorical variables for analysis.\n",
    "\n",
    "- Handled missing values using imputation techniques.\n",
    "\n",
    "- Normalized and transformed numerical data to prepare it for analysis.\n",
    "\n",
    "- Engineered a new feature to enhance data interpretation.\n"
   ]
  },
  {
   "cell_type": "markdown",
   "metadata": {},
   "source": [
    "Copyright © IBM Corporation. All rights reserved.\n"
   ]
  }
 ],
 "metadata": {
  "kernelspec": {
   "display_name": "Python 3 (ipykernel)",
   "language": "python",
   "name": "python3"
  },
  "language_info": {
   "codemirror_mode": {
    "name": "ipython",
    "version": 3
   },
   "file_extension": ".py",
   "mimetype": "text/x-python",
   "name": "python",
   "nbconvert_exporter": "python",
   "pygments_lexer": "ipython3",
   "version": "3.12.8"
  },
  "prev_pub_hash": "1e8e234f19fd098e27b0518a87f18de690e1c51f1d3263d5690927d19971251e"
 },
 "nbformat": 4,
 "nbformat_minor": 4
}
