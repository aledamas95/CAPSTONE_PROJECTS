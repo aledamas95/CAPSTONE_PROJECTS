{
 "cells": [
  {
   "cell_type": "markdown",
   "metadata": {},
   "source": [
    "<p style=\"text-align:center\">\n",
    "    <a href=\"https://skills.network\" target=\"_blank\">\n",
    "    <img src=\"https://cf-courses-data.s3.us.cloud-object-storage.appdomain.cloud/assets/logos/SN_web_lightmode.png\" width=\"200\" alt=\"Skills Network Logo\"  />\n",
    "    </a>\n",
    "</p>\n"
   ]
  },
  {
   "cell_type": "markdown",
   "metadata": {},
   "source": [
    "# **Removing Duplicates**\n"
   ]
  },
  {
   "cell_type": "markdown",
   "metadata": {},
   "source": [
    "Estimated time needed: **30** minutes\n"
   ]
  },
  {
   "cell_type": "markdown",
   "metadata": {},
   "source": [
    "## Introduction\n"
   ]
  },
  {
   "cell_type": "markdown",
   "metadata": {},
   "source": [
    "In this lab, you will focus on data wrangling, an important step in preparing data for analysis. Data wrangling involves cleaning and organizing data to make it suitable for analysis. One key task in this process is removing duplicate entries, which are repeated entries that can distort analysis and lead to inaccurate conclusions.  \n"
   ]
  },
  {
   "cell_type": "markdown",
   "metadata": {},
   "source": [
    "## Objectives\n"
   ]
  },
  {
   "cell_type": "markdown",
   "metadata": {},
   "source": [
    "In this lab you will perform the following:\n"
   ]
  },
  {
   "cell_type": "markdown",
   "metadata": {},
   "source": [
    "1. Identify duplicate rows  in the dataset.\n",
    "2. Use suitable techniques to remove duplicate rows and verify the removal.\n",
    "3. Summarize how to handle missing values appropriately.\n",
    "4. Use ConvertedCompYearly to normalize compensation data.\n",
    "   \n"
   ]
  },
  {
   "cell_type": "markdown",
   "metadata": {},
   "source": [
    "### Install the Required Libraries\n"
   ]
  },
  {
   "cell_type": "code",
   "execution_count": 1,
   "metadata": {},
   "outputs": [
    {
     "name": "stdout",
     "output_type": "stream",
     "text": [
      "Collecting pandas\n",
      "  Downloading pandas-2.2.3-cp312-cp312-manylinux_2_17_x86_64.manylinux2014_x86_64.whl.metadata (89 kB)\n",
      "Collecting numpy>=1.26.0 (from pandas)\n",
      "  Downloading numpy-2.2.3-cp312-cp312-manylinux_2_17_x86_64.manylinux2014_x86_64.whl.metadata (62 kB)\n",
      "Requirement already satisfied: python-dateutil>=2.8.2 in /opt/conda/lib/python3.12/site-packages (from pandas) (2.9.0.post0)\n",
      "Requirement already satisfied: pytz>=2020.1 in /opt/conda/lib/python3.12/site-packages (from pandas) (2024.2)\n",
      "Collecting tzdata>=2022.7 (from pandas)\n",
      "  Downloading tzdata-2025.1-py2.py3-none-any.whl.metadata (1.4 kB)\n",
      "Requirement already satisfied: six>=1.5 in /opt/conda/lib/python3.12/site-packages (from python-dateutil>=2.8.2->pandas) (1.17.0)\n",
      "Downloading pandas-2.2.3-cp312-cp312-manylinux_2_17_x86_64.manylinux2014_x86_64.whl (12.7 MB)\n",
      "\u001b[2K   \u001b[90m━━━━━━━━━━━━━━━━━━━━━━━━━━━━━━━━━━━━━━━━\u001b[0m \u001b[32m12.7/12.7 MB\u001b[0m \u001b[31m137.4 MB/s\u001b[0m eta \u001b[36m0:00:00\u001b[0m\n",
      "\u001b[?25hDownloading numpy-2.2.3-cp312-cp312-manylinux_2_17_x86_64.manylinux2014_x86_64.whl (16.1 MB)\n",
      "\u001b[2K   \u001b[90m━━━━━━━━━━━━━━━━━━━━━━━━━━━━━━━━━━━━━━━━\u001b[0m \u001b[32m16.1/16.1 MB\u001b[0m \u001b[31m206.6 MB/s\u001b[0m eta \u001b[36m0:00:00\u001b[0m\n",
      "Downloading tzdata-2025.1-py2.py3-none-any.whl (346 kB)\n",
      "Installing collected packages: tzdata, numpy, pandas\n",
      "Successfully installed numpy-2.2.3 pandas-2.2.3 tzdata-2025.1\n"
     ]
    }
   ],
   "source": [
    "!pip install pandas"
   ]
  },
  {
   "cell_type": "markdown",
   "metadata": {},
   "source": [
    "### Step 1: Import Required Libraries\n"
   ]
  },
  {
   "cell_type": "code",
   "execution_count": 2,
   "metadata": {},
   "outputs": [],
   "source": [
    "import pandas as pd"
   ]
  },
  {
   "cell_type": "markdown",
   "metadata": {},
   "source": [
    "### Step 2: Load the Dataset into a DataFrame\n",
    "\n"
   ]
  },
  {
   "cell_type": "markdown",
   "metadata": {},
   "source": [
    "load the dataset using pd.read_csv()\n"
   ]
  },
  {
   "cell_type": "code",
   "execution_count": 3,
   "metadata": {},
   "outputs": [
    {
     "name": "stdout",
     "output_type": "stream",
     "text": [
      "   ResponseId                      MainBranch                 Age  \\\n",
      "0           1  I am a developer by profession  Under 18 years old   \n",
      "1           2  I am a developer by profession     35-44 years old   \n",
      "2           3  I am a developer by profession     45-54 years old   \n",
      "3           4           I am learning to code     18-24 years old   \n",
      "4           5  I am a developer by profession     18-24 years old   \n",
      "\n",
      "            Employment RemoteWork   Check  \\\n",
      "0  Employed, full-time     Remote  Apples   \n",
      "1  Employed, full-time     Remote  Apples   \n",
      "2  Employed, full-time     Remote  Apples   \n",
      "3   Student, full-time        NaN  Apples   \n",
      "4   Student, full-time        NaN  Apples   \n",
      "\n",
      "                                    CodingActivities  \\\n",
      "0                                              Hobby   \n",
      "1  Hobby;Contribute to open-source projects;Other...   \n",
      "2  Hobby;Contribute to open-source projects;Other...   \n",
      "3                                                NaN   \n",
      "4                                                NaN   \n",
      "\n",
      "                                             EdLevel  \\\n",
      "0                          Primary/elementary school   \n",
      "1       Bachelor’s degree (B.A., B.S., B.Eng., etc.)   \n",
      "2    Master’s degree (M.A., M.S., M.Eng., MBA, etc.)   \n",
      "3  Some college/university study without earning ...   \n",
      "4  Secondary school (e.g. American high school, G...   \n",
      "\n",
      "                                           LearnCode  \\\n",
      "0                             Books / Physical media   \n",
      "1  Books / Physical media;Colleague;On the job tr...   \n",
      "2  Books / Physical media;Colleague;On the job tr...   \n",
      "3  Other online resources (e.g., videos, blogs, f...   \n",
      "4  Other online resources (e.g., videos, blogs, f...   \n",
      "\n",
      "                                     LearnCodeOnline  ... JobSatPoints_6  \\\n",
      "0                                                NaN  ...            NaN   \n",
      "1  Technical documentation;Blogs;Books;Written Tu...  ...            0.0   \n",
      "2  Technical documentation;Blogs;Books;Written Tu...  ...            NaN   \n",
      "3  Stack Overflow;How-to videos;Interactive tutorial  ...            NaN   \n",
      "4  Technical documentation;Blogs;Written Tutorial...  ...            NaN   \n",
      "\n",
      "  JobSatPoints_7 JobSatPoints_8 JobSatPoints_9 JobSatPoints_10  \\\n",
      "0            NaN            NaN            NaN             NaN   \n",
      "1            0.0            0.0            0.0             0.0   \n",
      "2            NaN            NaN            NaN             NaN   \n",
      "3            NaN            NaN            NaN             NaN   \n",
      "4            NaN            NaN            NaN             NaN   \n",
      "\n",
      "  JobSatPoints_11           SurveyLength SurveyEase ConvertedCompYearly JobSat  \n",
      "0             NaN                    NaN        NaN                 NaN    NaN  \n",
      "1             0.0                    NaN        NaN                 NaN    NaN  \n",
      "2             NaN  Appropriate in length       Easy                 NaN    NaN  \n",
      "3             NaN               Too long       Easy                 NaN    NaN  \n",
      "4             NaN              Too short       Easy                 NaN    NaN  \n",
      "\n",
      "[5 rows x 114 columns]\n"
     ]
    }
   ],
   "source": [
    "# Define the URL of the dataset\n",
    "file_path = \"https://cf-courses-data.s3.us.cloud-object-storage.appdomain.cloud/n01PQ9pSmiRX6520flujwQ/survey-data.csv\"\n",
    "\n",
    "# Load the dataset into a DataFrame\n",
    "df = pd.read_csv(file_path)\n",
    "\n",
    "# Display the first few rows to ensure it loaded correctly\n",
    "print(df.head())\n"
   ]
  },
  {
   "cell_type": "markdown",
   "metadata": {},
   "source": [
    "**Note: If you are working on a local Jupyter environment, you can use the URL directly in the <code>pandas.read_csv()</code>  function as shown below:**\n",
    "\n"
   ]
  },
  {
   "cell_type": "markdown",
   "metadata": {},
   "source": [
    "#df = pd.read_csv(\"https://cf-courses-data.s3.us.cloud-object-storage.appdomain.cloud/n01PQ9pSmiRX6520flujwQ/survey-data.csv\")\n"
   ]
  },
  {
   "cell_type": "markdown",
   "metadata": {},
   "source": [
    "### Step 3: Identifying Duplicate Rows\n"
   ]
  },
  {
   "cell_type": "markdown",
   "metadata": {},
   "source": [
    "**Task 1: Identify Duplicate Rows**\n",
    "  1. Count the number of duplicate rows in the dataset.\n",
    "  2. Display the first few duplicate rows to understand their structure.\n"
   ]
  },
  {
   "cell_type": "code",
   "execution_count": 4,
   "metadata": {},
   "outputs": [
    {
     "data": {
      "text/plain": [
       "0"
      ]
     },
     "execution_count": 4,
     "metadata": {},
     "output_type": "execute_result"
    }
   ],
   "source": [
    "duplicate_rows = df[df.duplicated()]\n",
    "num_duplicated_rows = len(duplicate_rows)\n",
    "num_duplicated_rows"
   ]
  },
  {
   "cell_type": "code",
   "execution_count": 5,
   "metadata": {},
   "outputs": [
    {
     "data": {
      "text/plain": [
       "0        False\n",
       "1        False\n",
       "2        False\n",
       "3        False\n",
       "4        False\n",
       "         ...  \n",
       "65432    False\n",
       "65433    False\n",
       "65434    False\n",
       "65435    False\n",
       "65436    False\n",
       "Length: 65437, dtype: bool"
      ]
     },
     "execution_count": 5,
     "metadata": {},
     "output_type": "execute_result"
    }
   ],
   "source": [
    "df.duplicated()"
   ]
  },
  {
   "cell_type": "markdown",
   "metadata": {},
   "source": [
    "### Step 4: Removing Duplicate Rows\n"
   ]
  },
  {
   "cell_type": "markdown",
   "metadata": {},
   "source": [
    "**Task 2: Remove Duplicates**\n",
    "   1. Remove duplicate rows from the dataset using the drop_duplicates() function.\n",
    "2. Verify the removal by counting the number of duplicate rows after removal .\n"
   ]
  },
  {
   "cell_type": "code",
   "execution_count": 8,
   "metadata": {},
   "outputs": [
    {
     "data": {
      "text/plain": [
       "(65437, 114)"
      ]
     },
     "execution_count": 8,
     "metadata": {},
     "output_type": "execute_result"
    }
   ],
   "source": [
    "df.drop_duplicates(inplace=True)\n",
    "df.shape"
   ]
  },
  {
   "cell_type": "markdown",
   "metadata": {},
   "source": [
    "### Step 5: Handling Missing Values\n"
   ]
  },
  {
   "cell_type": "markdown",
   "metadata": {},
   "source": [
    "**Task 3: Identify and Handle Missing Values**\n",
    "   1. Identify missing values for all columns in the dataset.\n",
    "   2. Choose a column with significant missing values (e.g., EdLevel) and impute with the most frequent value.\n"
   ]
  },
  {
   "cell_type": "code",
   "execution_count": 12,
   "metadata": {},
   "outputs": [
    {
     "name": "stdout",
     "output_type": "stream",
     "text": [
      "       ResponseId  MainBranch    Age  Employment  RemoteWork  Check  \\\n",
      "0           False       False  False       False       False  False   \n",
      "1           False       False  False       False       False  False   \n",
      "2           False       False  False       False       False  False   \n",
      "3           False       False  False       False        True  False   \n",
      "4           False       False  False       False        True  False   \n",
      "...           ...         ...    ...         ...         ...    ...   \n",
      "65432       False       False  False       False       False  False   \n",
      "65433       False       False  False       False       False  False   \n",
      "65434       False       False  False       False       False  False   \n",
      "65435       False       False  False       False       False  False   \n",
      "65436       False       False  False       False        True  False   \n",
      "\n",
      "       CodingActivities  EdLevel  LearnCode  LearnCodeOnline  ...  \\\n",
      "0                 False    False      False             True  ...   \n",
      "1                 False    False      False            False  ...   \n",
      "2                 False    False      False            False  ...   \n",
      "3                  True    False      False            False  ...   \n",
      "4                  True    False      False            False  ...   \n",
      "...                 ...      ...        ...              ...  ...   \n",
      "65432             False    False      False             True  ...   \n",
      "65433             False     True       True             True  ...   \n",
      "65434             False    False      False            False  ...   \n",
      "65435             False    False      False            False  ...   \n",
      "65436              True     True       True             True  ...   \n",
      "\n",
      "       JobSatPoints_6  JobSatPoints_7  JobSatPoints_8  JobSatPoints_9  \\\n",
      "0                True            True            True            True   \n",
      "1               False           False           False           False   \n",
      "2                True            True            True            True   \n",
      "3                True            True            True            True   \n",
      "4                True            True            True            True   \n",
      "...               ...             ...             ...             ...   \n",
      "65432            True            True            True            True   \n",
      "65433            True            True            True            True   \n",
      "65434            True            True            True            True   \n",
      "65435           False           False           False           False   \n",
      "65436            True            True            True            True   \n",
      "\n",
      "       JobSatPoints_10  JobSatPoints_11  SurveyLength  SurveyEase  \\\n",
      "0                 True             True          True        True   \n",
      "1                False            False          True        True   \n",
      "2                 True             True         False       False   \n",
      "3                 True             True         False       False   \n",
      "4                 True             True         False       False   \n",
      "...                ...              ...           ...         ...   \n",
      "65432             True             True          True        True   \n",
      "65433             True             True          True        True   \n",
      "65434             True             True          True        True   \n",
      "65435            False            False          True        True   \n",
      "65436             True             True          True        True   \n",
      "\n",
      "       ConvertedCompYearly  JobSat  \n",
      "0                    False    True  \n",
      "1                    False    True  \n",
      "2                    False    True  \n",
      "3                    False    True  \n",
      "4                    False    True  \n",
      "...                    ...     ...  \n",
      "65432                False    True  \n",
      "65433                False    True  \n",
      "65434                False    True  \n",
      "65435                False    True  \n",
      "65436                False    True  \n",
      "\n",
      "[65437 rows x 114 columns]\n"
     ]
    }
   ],
   "source": [
    "missing_values = df.isnull()\n",
    "print(missing_values)\n",
    "df['ConvertedCompYearly'] = df['ConvertedCompYearly'].fillna(df['ConvertedCompYearly'].mode()[0])"
   ]
  },
  {
   "cell_type": "markdown",
   "metadata": {},
   "source": [
    "### Step 6: Normalizing Compensation Data\n"
   ]
  },
  {
   "cell_type": "markdown",
   "metadata": {},
   "source": [
    "**Task 4: Normalize Compensation Data Using ConvertedCompYearly**\n",
    "   1. Use the ConvertedCompYearly column for compensation analysis as the normalized annual compensation is already provided.\n",
    "   2. Check for missing values in ConvertedCompYearly and handle them if necessary.\n"
   ]
  },
  {
   "cell_type": "code",
   "execution_count": 13,
   "metadata": {},
   "outputs": [
    {
     "data": {
      "text/plain": [
       "Index([ 64444.0,  53703.0,  75184.0,  85925.0, 107406.0, 150000.0, 120000.0,\n",
       "       200000.0,  42962.0,  48333.0,\n",
       "       ...\n",
       "       139000.0, 111655.0, 152615.0,   4364.0,  15637.0,   9711.0, 950000.0,\n",
       "        51448.0, 447569.0,   4738.0],\n",
       "      dtype='float64', name='ConvertedCompYearly', length=6113)"
      ]
     },
     "execution_count": 13,
     "metadata": {},
     "output_type": "execute_result"
    }
   ],
   "source": [
    "df.ConvertedCompYearly.value_counts().index"
   ]
  },
  {
   "cell_type": "markdown",
   "metadata": {},
   "source": [
    "### Step 7: Summary and Next Steps\n"
   ]
  },
  {
   "cell_type": "markdown",
   "metadata": {},
   "source": [
    "**In this lab, you focused on identifying and removing duplicate rows.**\n",
    "\n",
    "- You handled missing values by imputing the most frequent value in a chosen column.\n",
    "\n",
    "- You used ConvertedCompYearly for compensation normalization and handled missing values.\n",
    "\n",
    "- For further analysis, consider exploring other columns or visualizing the cleaned dataset.\n"
   ]
  },
  {
   "cell_type": "code",
   "execution_count": 19,
   "metadata": {},
   "outputs": [
    {
     "data": {
      "text/plain": [
       "Index(['Hobby', 'I don’t code outside of work',\n",
       "       'Hobby;Professional development or self-paced learning from online courses',\n",
       "       'Hobby;Contribute to open-source projects',\n",
       "       'Professional development or self-paced learning from online courses',\n",
       "       'Hobby;Contribute to open-source projects;Professional development or self-paced learning from online courses',\n",
       "       'Hobby;School or academic work', 'Hobby;Freelance/contract work',\n",
       "       'Hobby;Professional development or self-paced learning from online courses;Freelance/contract work',\n",
       "       'Hobby;Bootstrapping a business',\n",
       "       ...\n",
       "       'Contribute to open-source projects;Other (please specify):;School or academic work;Professional development or self-paced learning from online courses',\n",
       "       'Contribute to open-source projects;Other (please specify):;Bootstrapping a business',\n",
       "       'Other (please specify):;School or academic work;Freelance/contract work',\n",
       "       'Other (please specify):;School or academic work;Professional development or self-paced learning from online courses;Freelance/contract work',\n",
       "       'Contribute to open-source projects;Other (please specify):;Bootstrapping a business;Freelance/contract work',\n",
       "       'Hobby;Contribute to open-source projects;Other (please specify):;School or academic work;Freelance/contract work',\n",
       "       'Other (please specify):;Bootstrapping a business;School or academic work',\n",
       "       'Contribute to open-source projects;Other (please specify):;Bootstrapping a business;School or academic work;Professional development or self-paced learning from online courses',\n",
       "       'Hobby;Contribute to open-source projects;Other (please specify):;Bootstrapping a business;School or academic work',\n",
       "       'Hobby;Other (please specify):;Bootstrapping a business;School or academic work;Professional development or self-paced learning from online courses;Freelance/contract work'],\n",
       "      dtype='object', name='CodingActivities', length=118)"
      ]
     },
     "execution_count": 19,
     "metadata": {},
     "output_type": "execute_result"
    }
   ],
   "source": [
    "df.CodingActivities.value_counts().index"
   ]
  },
  {
   "cell_type": "code",
   "execution_count": 20,
   "metadata": {},
   "outputs": [
    {
     "data": {
      "text/plain": [
       "Index(['Bachelor’s degree (B.A., B.S., B.Eng., etc.)',\n",
       "       'Master’s degree (M.A., M.S., M.Eng., MBA, etc.)',\n",
       "       'Some college/university study without earning a degree',\n",
       "       'Secondary school (e.g. American high school, German Realschule or Gymnasium, etc.)',\n",
       "       'Professional degree (JD, MD, Ph.D, Ed.D, etc.)',\n",
       "       'Associate degree (A.A., A.S., etc.)', 'Primary/elementary school',\n",
       "       'Something else'],\n",
       "      dtype='object', name='EdLevel')"
      ]
     },
     "execution_count": 20,
     "metadata": {},
     "output_type": "execute_result"
    }
   ],
   "source": [
    "df.EdLevel.value_counts().index"
   ]
  },
  {
   "cell_type": "code",
   "execution_count": 22,
   "metadata": {},
   "outputs": [
    {
     "data": {
      "text/plain": [
       "Index(['Other online resources (e.g., videos, blogs, forum, online community)',\n",
       "       'Books / Physical media;Other online resources (e.g., videos, blogs, forum, online community)',\n",
       "       'Other online resources (e.g., videos, blogs, forum, online community);School (i.e., University, College, etc)',\n",
       "       'Books / Physical media;Other online resources (e.g., videos, blogs, forum, online community);Online Courses or Certification',\n",
       "       'Other online resources (e.g., videos, blogs, forum, online community);Online Courses or Certification',\n",
       "       'Books / Physical media;Other online resources (e.g., videos, blogs, forum, online community);School (i.e., University, College, etc)',\n",
       "       'Books / Physical media;On the job training;Other online resources (e.g., videos, blogs, forum, online community);School (i.e., University, College, etc);Online Courses or Certification',\n",
       "       'Books / Physical media;Other online resources (e.g., videos, blogs, forum, online community);School (i.e., University, College, etc);Online Courses or Certification',\n",
       "       'On the job training;Other online resources (e.g., videos, blogs, forum, online community);Online Courses or Certification',\n",
       "       'Books / Physical media;On the job training;Other online resources (e.g., videos, blogs, forum, online community);Online Courses or Certification',\n",
       "       ...\n",
       "       'Books / Physical media;Other online resources (e.g., videos, blogs, forum, online community);Coding Bootcamp;Friend or family member;Other (please specify):',\n",
       "       'Colleague;Other online resources (e.g., videos, blogs, forum, online community);Online Courses or Certification;Coding Bootcamp;Other (please specify):',\n",
       "       'Colleague;On the job training;Online Courses or Certification;Coding Bootcamp;Other (please specify):',\n",
       "       'On the job training;Coding Bootcamp;Other (please specify):',\n",
       "       'Books / Physical media;Colleague;On the job training;School (i.e., University, College, etc);Coding Bootcamp;Friend or family member',\n",
       "       'On the job training;Coding Bootcamp;Friend or family member',\n",
       "       'Books / Physical media;On the job training;School (i.e., University, College, etc);Online Courses or Certification;Friend or family member;Other (please specify):',\n",
       "       'Books / Physical media;Coding Bootcamp;Friend or family member;Other (please specify):',\n",
       "       'Colleague;On the job training;School (i.e., University, College, etc);Coding Bootcamp;Friend or family member',\n",
       "       'School (i.e., University, College, etc);Coding Bootcamp;Friend or family member'],\n",
       "      dtype='object', name='LearnCode', length=418)"
      ]
     },
     "execution_count": 22,
     "metadata": {},
     "output_type": "execute_result"
    }
   ],
   "source": [
    "df.LearnCode.value_counts().index"
   ]
  },
  {
   "cell_type": "code",
   "execution_count": 23,
   "metadata": {},
   "outputs": [
    {
     "data": {
      "text/plain": [
       "Index([  0.0,  20.0,  10.0,  30.0,  15.0,  25.0,  50.0,  40.0, 100.0,  80.0,\n",
       "         5.0,  90.0,  60.0,  70.0,  35.0,   8.0,  75.0,   7.0,   9.0,  12.0,\n",
       "        45.0,  95.0,  85.0,  18.0,   6.0,  33.0,   2.0,  17.0,  65.0,   1.0,\n",
       "        13.0,   3.0,  11.0,  16.0,  22.0,  14.0,  55.0,   4.0,  23.0,  99.0,\n",
       "        19.0,  28.0,  34.0,  24.0,  21.0,  27.0,  26.0,  29.0,  12.5,  88.0,\n",
       "        78.0,  32.0,  87.0,  98.0,  36.0,  89.0,  37.0,  77.0,  31.0,  81.0,\n",
       "        68.0,  56.0,  86.0,  76.0,  69.0,  33.3,  97.0,  43.0,  66.0,  67.0,\n",
       "       33.33,  42.0,  6.25,  39.0,  57.0,  82.0,  61.0,  46.0,  17.5,  73.0,\n",
       "        94.0,  96.0,  52.0,  49.0,  91.0,  41.0,  74.0,  51.0,  48.0,  44.0,\n",
       "        64.0,  54.0,  63.0],\n",
       "      dtype='float64', name='JobSatPoints_6')"
      ]
     },
     "execution_count": 23,
     "metadata": {},
     "output_type": "execute_result"
    }
   ],
   "source": [
    "df.JobSatPoints_6.value_counts().index"
   ]
  },
  {
   "cell_type": "code",
   "execution_count": 24,
   "metadata": {},
   "outputs": [
    {
     "data": {
      "text/plain": [
       "Index([  0.0,  20.0,  10.0,  30.0,  15.0,  25.0,   5.0,  50.0, 100.0,  40.0,\n",
       "        80.0,  90.0,  70.0,  60.0,  35.0,   8.0,  75.0,   9.0,   7.0,  12.0,\n",
       "        85.0,  95.0,  18.0,  33.0,  45.0,   6.0,   1.0,   3.0,   4.0,  13.0,\n",
       "        17.0,  14.0,   2.0,  16.0,  65.0,  11.0,  22.0,  55.0,  99.0,  23.0,\n",
       "        19.0,  24.0,  27.0,  26.0,  28.0,  21.0,  32.0,  34.0,  98.0,  89.0,\n",
       "        44.0,  37.0,  12.5,  29.0,  88.0,  68.0,  31.0,  92.0,  56.0,  91.0,\n",
       "        69.0,  87.0,  48.0,  97.0,  46.0,  33.3,  78.0,  39.0,  77.0,  54.0,\n",
       "       3.125,  81.0,  94.0, 33.33,  61.0,  93.0, 18.75,  73.0,  49.0,  18.5,\n",
       "        83.0,  96.0,  82.0,  42.0,  51.0,  72.0,  86.0,  38.0,  67.0,  17.5,\n",
       "        36.0],\n",
       "      dtype='float64', name='JobSatPoints_7')"
      ]
     },
     "execution_count": 24,
     "metadata": {},
     "output_type": "execute_result"
    }
   ],
   "source": [
    "df.JobSatPoints_7.value_counts().index"
   ]
  },
  {
   "cell_type": "code",
   "execution_count": 25,
   "metadata": {},
   "outputs": [
    {
     "data": {
      "text/plain": [
       "Index([  0.0,  20.0,  10.0,  30.0,  15.0,   5.0,  25.0,  50.0, 100.0,  40.0,\n",
       "        80.0,  90.0,  70.0,  60.0,  35.0,   8.0,   7.0,  75.0,  12.0,   9.0,\n",
       "         2.0,   1.0,  95.0,   6.0,   3.0,  18.0,   4.0,  45.0,  85.0,  33.0,\n",
       "        14.0,  11.0,  17.0,  65.0,  16.0,  22.0,  13.0,  99.0,  23.0,  55.0,\n",
       "        34.0,  24.0,  28.0,  27.0,  19.0,  77.0,  29.0,  88.0,  12.5,  21.0,\n",
       "        66.0,  67.0,  42.0,  26.0,  98.0,  38.0,  68.0,  62.0,  97.0,  79.0,\n",
       "        69.0,  89.0,  32.0,  37.0,  43.0,  49.0,  76.0,  87.0,  57.0,  44.0,\n",
       "        83.0,  78.0,  92.0,  58.0,  39.0,  84.0,  31.0, 33.33,  53.0,   7.5,\n",
       "        94.0,  33.3,  93.0,  67.5,  59.0,  36.0,  47.0,  56.0,  86.0],\n",
       "      dtype='float64', name='JobSatPoints_8')"
      ]
     },
     "execution_count": 25,
     "metadata": {},
     "output_type": "execute_result"
    }
   ],
   "source": [
    "df.JobSatPoints_8.value_counts().index"
   ]
  },
  {
   "cell_type": "code",
   "execution_count": 26,
   "metadata": {},
   "outputs": [
    {
     "data": {
      "text/plain": [
       "Index([  0.0,  10.0,  20.0,   5.0,  15.0,  30.0,  50.0, 100.0,  25.0,  80.0,\n",
       "        40.0,  70.0,  90.0,  60.0,   8.0,   7.0,   2.0,   9.0,  75.0,   3.0,\n",
       "         1.0,  35.0,   6.0,  12.0,  95.0,   4.0,  85.0,  18.0,  11.0,  45.0,\n",
       "        13.0,  65.0,  14.0,  17.0,  55.0,  16.0,  33.0,  22.0,  99.0,  19.0,\n",
       "        23.0,  34.0,  88.0,  24.0,  98.0,  26.0,  67.0,  21.0,  32.0,  69.0,\n",
       "        12.5,  89.0,  76.0,  66.0,  31.0,  27.0,  29.0,  92.0,  28.0,  77.0,\n",
       "        68.0,  97.0,  44.0,  37.0,  59.0,  42.0,  71.0,   2.5,  82.0,  56.0,\n",
       "        91.0,   1.5,  81.0,  33.3,  6.25,  79.0,   6.5,  3.75,  93.0,  14.5,\n",
       "         9.5,  87.0,  58.0,  86.0,  53.0],\n",
       "      dtype='float64', name='JobSatPoints_9')"
      ]
     },
     "execution_count": 26,
     "metadata": {},
     "output_type": "execute_result"
    }
   ],
   "source": [
    "df.JobSatPoints_9.value_counts().index"
   ]
  },
  {
   "cell_type": "code",
   "execution_count": 27,
   "metadata": {},
   "outputs": [
    {
     "data": {
      "text/plain": [
       "Index([  0.0,  10.0,   5.0,  20.0, 100.0,  15.0,  50.0,  30.0,  80.0,  90.0,\n",
       "        70.0,  60.0,  40.0,   1.0,  25.0,   2.0,   8.0,   3.0,   7.0,   9.0,\n",
       "         6.0,  75.0,   4.0,  12.0,  85.0,  95.0,  11.0,  65.0,  14.0,  35.0,\n",
       "        13.0,  99.0,  16.0,  18.0,  55.0,  17.0,  33.0,  45.0,  69.0,  22.0,\n",
       "        19.0,  88.0,  23.0,  89.0,  98.0,  12.5,  21.0,  54.0,  77.0,  78.0,\n",
       "        87.0,  66.0,  67.0,  96.0,  92.0,  84.0,  63.0,   1.5,  24.0,  6.25,\n",
       "        26.0,  81.0,  49.0,  32.0,  79.0,  94.0,  57.0,  82.0,  14.5,  93.0,\n",
       "        43.0,  74.0,  97.0,  28.0,  34.0],\n",
       "      dtype='float64', name='JobSatPoints_10')"
      ]
     },
     "execution_count": 27,
     "metadata": {},
     "output_type": "execute_result"
    }
   ],
   "source": [
    "df.JobSatPoints_10.value_counts().index"
   ]
  },
  {
   "cell_type": "code",
   "execution_count": 28,
   "metadata": {},
   "outputs": [
    {
     "data": {
      "text/plain": [
       "Index([  0.0,  10.0,   5.0,  20.0,  50.0,  15.0, 100.0,  30.0,  80.0,  60.0,\n",
       "        90.0,  70.0,  40.0,   1.0,   8.0,   2.0,  25.0,   3.0,   7.0,   6.0,\n",
       "         9.0,   4.0,  75.0,  12.0,  11.0,  85.0,  95.0,  35.0,  65.0,  14.0,\n",
       "        13.0,  45.0,  18.0,  16.0,  55.0,  17.0,  22.0,  99.0,  19.0,  89.0,\n",
       "        66.0,  98.0,  88.0,  24.0,  67.0,  77.0,  32.0,  76.0,  78.0,  33.0,\n",
       "        21.0,  12.5,  94.0,  42.0,  87.0,  34.0,  79.0,  44.0,  29.0,  97.0,\n",
       "        86.0,  26.0,  96.0,  36.0,  31.0,  54.0,  69.0,  84.0,   7.5,  28.0,\n",
       "        64.0,  37.0,  37.5,  68.0,  71.0,  53.0,  59.0,  49.0,  73.0],\n",
       "      dtype='float64', name='JobSatPoints_11')"
      ]
     },
     "execution_count": 28,
     "metadata": {},
     "output_type": "execute_result"
    }
   ],
   "source": [
    "df.JobSatPoints_11.value_counts().index"
   ]
  },
  {
   "cell_type": "code",
   "execution_count": 29,
   "metadata": {},
   "outputs": [
    {
     "data": {
      "text/plain": [
       "Index(['Appropriate in length', 'Too long', 'Too short'], dtype='object', name='SurveyLength')"
      ]
     },
     "execution_count": 29,
     "metadata": {},
     "output_type": "execute_result"
    }
   ],
   "source": [
    "df.SurveyLength.value_counts().index"
   ]
  },
  {
   "cell_type": "code",
   "execution_count": 30,
   "metadata": {},
   "outputs": [
    {
     "data": {
      "text/plain": [
       "Index(['25-34 years old', '35-44 years old', '18-24 years old',\n",
       "       '45-54 years old', '55-64 years old', 'Under 18 years old',\n",
       "       '65 years or older', 'Prefer not to say'],\n",
       "      dtype='object', name='Age')"
      ]
     },
     "execution_count": 30,
     "metadata": {},
     "output_type": "execute_result"
    }
   ],
   "source": [
    "df.Age.value_counts().index"
   ]
  },
  {
   "cell_type": "code",
   "execution_count": 31,
   "metadata": {},
   "outputs": [
    {
     "data": {
      "text/plain": [
       "Index(['I am a developer by profession',\n",
       "       'I am not primarily a developer, but I write code sometimes as part of my work/studies',\n",
       "       'I am learning to code', 'I code primarily as a hobby',\n",
       "       'I used to be a developer by profession, but no longer am'],\n",
       "      dtype='object', name='MainBranch')"
      ]
     },
     "execution_count": 31,
     "metadata": {},
     "output_type": "execute_result"
    }
   ],
   "source": [
    "df.MainBranch.value_counts().index"
   ]
  },
  {
   "cell_type": "code",
   "execution_count": 32,
   "metadata": {},
   "outputs": [
    {
     "data": {
      "text/plain": [
       "Index(['Hybrid (some remote, some in-person)', 'Remote', 'In-person'], dtype='object', name='RemoteWork')"
      ]
     },
     "execution_count": 32,
     "metadata": {},
     "output_type": "execute_result"
    }
   ],
   "source": [
    "df.RemoteWork.value_counts().index"
   ]
  },
  {
   "cell_type": "code",
   "execution_count": 33,
   "metadata": {},
   "outputs": [
    {
     "data": {
      "text/plain": [
       "Index(['Employed, full-time',\n",
       "       'Independent contractor, freelancer, or self-employed',\n",
       "       'Student, full-time',\n",
       "       'Employed, full-time;Independent contractor, freelancer, or self-employed',\n",
       "       'Not employed, but looking for work', 'Employed, part-time',\n",
       "       'Student, full-time;Employed, part-time',\n",
       "       'Employed, full-time;Student, full-time',\n",
       "       'Employed, full-time;Student, part-time',\n",
       "       'Student, full-time;Not employed, but looking for work',\n",
       "       ...\n",
       "       'Employed, full-time;Student, full-time;Not employed, but looking for work;Independent contractor, freelancer, or self-employed',\n",
       "       'Employed, full-time;Not employed, but looking for work;Not employed, and not looking for work;Employed, part-time',\n",
       "       'Employed, full-time;Student, full-time;Independent contractor, freelancer, or self-employed;Student, part-time;Retired',\n",
       "       'Employed, full-time;Student, full-time;Not employed, but looking for work;Student, part-time;Employed, part-time',\n",
       "       'Employed, full-time;Student, full-time;Not employed, but looking for work;Independent contractor, freelancer, or self-employed;Student, part-time;Employed, part-time;Retired',\n",
       "       'Not employed, but looking for work;Independent contractor, freelancer, or self-employed;Not employed, and not looking for work;Employed, part-time',\n",
       "       'Student, full-time;Retired',\n",
       "       'Employed, full-time;Not employed, but looking for work;Student, part-time',\n",
       "       'Not employed, and not looking for work;Student, part-time;Employed, part-time',\n",
       "       'Not employed, but looking for work;Independent contractor, freelancer, or self-employed;Student, part-time;Retired'],\n",
       "      dtype='object', name='Employment', length=110)"
      ]
     },
     "execution_count": 33,
     "metadata": {},
     "output_type": "execute_result"
    }
   ],
   "source": [
    "df.Employment.value_counts().index"
   ]
  },
  {
   "cell_type": "markdown",
   "metadata": {},
   "source": [
    "<!--\n",
    "## Change Log\n",
    "\n",
    "|Date (YYYY-MM-DD)|Version|Changed By|Change Description|\n",
    "|-|-|-|-|\n",
    "|2024-11-05|1.2|Madhusudhan Moole|Updated lab|\n",
    "|2024-09-24|1.1|Madhusudhan Moole|Updated lab|\n",
    "|2024-09-23|1.0|Raghul Ramesh|Created lab|\n",
    "\n",
    "--!>\n"
   ]
  },
  {
   "cell_type": "markdown",
   "metadata": {},
   "source": [
    "Copyright © IBM Corporation. All rights reserved.\n"
   ]
  }
 ],
 "metadata": {
  "kernelspec": {
   "display_name": "Python 3 (ipykernel)",
   "language": "python",
   "name": "python3"
  },
  "language_info": {
   "codemirror_mode": {
    "name": "ipython",
    "version": 3
   },
   "file_extension": ".py",
   "mimetype": "text/x-python",
   "name": "python",
   "nbconvert_exporter": "python",
   "pygments_lexer": "ipython3",
   "version": "3.12.8"
  },
  "prev_pub_hash": "2116052544ce403759eef2159eb3d21f1d38e895d652bcaffa36a5791482361d"
 },
 "nbformat": 4,
 "nbformat_minor": 4
}
