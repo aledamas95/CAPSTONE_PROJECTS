{
 "cells": [
  {
   "cell_type": "markdown",
   "metadata": {},
   "source": [
    "<p style=\"text-align:center\">\n",
    "    <a href=\"https://skills.network\" target=\"_blank\">\n",
    "    <img src=\"https://cf-courses-data.s3.us.cloud-object-storage.appdomain.cloud/assets/logos/SN_web_lightmode.png\" width=\"200\" alt=\"Skills Network Logo\"  />\n",
    "    </a>\n",
    "</p>\n"
   ]
  },
  {
   "cell_type": "markdown",
   "metadata": {},
   "source": [
    "# **Finding Outliers**\n"
   ]
  },
  {
   "cell_type": "markdown",
   "metadata": {},
   "source": [
    "Estimated time needed: **30** minutes\n"
   ]
  },
  {
   "cell_type": "markdown",
   "metadata": {},
   "source": [
    "In this lab, you will work with a cleaned dataset to perform exploratory data analysis or EDA. \n",
    "You will explore the distribution of key variables and focus on identifying outliers in this lab.\n"
   ]
  },
  {
   "cell_type": "markdown",
   "metadata": {},
   "source": [
    "## Objectives\n"
   ]
  },
  {
   "cell_type": "markdown",
   "metadata": {},
   "source": [
    "In this lab, you will perform the following:\n"
   ]
  },
  {
   "cell_type": "markdown",
   "metadata": {},
   "source": [
    "-  Analyze the distribution of key variables in the dataset.\n",
    "\n",
    "-  Identify and remove outliers using statistical methods.\n",
    "\n",
    "-  Perform relevant statistical and correlation analysis.\n"
   ]
  },
  {
   "cell_type": "markdown",
   "metadata": {},
   "source": [
    "#### Install and import the required libraries\n"
   ]
  },
  {
   "cell_type": "code",
   "execution_count": 1,
   "metadata": {},
   "outputs": [
    {
     "name": "stdout",
     "output_type": "stream",
     "text": [
      "Collecting pandas\n",
      "  Downloading pandas-2.2.3-cp312-cp312-manylinux_2_17_x86_64.manylinux2014_x86_64.whl.metadata (89 kB)\n",
      "Collecting numpy>=1.26.0 (from pandas)\n",
      "  Downloading numpy-2.2.3-cp312-cp312-manylinux_2_17_x86_64.manylinux2014_x86_64.whl.metadata (62 kB)\n",
      "Requirement already satisfied: python-dateutil>=2.8.2 in /opt/conda/lib/python3.12/site-packages (from pandas) (2.9.0.post0)\n",
      "Requirement already satisfied: pytz>=2020.1 in /opt/conda/lib/python3.12/site-packages (from pandas) (2024.2)\n",
      "Collecting tzdata>=2022.7 (from pandas)\n",
      "  Downloading tzdata-2025.1-py2.py3-none-any.whl.metadata (1.4 kB)\n",
      "Requirement already satisfied: six>=1.5 in /opt/conda/lib/python3.12/site-packages (from python-dateutil>=2.8.2->pandas) (1.17.0)\n",
      "Downloading pandas-2.2.3-cp312-cp312-manylinux_2_17_x86_64.manylinux2014_x86_64.whl (12.7 MB)\n",
      "\u001b[2K   \u001b[90m━━━━━━━━━━━━━━━━━━━━━━━━━━━━━━━━━━━━━━━━\u001b[0m \u001b[32m12.7/12.7 MB\u001b[0m \u001b[31m138.2 MB/s\u001b[0m eta \u001b[36m0:00:00\u001b[0m\n",
      "\u001b[?25hDownloading numpy-2.2.3-cp312-cp312-manylinux_2_17_x86_64.manylinux2014_x86_64.whl (16.1 MB)\n",
      "\u001b[2K   \u001b[90m━━━━━━━━━━━━━━━━━━━━━━━━━━━━━━━━━━━━━━━━\u001b[0m \u001b[32m16.1/16.1 MB\u001b[0m \u001b[31m180.0 MB/s\u001b[0m eta \u001b[36m0:00:00\u001b[0m\n",
      "\u001b[?25hDownloading tzdata-2025.1-py2.py3-none-any.whl (346 kB)\n",
      "Installing collected packages: tzdata, numpy, pandas\n",
      "Successfully installed numpy-2.2.3 pandas-2.2.3 tzdata-2025.1\n",
      "Collecting matplotlib\n",
      "  Downloading matplotlib-3.10.0-cp312-cp312-manylinux_2_17_x86_64.manylinux2014_x86_64.whl.metadata (11 kB)\n",
      "Collecting contourpy>=1.0.1 (from matplotlib)\n",
      "  Downloading contourpy-1.3.1-cp312-cp312-manylinux_2_17_x86_64.manylinux2014_x86_64.whl.metadata (5.4 kB)\n",
      "Collecting cycler>=0.10 (from matplotlib)\n",
      "  Downloading cycler-0.12.1-py3-none-any.whl.metadata (3.8 kB)\n",
      "Collecting fonttools>=4.22.0 (from matplotlib)\n",
      "  Downloading fonttools-4.56.0-cp312-cp312-manylinux_2_5_x86_64.manylinux1_x86_64.manylinux_2_17_x86_64.manylinux2014_x86_64.whl.metadata (101 kB)\n",
      "Collecting kiwisolver>=1.3.1 (from matplotlib)\n",
      "  Downloading kiwisolver-1.4.8-cp312-cp312-manylinux_2_17_x86_64.manylinux2014_x86_64.whl.metadata (6.2 kB)\n",
      "Requirement already satisfied: numpy>=1.23 in /opt/conda/lib/python3.12/site-packages (from matplotlib) (2.2.3)\n",
      "Requirement already satisfied: packaging>=20.0 in /opt/conda/lib/python3.12/site-packages (from matplotlib) (24.2)\n",
      "Collecting pillow>=8 (from matplotlib)\n",
      "  Downloading pillow-11.1.0-cp312-cp312-manylinux_2_28_x86_64.whl.metadata (9.1 kB)\n",
      "Collecting pyparsing>=2.3.1 (from matplotlib)\n",
      "  Downloading pyparsing-3.2.1-py3-none-any.whl.metadata (5.0 kB)\n",
      "Requirement already satisfied: python-dateutil>=2.7 in /opt/conda/lib/python3.12/site-packages (from matplotlib) (2.9.0.post0)\n",
      "Requirement already satisfied: six>=1.5 in /opt/conda/lib/python3.12/site-packages (from python-dateutil>=2.7->matplotlib) (1.17.0)\n",
      "Downloading matplotlib-3.10.0-cp312-cp312-manylinux_2_17_x86_64.manylinux2014_x86_64.whl (8.6 MB)\n",
      "\u001b[2K   \u001b[90m━━━━━━━━━━━━━━━━━━━━━━━━━━━━━━━━━━━━━━━━\u001b[0m \u001b[32m8.6/8.6 MB\u001b[0m \u001b[31m140.1 MB/s\u001b[0m eta \u001b[36m0:00:00\u001b[0m\n",
      "\u001b[?25hDownloading contourpy-1.3.1-cp312-cp312-manylinux_2_17_x86_64.manylinux2014_x86_64.whl (323 kB)\n",
      "Downloading cycler-0.12.1-py3-none-any.whl (8.3 kB)\n",
      "Downloading fonttools-4.56.0-cp312-cp312-manylinux_2_5_x86_64.manylinux1_x86_64.manylinux_2_17_x86_64.manylinux2014_x86_64.whl (4.9 MB)\n",
      "\u001b[2K   \u001b[90m━━━━━━━━━━━━━━━━━━━━━━━━━━━━━━━━━━━━━━━━\u001b[0m \u001b[32m4.9/4.9 MB\u001b[0m \u001b[31m152.1 MB/s\u001b[0m eta \u001b[36m0:00:00\u001b[0m\n",
      "\u001b[?25hDownloading kiwisolver-1.4.8-cp312-cp312-manylinux_2_17_x86_64.manylinux2014_x86_64.whl (1.5 MB)\n",
      "\u001b[2K   \u001b[90m━━━━━━━━━━━━━━━━━━━━━━━━━━━━━━━━━━━━━━━━\u001b[0m \u001b[32m1.5/1.5 MB\u001b[0m \u001b[31m51.1 MB/s\u001b[0m eta \u001b[36m0:00:00\u001b[0m\n",
      "\u001b[?25hDownloading pillow-11.1.0-cp312-cp312-manylinux_2_28_x86_64.whl (4.5 MB)\n",
      "\u001b[2K   \u001b[90m━━━━━━━━━━━━━━━━━━━━━━━━━━━━━━━━━━━━━━━━\u001b[0m \u001b[32m4.5/4.5 MB\u001b[0m \u001b[31m128.9 MB/s\u001b[0m eta \u001b[36m0:00:00\u001b[0m\n",
      "\u001b[?25hDownloading pyparsing-3.2.1-py3-none-any.whl (107 kB)\n",
      "Installing collected packages: pyparsing, pillow, kiwisolver, fonttools, cycler, contourpy, matplotlib\n",
      "Successfully installed contourpy-1.3.1 cycler-0.12.1 fonttools-4.56.0 kiwisolver-1.4.8 matplotlib-3.10.0 pillow-11.1.0 pyparsing-3.2.1\n",
      "Collecting seaborn\n",
      "  Downloading seaborn-0.13.2-py3-none-any.whl.metadata (5.4 kB)\n",
      "Requirement already satisfied: numpy!=1.24.0,>=1.20 in /opt/conda/lib/python3.12/site-packages (from seaborn) (2.2.3)\n",
      "Requirement already satisfied: pandas>=1.2 in /opt/conda/lib/python3.12/site-packages (from seaborn) (2.2.3)\n",
      "Requirement already satisfied: matplotlib!=3.6.1,>=3.4 in /opt/conda/lib/python3.12/site-packages (from seaborn) (3.10.0)\n",
      "Requirement already satisfied: contourpy>=1.0.1 in /opt/conda/lib/python3.12/site-packages (from matplotlib!=3.6.1,>=3.4->seaborn) (1.3.1)\n",
      "Requirement already satisfied: cycler>=0.10 in /opt/conda/lib/python3.12/site-packages (from matplotlib!=3.6.1,>=3.4->seaborn) (0.12.1)\n",
      "Requirement already satisfied: fonttools>=4.22.0 in /opt/conda/lib/python3.12/site-packages (from matplotlib!=3.6.1,>=3.4->seaborn) (4.56.0)\n",
      "Requirement already satisfied: kiwisolver>=1.3.1 in /opt/conda/lib/python3.12/site-packages (from matplotlib!=3.6.1,>=3.4->seaborn) (1.4.8)\n",
      "Requirement already satisfied: packaging>=20.0 in /opt/conda/lib/python3.12/site-packages (from matplotlib!=3.6.1,>=3.4->seaborn) (24.2)\n",
      "Requirement already satisfied: pillow>=8 in /opt/conda/lib/python3.12/site-packages (from matplotlib!=3.6.1,>=3.4->seaborn) (11.1.0)\n",
      "Requirement already satisfied: pyparsing>=2.3.1 in /opt/conda/lib/python3.12/site-packages (from matplotlib!=3.6.1,>=3.4->seaborn) (3.2.1)\n",
      "Requirement already satisfied: python-dateutil>=2.7 in /opt/conda/lib/python3.12/site-packages (from matplotlib!=3.6.1,>=3.4->seaborn) (2.9.0.post0)\n",
      "Requirement already satisfied: pytz>=2020.1 in /opt/conda/lib/python3.12/site-packages (from pandas>=1.2->seaborn) (2024.2)\n",
      "Requirement already satisfied: tzdata>=2022.7 in /opt/conda/lib/python3.12/site-packages (from pandas>=1.2->seaborn) (2025.1)\n",
      "Requirement already satisfied: six>=1.5 in /opt/conda/lib/python3.12/site-packages (from python-dateutil>=2.7->matplotlib!=3.6.1,>=3.4->seaborn) (1.17.0)\n",
      "Downloading seaborn-0.13.2-py3-none-any.whl (294 kB)\n",
      "Installing collected packages: seaborn\n",
      "Successfully installed seaborn-0.13.2\n"
     ]
    }
   ],
   "source": [
    "!pip install pandas\n",
    "!pip install matplotlib\n",
    "!pip install seaborn\n",
    "\n",
    "import pandas as pd\n",
    "import matplotlib.pyplot as plt\n",
    "import seaborn as sns"
   ]
  },
  {
   "cell_type": "markdown",
   "metadata": {},
   "source": [
    "<h3>Step 1: Load and Explore the Dataset</h3>\n"
   ]
  },
  {
   "cell_type": "markdown",
   "metadata": {},
   "source": [
    "Load the dataset into a DataFrame and examine the structure of the data.\n"
   ]
  },
  {
   "cell_type": "code",
   "execution_count": 8,
   "metadata": {},
   "outputs": [
    {
     "data": {
      "text/html": [
       "<div>\n",
       "<style scoped>\n",
       "    .dataframe tbody tr th:only-of-type {\n",
       "        vertical-align: middle;\n",
       "    }\n",
       "\n",
       "    .dataframe tbody tr th {\n",
       "        vertical-align: top;\n",
       "    }\n",
       "\n",
       "    .dataframe thead th {\n",
       "        text-align: right;\n",
       "    }\n",
       "</style>\n",
       "<table border=\"1\" class=\"dataframe\">\n",
       "  <thead>\n",
       "    <tr style=\"text-align: right;\">\n",
       "      <th></th>\n",
       "      <th>ResponseId</th>\n",
       "      <th>MainBranch</th>\n",
       "      <th>Age</th>\n",
       "      <th>Employment</th>\n",
       "      <th>RemoteWork</th>\n",
       "      <th>Check</th>\n",
       "      <th>CodingActivities</th>\n",
       "      <th>EdLevel</th>\n",
       "      <th>LearnCode</th>\n",
       "      <th>LearnCodeOnline</th>\n",
       "      <th>...</th>\n",
       "      <th>JobSatPoints_6</th>\n",
       "      <th>JobSatPoints_7</th>\n",
       "      <th>JobSatPoints_8</th>\n",
       "      <th>JobSatPoints_9</th>\n",
       "      <th>JobSatPoints_10</th>\n",
       "      <th>JobSatPoints_11</th>\n",
       "      <th>SurveyLength</th>\n",
       "      <th>SurveyEase</th>\n",
       "      <th>ConvertedCompYearly</th>\n",
       "      <th>JobSat</th>\n",
       "    </tr>\n",
       "  </thead>\n",
       "  <tbody>\n",
       "    <tr>\n",
       "      <th>0</th>\n",
       "      <td>1</td>\n",
       "      <td>I am a developer by profession</td>\n",
       "      <td>Under 18 years old</td>\n",
       "      <td>Employed, full-time</td>\n",
       "      <td>Remote</td>\n",
       "      <td>Apples</td>\n",
       "      <td>Hobby</td>\n",
       "      <td>Primary/elementary school</td>\n",
       "      <td>Books / Physical media</td>\n",
       "      <td>NaN</td>\n",
       "      <td>...</td>\n",
       "      <td>NaN</td>\n",
       "      <td>NaN</td>\n",
       "      <td>NaN</td>\n",
       "      <td>NaN</td>\n",
       "      <td>NaN</td>\n",
       "      <td>NaN</td>\n",
       "      <td>NaN</td>\n",
       "      <td>NaN</td>\n",
       "      <td>NaN</td>\n",
       "      <td>NaN</td>\n",
       "    </tr>\n",
       "    <tr>\n",
       "      <th>1</th>\n",
       "      <td>2</td>\n",
       "      <td>I am a developer by profession</td>\n",
       "      <td>35-44 years old</td>\n",
       "      <td>Employed, full-time</td>\n",
       "      <td>Remote</td>\n",
       "      <td>Apples</td>\n",
       "      <td>Hobby;Contribute to open-source projects;Other...</td>\n",
       "      <td>Bachelor’s degree (B.A., B.S., B.Eng., etc.)</td>\n",
       "      <td>Books / Physical media;Colleague;On the job tr...</td>\n",
       "      <td>Technical documentation;Blogs;Books;Written Tu...</td>\n",
       "      <td>...</td>\n",
       "      <td>0.0</td>\n",
       "      <td>0.0</td>\n",
       "      <td>0.0</td>\n",
       "      <td>0.0</td>\n",
       "      <td>0.0</td>\n",
       "      <td>0.0</td>\n",
       "      <td>NaN</td>\n",
       "      <td>NaN</td>\n",
       "      <td>NaN</td>\n",
       "      <td>NaN</td>\n",
       "    </tr>\n",
       "    <tr>\n",
       "      <th>2</th>\n",
       "      <td>3</td>\n",
       "      <td>I am a developer by profession</td>\n",
       "      <td>45-54 years old</td>\n",
       "      <td>Employed, full-time</td>\n",
       "      <td>Remote</td>\n",
       "      <td>Apples</td>\n",
       "      <td>Hobby;Contribute to open-source projects;Other...</td>\n",
       "      <td>Master’s degree (M.A., M.S., M.Eng., MBA, etc.)</td>\n",
       "      <td>Books / Physical media;Colleague;On the job tr...</td>\n",
       "      <td>Technical documentation;Blogs;Books;Written Tu...</td>\n",
       "      <td>...</td>\n",
       "      <td>NaN</td>\n",
       "      <td>NaN</td>\n",
       "      <td>NaN</td>\n",
       "      <td>NaN</td>\n",
       "      <td>NaN</td>\n",
       "      <td>NaN</td>\n",
       "      <td>Appropriate in length</td>\n",
       "      <td>Easy</td>\n",
       "      <td>NaN</td>\n",
       "      <td>NaN</td>\n",
       "    </tr>\n",
       "    <tr>\n",
       "      <th>3</th>\n",
       "      <td>4</td>\n",
       "      <td>I am learning to code</td>\n",
       "      <td>18-24 years old</td>\n",
       "      <td>Student, full-time</td>\n",
       "      <td>NaN</td>\n",
       "      <td>Apples</td>\n",
       "      <td>NaN</td>\n",
       "      <td>Some college/university study without earning ...</td>\n",
       "      <td>Other online resources (e.g., videos, blogs, f...</td>\n",
       "      <td>Stack Overflow;How-to videos;Interactive tutorial</td>\n",
       "      <td>...</td>\n",
       "      <td>NaN</td>\n",
       "      <td>NaN</td>\n",
       "      <td>NaN</td>\n",
       "      <td>NaN</td>\n",
       "      <td>NaN</td>\n",
       "      <td>NaN</td>\n",
       "      <td>Too long</td>\n",
       "      <td>Easy</td>\n",
       "      <td>NaN</td>\n",
       "      <td>NaN</td>\n",
       "    </tr>\n",
       "    <tr>\n",
       "      <th>4</th>\n",
       "      <td>5</td>\n",
       "      <td>I am a developer by profession</td>\n",
       "      <td>18-24 years old</td>\n",
       "      <td>Student, full-time</td>\n",
       "      <td>NaN</td>\n",
       "      <td>Apples</td>\n",
       "      <td>NaN</td>\n",
       "      <td>Secondary school (e.g. American high school, G...</td>\n",
       "      <td>Other online resources (e.g., videos, blogs, f...</td>\n",
       "      <td>Technical documentation;Blogs;Written Tutorial...</td>\n",
       "      <td>...</td>\n",
       "      <td>NaN</td>\n",
       "      <td>NaN</td>\n",
       "      <td>NaN</td>\n",
       "      <td>NaN</td>\n",
       "      <td>NaN</td>\n",
       "      <td>NaN</td>\n",
       "      <td>Too short</td>\n",
       "      <td>Easy</td>\n",
       "      <td>NaN</td>\n",
       "      <td>NaN</td>\n",
       "    </tr>\n",
       "  </tbody>\n",
       "</table>\n",
       "<p>5 rows × 114 columns</p>\n",
       "</div>"
      ],
      "text/plain": [
       "   ResponseId                      MainBranch                 Age  \\\n",
       "0           1  I am a developer by profession  Under 18 years old   \n",
       "1           2  I am a developer by profession     35-44 years old   \n",
       "2           3  I am a developer by profession     45-54 years old   \n",
       "3           4           I am learning to code     18-24 years old   \n",
       "4           5  I am a developer by profession     18-24 years old   \n",
       "\n",
       "            Employment RemoteWork   Check  \\\n",
       "0  Employed, full-time     Remote  Apples   \n",
       "1  Employed, full-time     Remote  Apples   \n",
       "2  Employed, full-time     Remote  Apples   \n",
       "3   Student, full-time        NaN  Apples   \n",
       "4   Student, full-time        NaN  Apples   \n",
       "\n",
       "                                    CodingActivities  \\\n",
       "0                                              Hobby   \n",
       "1  Hobby;Contribute to open-source projects;Other...   \n",
       "2  Hobby;Contribute to open-source projects;Other...   \n",
       "3                                                NaN   \n",
       "4                                                NaN   \n",
       "\n",
       "                                             EdLevel  \\\n",
       "0                          Primary/elementary school   \n",
       "1       Bachelor’s degree (B.A., B.S., B.Eng., etc.)   \n",
       "2    Master’s degree (M.A., M.S., M.Eng., MBA, etc.)   \n",
       "3  Some college/university study without earning ...   \n",
       "4  Secondary school (e.g. American high school, G...   \n",
       "\n",
       "                                           LearnCode  \\\n",
       "0                             Books / Physical media   \n",
       "1  Books / Physical media;Colleague;On the job tr...   \n",
       "2  Books / Physical media;Colleague;On the job tr...   \n",
       "3  Other online resources (e.g., videos, blogs, f...   \n",
       "4  Other online resources (e.g., videos, blogs, f...   \n",
       "\n",
       "                                     LearnCodeOnline  ... JobSatPoints_6  \\\n",
       "0                                                NaN  ...            NaN   \n",
       "1  Technical documentation;Blogs;Books;Written Tu...  ...            0.0   \n",
       "2  Technical documentation;Blogs;Books;Written Tu...  ...            NaN   \n",
       "3  Stack Overflow;How-to videos;Interactive tutorial  ...            NaN   \n",
       "4  Technical documentation;Blogs;Written Tutorial...  ...            NaN   \n",
       "\n",
       "  JobSatPoints_7 JobSatPoints_8 JobSatPoints_9 JobSatPoints_10  \\\n",
       "0            NaN            NaN            NaN             NaN   \n",
       "1            0.0            0.0            0.0             0.0   \n",
       "2            NaN            NaN            NaN             NaN   \n",
       "3            NaN            NaN            NaN             NaN   \n",
       "4            NaN            NaN            NaN             NaN   \n",
       "\n",
       "  JobSatPoints_11           SurveyLength SurveyEase ConvertedCompYearly JobSat  \n",
       "0             NaN                    NaN        NaN                 NaN    NaN  \n",
       "1             0.0                    NaN        NaN                 NaN    NaN  \n",
       "2             NaN  Appropriate in length       Easy                 NaN    NaN  \n",
       "3             NaN               Too long       Easy                 NaN    NaN  \n",
       "4             NaN              Too short       Easy                 NaN    NaN  \n",
       "\n",
       "[5 rows x 114 columns]"
      ]
     },
     "execution_count": 8,
     "metadata": {},
     "output_type": "execute_result"
    }
   ],
   "source": [
    "file_url = \"https://cf-courses-data.s3.us.cloud-object-storage.appdomain.cloud/n01PQ9pSmiRX6520flujwQ/survey-data.csv\"\n",
    "\n",
    "#Create the dataframe\n",
    "df = pd.read_csv(file_url)\n",
    "\n",
    "#Display the top 10 records\n",
    "df.head()\n"
   ]
  },
  {
   "cell_type": "markdown",
   "metadata": {},
   "source": [
    "<h3>Step 2: Plot the Distribution of Industry</h3>\n"
   ]
  },
  {
   "cell_type": "markdown",
   "metadata": {},
   "source": [
    "Explore how respondents are distributed across different industries.\n",
    "\n",
    "- Plot a bar chart to visualize the distribution of respondents by industry.\n",
    "\n",
    "- Highlight any notable trends.\n"
   ]
  },
  {
   "cell_type": "code",
   "execution_count": 25,
   "metadata": {},
   "outputs": [
    {
     "data": {
      "text/plain": [
       "Industry\n",
       "Software Development                          11918\n",
       "Other:                                         3077\n",
       "Fintech                                        1641\n",
       "Internet, Telecomm or Information Services     1629\n",
       "Banking/Financial Services                     1371\n",
       "Healthcare                                     1277\n",
       "Manufacturing                                  1265\n",
       "Retail and Consumer Services                   1264\n",
       "Government                                      962\n",
       "Media & Advertising Services                    894\n",
       "Higher Education                                890\n",
       "Transportation, or Supply Chain                 859\n",
       "Computer Systems Design and Services            844\n",
       "Energy                                          578\n",
       "Insurance                                       389\n",
       "Name: count, dtype: int64"
      ]
     },
     "execution_count": 25,
     "metadata": {},
     "output_type": "execute_result"
    }
   ],
   "source": [
    "df.Industry.value_counts()"
   ]
  },
  {
   "cell_type": "code",
   "execution_count": 3,
   "metadata": {},
   "outputs": [
    {
     "data": {
      "text/plain": [
       "Index(['Software Development', 'Other:', 'Fintech',\n",
       "       'Internet, Telecomm or Information Services',\n",
       "       'Banking/Financial Services', 'Healthcare', 'Manufacturing',\n",
       "       'Retail and Consumer Services', 'Government',\n",
       "       'Media & Advertising Services', 'Higher Education',\n",
       "       'Transportation, or Supply Chain',\n",
       "       'Computer Systems Design and Services', 'Energy', 'Insurance'],\n",
       "      dtype='object', name='Industry')"
      ]
     },
     "execution_count": 3,
     "metadata": {},
     "output_type": "execute_result"
    }
   ],
   "source": [
    "df.Industry.value_counts().index"
   ]
  },
  {
   "cell_type": "code",
   "execution_count": 6,
   "metadata": {},
   "outputs": [
    {
     "data": {
      "image/png": "[encoded data removed]",
      "text/plain": [
       "<Figure size 640x480 with 1 Axes>"
      ]
     },
     "metadata": {},
     "output_type": "display_data"
    }
   ],
   "source": [
    "import matplotlib.pyplot as plt\n",
    "\n",
    "data = {'Industry': ['Software Development', 'Other', 'Fintech',\n",
    "       'Internet/Telecomm/Info Services',\n",
    "       'Banking/Financial', 'Healthcare', 'Manufacturing',\n",
    "       'Retail & Consumer', 'Government',\n",
    "       'Media & Advertising', 'Higher Education',\n",
    "       'Transportation/Supply Chain',\n",
    "       'Computer Systems Design', 'Energy', 'Insurance'],\n",
    "        'Value': [19918, 3077, 1641, 1629, 1371, 1277, 1265, 1264, 962, 894, 890, 859, 844, 578, 389]}\n",
    "df = pd.DataFrame(data)\n",
    "df.plot(x='Industry', y='Value', kind='bar')\n",
    "plt.title('Distribution of Respondents by Industry')\n",
    "plt.xlabel('Industries')\n",
    "plt.ylabel('Respondents')\n",
    "plt.show()"
   ]
  },
  {
   "cell_type": "code",
   "execution_count": 8,
   "metadata": {},
   "outputs": [
    {
     "data": {
      "text/plain": [
       "(65437,)"
      ]
     },
     "execution_count": 8,
     "metadata": {},
     "output_type": "execute_result"
    }
   ],
   "source": [
    "df.ResponseId.shape"
   ]
  },
  {
   "cell_type": "markdown",
   "metadata": {},
   "source": [
    "<h3>Step 3: Identify High Compensation Outliers</h3>\n"
   ]
  },
  {
   "cell_type": "markdown",
   "metadata": {},
   "source": [
    "Identify respondents with extremely high yearly compensation.\n",
    "\n",
    "- Calculate basic statistics (mean, median, and standard deviation) for `ConvertedCompYearly`.\n",
    "\n",
    "- Identify compensation values exceeding a defined threshold (e.g., 3 standard deviations above the mean).\n"
   ]
  },
  {
   "cell_type": "code",
   "execution_count": 20,
   "metadata": {},
   "outputs": [
    {
     "name": "stdout",
     "output_type": "stream",
     "text": [
      "86155.28726264134\n",
      "0    64444.0\n",
      "Name: ConvertedCompYearly, dtype: float64\n",
      "186756.97308629757\n"
     ]
    }
   ],
   "source": [
    "mean_value = df['ConvertedCompYearly'].mean()\n",
    "print(mean_value)\n",
    "\n",
    "mode_value= df['ConvertedCompYearly'].mode()\n",
    "print(mode_value)\n",
    "\n",
    "std_dev = df['ConvertedCompYearly'].std() \n",
    "print(std_dev)"
   ]
  },
  {
   "cell_type": "code",
   "execution_count": 21,
   "metadata": {},
   "outputs": [
    {
     "data": {
      "text/plain": [
       "count    2.343500e+04\n",
       "mean     8.615529e+04\n",
       "std      1.867570e+05\n",
       "min      1.000000e+00\n",
       "25%      3.271200e+04\n",
       "50%      6.500000e+04\n",
       "75%      1.079715e+05\n",
       "max      1.625660e+07\n",
       "Name: ConvertedCompYearly, dtype: float64"
      ]
     },
     "execution_count": 21,
     "metadata": {},
     "output_type": "execute_result"
    }
   ],
   "source": [
    "df.ConvertedCompYearly.describe()"
   ]
  },
  {
   "cell_type": "code",
   "execution_count": 22,
   "metadata": {},
   "outputs": [
    {
     "name": "stdout",
     "output_type": "stream",
     "text": [
      "646426.2065215341\n"
     ]
    }
   ],
   "source": [
    "mean = 86155.28726264134\n",
    "std_dev = 186756.97308629757\n",
    "\n",
    "three_std_above_mean = mean + (3 * std_dev)\n",
    "\n",
    "print(three_std_above_mean)"
   ]
  },
  {
   "cell_type": "markdown",
   "metadata": {},
   "source": [
    "<h3>Step 4: Detect Outliers in Compensation</h3>\n"
   ]
  },
  {
   "cell_type": "markdown",
   "metadata": {},
   "source": [
    "Identify outliers in the `ConvertedCompYearly` column using the IQR method.\n",
    "\n",
    "- Calculate the Interquartile Range (IQR).\n",
    "\n",
    "- Determine the upper and lower bounds for outliers.\n",
    "\n",
    "- Count and visualize outliers using a box plot.\n"
   ]
  },
  {
   "cell_type": "code",
   "execution_count": 35,
   "metadata": {},
   "outputs": [
    {
     "name": "stdout",
     "output_type": "stream",
     "text": [
      "The IQR of column 'ConvertedCompYearly' is: 75259.5\n",
      "Lower bound: -80177.25\n",
      "Upper bound: 220860.75\n",
      "Outliers:\n",
      "       ResponseId                      MainBranch              Age  \\\n",
      "428           429  I am a developer by profession  25-34 years old   \n",
      "456           457  I am a developer by profession  45-54 years old   \n",
      "461           462  I am a developer by profession  45-54 years old   \n",
      "529           530  I am a developer by profession  25-34 years old   \n",
      "545           546  I am a developer by profession  35-44 years old   \n",
      "...           ...                             ...              ...   \n",
      "40952       40953  I am a developer by profession  35-44 years old   \n",
      "41000       41001  I am a developer by profession  35-44 years old   \n",
      "41001       41002  I am a developer by profession  45-54 years old   \n",
      "41027       41028  I am a developer by profession  55-64 years old   \n",
      "41187       41188  I am a developer by profession  55-64 years old   \n",
      "\n",
      "                                              Employment  \\\n",
      "428                                  Employed, full-time   \n",
      "456                                  Employed, full-time   \n",
      "461                                  Employed, full-time   \n",
      "529                                  Employed, full-time   \n",
      "545                                  Employed, full-time   \n",
      "...                                                  ...   \n",
      "40952                                Employed, full-time   \n",
      "41000                                Employed, full-time   \n",
      "41001             Employed, full-time;Student, part-time   \n",
      "41027  Independent contractor, freelancer, or self-em...   \n",
      "41187  Employed, full-time;Independent contractor, fr...   \n",
      "\n",
      "                                 RemoteWork   Check  \\\n",
      "428                                  Remote  Apples   \n",
      "456    Hybrid (some remote, some in-person)  Apples   \n",
      "461    Hybrid (some remote, some in-person)  Apples   \n",
      "529                               In-person  Apples   \n",
      "545                                  Remote  Apples   \n",
      "...                                     ...     ...   \n",
      "40952                                Remote  Apples   \n",
      "41000  Hybrid (some remote, some in-person)  Apples   \n",
      "41001  Hybrid (some remote, some in-person)  Apples   \n",
      "41027                                Remote  Apples   \n",
      "41187  Hybrid (some remote, some in-person)  Apples   \n",
      "\n",
      "                                        CodingActivities  \\\n",
      "428    Hobby;Professional development or self-paced l...   \n",
      "456                         I don’t code outside of work   \n",
      "461    Hobby;Professional development or self-paced l...   \n",
      "529                                                Hobby   \n",
      "545    Hobby;Contribute to open-source projects;Profe...   \n",
      "...                                                  ...   \n",
      "40952                                              Hobby   \n",
      "41000                       I don’t code outside of work   \n",
      "41001                            School or academic work   \n",
      "41027                       I don’t code outside of work   \n",
      "41187  Hobby;Contribute to open-source projects;Boots...   \n",
      "\n",
      "                                                 EdLevel  \\\n",
      "428         Bachelor’s degree (B.A., B.S., B.Eng., etc.)   \n",
      "456       Professional degree (JD, MD, Ph.D, Ed.D, etc.)   \n",
      "461      Master’s degree (M.A., M.S., M.Eng., MBA, etc.)   \n",
      "529         Bachelor’s degree (B.A., B.S., B.Eng., etc.)   \n",
      "545    Secondary school (e.g. American high school, G...   \n",
      "...                                                  ...   \n",
      "40952  Some college/university study without earning ...   \n",
      "41000       Bachelor’s degree (B.A., B.S., B.Eng., etc.)   \n",
      "41001       Bachelor’s degree (B.A., B.S., B.Eng., etc.)   \n",
      "41027  Some college/university study without earning ...   \n",
      "41187                                     Something else   \n",
      "\n",
      "                                               LearnCode  \\\n",
      "428    Books / Physical media;On the job training;Oth...   \n",
      "456              School (i.e., University, College, etc)   \n",
      "461    Books / Physical media;Colleague;On the job tr...   \n",
      "529    Books / Physical media;School (i.e., Universit...   \n",
      "545    Books / Physical media;Colleague;On the job tr...   \n",
      "...                                                  ...   \n",
      "40952  Books / Physical media;Colleague;Other online ...   \n",
      "41000  Colleague;On the job training;Other online res...   \n",
      "41001  Books / Physical media;Colleague;Other online ...   \n",
      "41027                            Other (please specify):   \n",
      "41187  Books / Physical media;Colleague;On the job tr...   \n",
      "\n",
      "                                         LearnCodeOnline  ... JobSatPoints_6  \\\n",
      "428    Technical documentation;Blogs;Books;Written Tu...  ...            0.0   \n",
      "456                                                  NaN  ...           10.0   \n",
      "461    Technical documentation;Blogs;Books;Written Tu...  ...           20.0   \n",
      "529                                                  NaN  ...           40.0   \n",
      "545    Technical documentation;Blogs;Books;Written Tu...  ...           30.0   \n",
      "...                                                  ...  ...            ...   \n",
      "40952       Technical documentation;Blogs;Stack Overflow  ...            NaN   \n",
      "41000  Technical documentation;Blogs;Written Tutorial...  ...           60.0   \n",
      "41001  Technical documentation;Books;Written Tutorial...  ...            NaN   \n",
      "41027                                                NaN  ...            0.0   \n",
      "41187  Technical documentation;Books;Written Tutorial...  ...           25.0   \n",
      "\n",
      "      JobSatPoints_7 JobSatPoints_8 JobSatPoints_9 JobSatPoints_10  \\\n",
      "428              0.0            0.0           25.0            25.0   \n",
      "456             10.0            0.0            0.0             0.0   \n",
      "461             50.0            0.0           10.0            10.0   \n",
      "529             20.0            0.0           30.0            10.0   \n",
      "545              5.0            5.0           10.0             0.0   \n",
      "...              ...            ...            ...             ...   \n",
      "40952            NaN            NaN            NaN             NaN   \n",
      "41000           50.0            0.0           80.0            50.0   \n",
      "41001            NaN            NaN            NaN             NaN   \n",
      "41027            0.0            0.0            0.0             0.0   \n",
      "41187           10.0           10.0           10.0             5.0   \n",
      "\n",
      "      JobSatPoints_11           SurveyLength                  SurveyEase  \\\n",
      "428              25.0  Appropriate in length  Neither easy nor difficult   \n",
      "456               0.0  Appropriate in length  Neither easy nor difficult   \n",
      "461               0.0  Appropriate in length  Neither easy nor difficult   \n",
      "529               0.0  Appropriate in length                        Easy   \n",
      "545               0.0  Appropriate in length                        Easy   \n",
      "...               ...                    ...                         ...   \n",
      "40952             NaN  Appropriate in length                        Easy   \n",
      "41000             0.0               Too long  Neither easy nor difficult   \n",
      "41001             NaN  Appropriate in length                        Easy   \n",
      "41027             0.0  Appropriate in length  Neither easy nor difficult   \n",
      "41187             5.0  Appropriate in length  Neither easy nor difficult   \n",
      "\n",
      "      ConvertedCompYearly JobSat  \n",
      "428              230000.0    8.0  \n",
      "456              300000.0    1.0  \n",
      "461              254425.0    7.0  \n",
      "529              650000.0    6.0  \n",
      "545              400000.0    8.0  \n",
      "...                   ...    ...  \n",
      "40952            750000.0    NaN  \n",
      "41000            235000.0    6.0  \n",
      "41001            260000.0    NaN  \n",
      "41027            700000.0   10.0  \n",
      "41187            222834.0   10.0  \n",
      "\n",
      "[978 rows x 114 columns]\n"
     ]
    }
   ],
   "source": [
    "def calculate_iqr(df, ConvertedCompYearly):\n",
    "\n",
    "  Q1 = df[ConvertedCompYearly].quantile(0.25)\n",
    "  Q3 = df[ConvertedCompYearly].quantile(0.75)\n",
    "  IQR = Q3 - Q1\n",
    "  return IQR\n",
    "\n",
    "iqr_value = calculate_iqr(df, 'ConvertedCompYearly')\n",
    "print(f\"The IQR of column 'ConvertedCompYearly' is: {iqr_value}\")\n",
    "\n",
    "\n",
    "def calculate_outlier_bounds(ConvertedCompYearly):\n",
    "    \n",
    "    Q1 = ConvertedCompYearly.quantile(0.25)\n",
    "    Q3 = ConvertedCompYearly.quantile(0.75)\n",
    "    IQR = Q3 - Q1\n",
    "    lower_bound = Q1 - 1.5 * IQR\n",
    "    upper_bound = Q3 + 1.5 * IQR\n",
    "    return lower_bound, upper_bound\n",
    "\n",
    "lower_bound, upper_bound = calculate_outlier_bounds(df['ConvertedCompYearly'])\n",
    "print(f\"Lower bound: {lower_bound}\")\n",
    "print(f\"Upper bound: {upper_bound}\")\n",
    "\n",
    "outliers = df[(df['ConvertedCompYearly'] < lower_bound) | (df['ConvertedCompYearly'] > upper_bound)]\n",
    "print(\"Outliers:\")\n",
    "print(outliers)\n"
   ]
  },
  {
   "cell_type": "code",
   "execution_count": 38,
   "metadata": {},
   "outputs": [
    {
     "data": {
      "image/png": "[encoded data removed]",
      "text/plain": [
       "<Figure size 800x600 with 1 Axes>"
      ]
     },
     "metadata": {},
     "output_type": "display_data"
    }
   ],
   "source": [
    "\n",
    "plt.figure(figsize=(8, 6))\n",
    "sns.boxplot(x=df['ConvertedCompYearly'])\n",
    "plt.title('Box Plot of column_name')\n",
    "plt.xlabel('column_name values')\n",
    "plt.show()"
   ]
  },
  {
   "cell_type": "markdown",
   "metadata": {},
   "source": [
    "<h3>Step 5: Remove Outliers and Create a New DataFrame</h3>\n"
   ]
  },
  {
   "cell_type": "markdown",
   "metadata": {},
   "source": [
    "Remove outliers from the dataset.\n",
    "\n",
    "- Create a new DataFrame excluding rows with outliers in `ConvertedCompYearly`.\n",
    "- Validate the size of the new DataFrame.\n"
   ]
  },
  {
   "cell_type": "code",
   "execution_count": null,
   "metadata": {},
   "outputs": [],
   "source": [
    "##Write your code here"
   ]
  },
  {
   "cell_type": "markdown",
   "metadata": {},
   "source": [
    "<h3>Step 6: Correlation Analysis</h3>\n"
   ]
  },
  {
   "cell_type": "markdown",
   "metadata": {},
   "source": [
    "Analyze the correlation between `Age` (transformed) and other numerical columns.\n",
    "\n",
    "- Map the `Age` column to approximate numeric values.\n",
    "\n",
    "- Compute correlations between `Age` and other numeric variables.\n",
    "\n",
    "- Visualize the correlation matrix.\n"
   ]
  },
  {
   "cell_type": "code",
   "execution_count": null,
   "metadata": {},
   "outputs": [],
   "source": [
    "##Write your code here"
   ]
  },
  {
   "cell_type": "markdown",
   "metadata": {},
   "source": [
    "<h3> Summary </h3>\n"
   ]
  },
  {
   "cell_type": "markdown",
   "metadata": {},
   "source": [
    "In this lab, you developed essential skills in **Exploratory Data Analysis (EDA)** with a focus on outlier detection and removal. Specifically, you:\n"
   ]
  },
  {
   "cell_type": "markdown",
   "metadata": {},
   "source": [
    "- Loaded and explored the dataset to understand its structure.\n",
    "\n",
    "- Analyzed the distribution of respondents across industries.\n",
    "\n",
    "- Identified and removed high compensation outliers using statistical thresholds and the Interquartile Range (IQR) method.\n",
    "\n",
    "- Performed correlation analysis, including transforming the `Age` column into numeric values for better analysis.\n"
   ]
  },
  {
   "cell_type": "markdown",
   "metadata": {},
   "source": [
    "<!--\n",
    "## Change Log\n",
    "|Date (YYYY-MM-DD)|Version|Changed By|Change Description|\n",
    "|-|-|-|-|               \n",
    "|2024-10-1|1.1|Madhusudan Moole|Reviewed and updated lab|                                                                                    \n",
    "|2024-09-29|1.0|Raghul Ramesh|Created lab|\n",
    "--!>\n"
   ]
  },
  {
   "cell_type": "markdown",
   "metadata": {},
   "source": [
    "Copyright © IBM Corporation. All rights reserved.\n"
   ]
  }
 ],
 "metadata": {
  "kernelspec": {
   "display_name": "Python 3 (ipykernel)",
   "language": "python",
   "name": "python3"
  },
  "language_info": {
   "codemirror_mode": {
    "name": "ipython",
    "version": 3
   },
   "file_extension": ".py",
   "mimetype": "text/x-python",
   "name": "python",
   "nbconvert_exporter": "python",
   "pygments_lexer": "ipython3",
   "version": "3.12.8"
  },
  "prev_pub_hash": "bfb6b5324ee15056f94c357f33a9f92b9c3ff0f4ad4b517e8e51e820f5595113"
 },
 "nbformat": 4,
 "nbformat_minor": 4
}
