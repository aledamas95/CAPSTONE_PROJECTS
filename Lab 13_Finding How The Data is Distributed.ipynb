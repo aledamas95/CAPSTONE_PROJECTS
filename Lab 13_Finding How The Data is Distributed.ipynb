{
 "cells": [
  {
   "cell_type": "markdown",
   "metadata": {},
   "source": [
    "<p style=\"text-align:center\">\n",
    "    <a href=\"https://skills.network\" target=\"_blank\">\n",
    "    <img src=\"https://cf-courses-data.s3.us.cloud-object-storage.appdomain.cloud/assets/logos/SN_web_lightmode.png\" width=\"200\" alt=\"Skills Network Logo\"  />\n",
    "    </a>\n",
    "</p>\n"
   ]
  },
  {
   "cell_type": "markdown",
   "metadata": {},
   "source": [
    "# **Finding How The Data Is Distributed**\n"
   ]
  },
  {
   "cell_type": "markdown",
   "metadata": {},
   "source": [
    "Estimated time needed: **30** minutes\n"
   ]
  },
  {
   "cell_type": "markdown",
   "metadata": {},
   "source": [
    "In this lab, you will work with a cleaned dataset to perform Exploratory Data Analysis (EDA). You will examine the structure of the data, visualize key variables, and analyze trends related to developer experience, tools, job satisfaction, and other important aspects.\n"
   ]
  },
  {
   "cell_type": "markdown",
   "metadata": {},
   "source": [
    "## Objectives\n"
   ]
  },
  {
   "cell_type": "markdown",
   "metadata": {},
   "source": [
    "In this lab you will perform the following:\n"
   ]
  },
  {
   "cell_type": "markdown",
   "metadata": {},
   "source": [
    "- Understand the structure of the dataset.\n",
    "\n",
    "- Perform summary statistics and data visualization.\n",
    "\n",
    "- Identify trends in developer experience, tools, job satisfaction, and other key variables.\n"
   ]
  },
  {
   "cell_type": "markdown",
   "metadata": {},
   "source": [
    "### Install the required libraries\n"
   ]
  },
  {
   "cell_type": "code",
   "execution_count": 1,
   "metadata": {},
   "outputs": [
    {
     "name": "stdout",
     "output_type": "stream",
     "text": [
      "Requirement already satisfied: pandas in /opt/conda/lib/python3.12/site-packages (2.2.3)\n",
      "Requirement already satisfied: numpy>=1.26.0 in /opt/conda/lib/python3.12/site-packages (from pandas) (2.2.3)\n",
      "Requirement already satisfied: python-dateutil>=2.8.2 in /opt/conda/lib/python3.12/site-packages (from pandas) (2.9.0.post0)\n",
      "Requirement already satisfied: pytz>=2020.1 in /opt/conda/lib/python3.12/site-packages (from pandas) (2024.2)\n",
      "Requirement already satisfied: tzdata>=2022.7 in /opt/conda/lib/python3.12/site-packages (from pandas) (2025.1)\n",
      "Requirement already satisfied: six>=1.5 in /opt/conda/lib/python3.12/site-packages (from python-dateutil>=2.8.2->pandas) (1.17.0)\n",
      "Requirement already satisfied: matplotlib in /opt/conda/lib/python3.12/site-packages (3.10.0)\n",
      "Requirement already satisfied: contourpy>=1.0.1 in /opt/conda/lib/python3.12/site-packages (from matplotlib) (1.3.1)\n",
      "Requirement already satisfied: cycler>=0.10 in /opt/conda/lib/python3.12/site-packages (from matplotlib) (0.12.1)\n",
      "Requirement already satisfied: fonttools>=4.22.0 in /opt/conda/lib/python3.12/site-packages (from matplotlib) (4.56.0)\n",
      "Requirement already satisfied: kiwisolver>=1.3.1 in /opt/conda/lib/python3.12/site-packages (from matplotlib) (1.4.8)\n",
      "Requirement already satisfied: numpy>=1.23 in /opt/conda/lib/python3.12/site-packages (from matplotlib) (2.2.3)\n",
      "Requirement already satisfied: packaging>=20.0 in /opt/conda/lib/python3.12/site-packages (from matplotlib) (24.2)\n",
      "Requirement already satisfied: pillow>=8 in /opt/conda/lib/python3.12/site-packages (from matplotlib) (11.1.0)\n",
      "Requirement already satisfied: pyparsing>=2.3.1 in /opt/conda/lib/python3.12/site-packages (from matplotlib) (3.2.1)\n",
      "Requirement already satisfied: python-dateutil>=2.7 in /opt/conda/lib/python3.12/site-packages (from matplotlib) (2.9.0.post0)\n",
      "Requirement already satisfied: six>=1.5 in /opt/conda/lib/python3.12/site-packages (from python-dateutil>=2.7->matplotlib) (1.17.0)\n",
      "Requirement already satisfied: seaborn in /opt/conda/lib/python3.12/site-packages (0.13.2)\n",
      "Requirement already satisfied: numpy!=1.24.0,>=1.20 in /opt/conda/lib/python3.12/site-packages (from seaborn) (2.2.3)\n",
      "Requirement already satisfied: pandas>=1.2 in /opt/conda/lib/python3.12/site-packages (from seaborn) (2.2.3)\n",
      "Requirement already satisfied: matplotlib!=3.6.1,>=3.4 in /opt/conda/lib/python3.12/site-packages (from seaborn) (3.10.0)\n",
      "Requirement already satisfied: contourpy>=1.0.1 in /opt/conda/lib/python3.12/site-packages (from matplotlib!=3.6.1,>=3.4->seaborn) (1.3.1)\n",
      "Requirement already satisfied: cycler>=0.10 in /opt/conda/lib/python3.12/site-packages (from matplotlib!=3.6.1,>=3.4->seaborn) (0.12.1)\n",
      "Requirement already satisfied: fonttools>=4.22.0 in /opt/conda/lib/python3.12/site-packages (from matplotlib!=3.6.1,>=3.4->seaborn) (4.56.0)\n",
      "Requirement already satisfied: kiwisolver>=1.3.1 in /opt/conda/lib/python3.12/site-packages (from matplotlib!=3.6.1,>=3.4->seaborn) (1.4.8)\n",
      "Requirement already satisfied: packaging>=20.0 in /opt/conda/lib/python3.12/site-packages (from matplotlib!=3.6.1,>=3.4->seaborn) (24.2)\n",
      "Requirement already satisfied: pillow>=8 in /opt/conda/lib/python3.12/site-packages (from matplotlib!=3.6.1,>=3.4->seaborn) (11.1.0)\n",
      "Requirement already satisfied: pyparsing>=2.3.1 in /opt/conda/lib/python3.12/site-packages (from matplotlib!=3.6.1,>=3.4->seaborn) (3.2.1)\n",
      "Requirement already satisfied: python-dateutil>=2.7 in /opt/conda/lib/python3.12/site-packages (from matplotlib!=3.6.1,>=3.4->seaborn) (2.9.0.post0)\n",
      "Requirement already satisfied: pytz>=2020.1 in /opt/conda/lib/python3.12/site-packages (from pandas>=1.2->seaborn) (2024.2)\n",
      "Requirement already satisfied: tzdata>=2022.7 in /opt/conda/lib/python3.12/site-packages (from pandas>=1.2->seaborn) (2025.1)\n",
      "Requirement already satisfied: six>=1.5 in /opt/conda/lib/python3.12/site-packages (from python-dateutil>=2.7->matplotlib!=3.6.1,>=3.4->seaborn) (1.17.0)\n"
     ]
    }
   ],
   "source": [
    "!pip install pandas\n",
    "!pip install matplotlib\n",
    "!pip install seaborn\n"
   ]
  },
  {
   "cell_type": "markdown",
   "metadata": {},
   "source": [
    "### Step 1: Import Libraries and Load Data\n"
   ]
  },
  {
   "cell_type": "markdown",
   "metadata": {},
   "source": [
    "- Import the `pandas`, `matplotlib.pyplot`, and `seaborn` libraries.\n"
   ]
  },
  {
   "cell_type": "markdown",
   "metadata": {},
   "source": [
    "- You will begin with loading the dataset. You can use the pyfetch method if working on JupyterLite. Otherwise, you can use pandas' read_csv() function directly on their local machines or cloud environments.\n"
   ]
  },
  {
   "cell_type": "code",
   "execution_count": 2,
   "metadata": {},
   "outputs": [
    {
     "data": {
      "text/html": [
       "<div>\n",
       "<style scoped>\n",
       "    .dataframe tbody tr th:only-of-type {\n",
       "        vertical-align: middle;\n",
       "    }\n",
       "\n",
       "    .dataframe tbody tr th {\n",
       "        vertical-align: top;\n",
       "    }\n",
       "\n",
       "    .dataframe thead th {\n",
       "        text-align: right;\n",
       "    }\n",
       "</style>\n",
       "<table border=\"1\" class=\"dataframe\">\n",
       "  <thead>\n",
       "    <tr style=\"text-align: right;\">\n",
       "      <th></th>\n",
       "      <th>ResponseId</th>\n",
       "      <th>MainBranch</th>\n",
       "      <th>Age</th>\n",
       "      <th>Employment</th>\n",
       "      <th>RemoteWork</th>\n",
       "      <th>Check</th>\n",
       "      <th>CodingActivities</th>\n",
       "      <th>EdLevel</th>\n",
       "      <th>LearnCode</th>\n",
       "      <th>LearnCodeOnline</th>\n",
       "      <th>...</th>\n",
       "      <th>JobSatPoints_6</th>\n",
       "      <th>JobSatPoints_7</th>\n",
       "      <th>JobSatPoints_8</th>\n",
       "      <th>JobSatPoints_9</th>\n",
       "      <th>JobSatPoints_10</th>\n",
       "      <th>JobSatPoints_11</th>\n",
       "      <th>SurveyLength</th>\n",
       "      <th>SurveyEase</th>\n",
       "      <th>ConvertedCompYearly</th>\n",
       "      <th>JobSat</th>\n",
       "    </tr>\n",
       "  </thead>\n",
       "  <tbody>\n",
       "    <tr>\n",
       "      <th>0</th>\n",
       "      <td>1</td>\n",
       "      <td>I am a developer by profession</td>\n",
       "      <td>Under 18 years old</td>\n",
       "      <td>Employed, full-time</td>\n",
       "      <td>Remote</td>\n",
       "      <td>Apples</td>\n",
       "      <td>Hobby</td>\n",
       "      <td>Primary/elementary school</td>\n",
       "      <td>Books / Physical media</td>\n",
       "      <td>NaN</td>\n",
       "      <td>...</td>\n",
       "      <td>NaN</td>\n",
       "      <td>NaN</td>\n",
       "      <td>NaN</td>\n",
       "      <td>NaN</td>\n",
       "      <td>NaN</td>\n",
       "      <td>NaN</td>\n",
       "      <td>NaN</td>\n",
       "      <td>NaN</td>\n",
       "      <td>NaN</td>\n",
       "      <td>NaN</td>\n",
       "    </tr>\n",
       "    <tr>\n",
       "      <th>1</th>\n",
       "      <td>2</td>\n",
       "      <td>I am a developer by profession</td>\n",
       "      <td>35-44 years old</td>\n",
       "      <td>Employed, full-time</td>\n",
       "      <td>Remote</td>\n",
       "      <td>Apples</td>\n",
       "      <td>Hobby;Contribute to open-source projects;Other...</td>\n",
       "      <td>Bachelor’s degree (B.A., B.S., B.Eng., etc.)</td>\n",
       "      <td>Books / Physical media;Colleague;On the job tr...</td>\n",
       "      <td>Technical documentation;Blogs;Books;Written Tu...</td>\n",
       "      <td>...</td>\n",
       "      <td>0.0</td>\n",
       "      <td>0.0</td>\n",
       "      <td>0.0</td>\n",
       "      <td>0.0</td>\n",
       "      <td>0.0</td>\n",
       "      <td>0.0</td>\n",
       "      <td>NaN</td>\n",
       "      <td>NaN</td>\n",
       "      <td>NaN</td>\n",
       "      <td>NaN</td>\n",
       "    </tr>\n",
       "    <tr>\n",
       "      <th>2</th>\n",
       "      <td>3</td>\n",
       "      <td>I am a developer by profession</td>\n",
       "      <td>45-54 years old</td>\n",
       "      <td>Employed, full-time</td>\n",
       "      <td>Remote</td>\n",
       "      <td>Apples</td>\n",
       "      <td>Hobby;Contribute to open-source projects;Other...</td>\n",
       "      <td>Master’s degree (M.A., M.S., M.Eng., MBA, etc.)</td>\n",
       "      <td>Books / Physical media;Colleague;On the job tr...</td>\n",
       "      <td>Technical documentation;Blogs;Books;Written Tu...</td>\n",
       "      <td>...</td>\n",
       "      <td>NaN</td>\n",
       "      <td>NaN</td>\n",
       "      <td>NaN</td>\n",
       "      <td>NaN</td>\n",
       "      <td>NaN</td>\n",
       "      <td>NaN</td>\n",
       "      <td>Appropriate in length</td>\n",
       "      <td>Easy</td>\n",
       "      <td>NaN</td>\n",
       "      <td>NaN</td>\n",
       "    </tr>\n",
       "    <tr>\n",
       "      <th>3</th>\n",
       "      <td>4</td>\n",
       "      <td>I am learning to code</td>\n",
       "      <td>18-24 years old</td>\n",
       "      <td>Student, full-time</td>\n",
       "      <td>NaN</td>\n",
       "      <td>Apples</td>\n",
       "      <td>NaN</td>\n",
       "      <td>Some college/university study without earning ...</td>\n",
       "      <td>Other online resources (e.g., videos, blogs, f...</td>\n",
       "      <td>Stack Overflow;How-to videos;Interactive tutorial</td>\n",
       "      <td>...</td>\n",
       "      <td>NaN</td>\n",
       "      <td>NaN</td>\n",
       "      <td>NaN</td>\n",
       "      <td>NaN</td>\n",
       "      <td>NaN</td>\n",
       "      <td>NaN</td>\n",
       "      <td>Too long</td>\n",
       "      <td>Easy</td>\n",
       "      <td>NaN</td>\n",
       "      <td>NaN</td>\n",
       "    </tr>\n",
       "    <tr>\n",
       "      <th>4</th>\n",
       "      <td>5</td>\n",
       "      <td>I am a developer by profession</td>\n",
       "      <td>18-24 years old</td>\n",
       "      <td>Student, full-time</td>\n",
       "      <td>NaN</td>\n",
       "      <td>Apples</td>\n",
       "      <td>NaN</td>\n",
       "      <td>Secondary school (e.g. American high school, G...</td>\n",
       "      <td>Other online resources (e.g., videos, blogs, f...</td>\n",
       "      <td>Technical documentation;Blogs;Written Tutorial...</td>\n",
       "      <td>...</td>\n",
       "      <td>NaN</td>\n",
       "      <td>NaN</td>\n",
       "      <td>NaN</td>\n",
       "      <td>NaN</td>\n",
       "      <td>NaN</td>\n",
       "      <td>NaN</td>\n",
       "      <td>Too short</td>\n",
       "      <td>Easy</td>\n",
       "      <td>NaN</td>\n",
       "      <td>NaN</td>\n",
       "    </tr>\n",
       "  </tbody>\n",
       "</table>\n",
       "<p>5 rows × 114 columns</p>\n",
       "</div>"
      ],
      "text/plain": [
       "   ResponseId                      MainBranch                 Age  \\\n",
       "0           1  I am a developer by profession  Under 18 years old   \n",
       "1           2  I am a developer by profession     35-44 years old   \n",
       "2           3  I am a developer by profession     45-54 years old   \n",
       "3           4           I am learning to code     18-24 years old   \n",
       "4           5  I am a developer by profession     18-24 years old   \n",
       "\n",
       "            Employment RemoteWork   Check  \\\n",
       "0  Employed, full-time     Remote  Apples   \n",
       "1  Employed, full-time     Remote  Apples   \n",
       "2  Employed, full-time     Remote  Apples   \n",
       "3   Student, full-time        NaN  Apples   \n",
       "4   Student, full-time        NaN  Apples   \n",
       "\n",
       "                                    CodingActivities  \\\n",
       "0                                              Hobby   \n",
       "1  Hobby;Contribute to open-source projects;Other...   \n",
       "2  Hobby;Contribute to open-source projects;Other...   \n",
       "3                                                NaN   \n",
       "4                                                NaN   \n",
       "\n",
       "                                             EdLevel  \\\n",
       "0                          Primary/elementary school   \n",
       "1       Bachelor’s degree (B.A., B.S., B.Eng., etc.)   \n",
       "2    Master’s degree (M.A., M.S., M.Eng., MBA, etc.)   \n",
       "3  Some college/university study without earning ...   \n",
       "4  Secondary school (e.g. American high school, G...   \n",
       "\n",
       "                                           LearnCode  \\\n",
       "0                             Books / Physical media   \n",
       "1  Books / Physical media;Colleague;On the job tr...   \n",
       "2  Books / Physical media;Colleague;On the job tr...   \n",
       "3  Other online resources (e.g., videos, blogs, f...   \n",
       "4  Other online resources (e.g., videos, blogs, f...   \n",
       "\n",
       "                                     LearnCodeOnline  ... JobSatPoints_6  \\\n",
       "0                                                NaN  ...            NaN   \n",
       "1  Technical documentation;Blogs;Books;Written Tu...  ...            0.0   \n",
       "2  Technical documentation;Blogs;Books;Written Tu...  ...            NaN   \n",
       "3  Stack Overflow;How-to videos;Interactive tutorial  ...            NaN   \n",
       "4  Technical documentation;Blogs;Written Tutorial...  ...            NaN   \n",
       "\n",
       "  JobSatPoints_7 JobSatPoints_8 JobSatPoints_9 JobSatPoints_10  \\\n",
       "0            NaN            NaN            NaN             NaN   \n",
       "1            0.0            0.0            0.0             0.0   \n",
       "2            NaN            NaN            NaN             NaN   \n",
       "3            NaN            NaN            NaN             NaN   \n",
       "4            NaN            NaN            NaN             NaN   \n",
       "\n",
       "  JobSatPoints_11           SurveyLength SurveyEase ConvertedCompYearly JobSat  \n",
       "0             NaN                    NaN        NaN                 NaN    NaN  \n",
       "1             0.0                    NaN        NaN                 NaN    NaN  \n",
       "2             NaN  Appropriate in length       Easy                 NaN    NaN  \n",
       "3             NaN               Too long       Easy                 NaN    NaN  \n",
       "4             NaN              Too short       Easy                 NaN    NaN  \n",
       "\n",
       "[5 rows x 114 columns]"
      ]
     },
     "execution_count": 2,
     "metadata": {},
     "output_type": "execute_result"
    }
   ],
   "source": [
    "import pandas as pd\n",
    "import matplotlib.pyplot as plt\n",
    "import seaborn as sns\n",
    "\n",
    "data_url = 'https://cf-courses-data.s3.us.cloud-object-storage.appdomain.cloud/n01PQ9pSmiRX6520flujwQ/survey-data.csv'\n",
    "df = pd.read_csv(data_url)\n",
    "\n",
    "df.head()\n"
   ]
  },
  {
   "cell_type": "markdown",
   "metadata": {},
   "source": [
    "### Step 2: Examine the Structure of the Data\n"
   ]
  },
  {
   "cell_type": "markdown",
   "metadata": {},
   "source": [
    "- Display the column names, data types, and summary information to understand the data structure.\n",
    "\n",
    "- Objective: Gain insights into the dataset's shape and available variables.\n"
   ]
  },
  {
   "cell_type": "code",
   "execution_count": 4,
   "metadata": {},
   "outputs": [
    {
     "data": {
      "text/plain": [
       "ResponseId               int64\n",
       "MainBranch              object\n",
       "Age                     object\n",
       "Employment              object\n",
       "RemoteWork              object\n",
       "                        ...   \n",
       "JobSatPoints_11        float64\n",
       "SurveyLength            object\n",
       "SurveyEase              object\n",
       "ConvertedCompYearly    float64\n",
       "JobSat                 float64\n",
       "Length: 114, dtype: object"
      ]
     },
     "execution_count": 4,
     "metadata": {},
     "output_type": "execute_result"
    }
   ],
   "source": [
    "df.dtypes"
   ]
  },
  {
   "cell_type": "code",
   "execution_count": 5,
   "metadata": {},
   "outputs": [
    {
     "name": "stdout",
     "output_type": "stream",
     "text": [
      "<class 'pandas.core.frame.DataFrame'>\n",
      "RangeIndex: 65437 entries, 0 to 65436\n",
      "Columns: 114 entries, ResponseId to JobSat\n",
      "dtypes: float64(13), int64(1), object(100)\n",
      "memory usage: 56.9+ MB\n"
     ]
    }
   ],
   "source": [
    "df.info()"
   ]
  },
  {
   "cell_type": "code",
   "execution_count": 6,
   "metadata": {},
   "outputs": [
    {
     "data": {
      "text/plain": [
       "MultiIndex([], names=['ResponseId', 'MainBranch', 'Age', 'Employment', 'RemoteWork', 'Check', 'CodingActivities', 'EdLevel', 'LearnCode', 'LearnCodeOnline', 'TechDoc', 'YearsCode', 'YearsCodePro', 'DevType', 'OrgSize', 'PurchaseInfluence', 'BuyNewTool', 'BuildvsBuy', 'TechEndorse', 'Country', 'Currency', 'CompTotal', 'LanguageHaveWorkedWith', 'LanguageWantToWorkWith', 'LanguageAdmired', 'DatabaseHaveWorkedWith', 'DatabaseWantToWorkWith', 'DatabaseAdmired', 'PlatformHaveWorkedWith', 'PlatformWantToWorkWith', 'PlatformAdmired', 'WebframeHaveWorkedWith', 'WebframeWantToWorkWith', 'WebframeAdmired', 'EmbeddedHaveWorkedWith', 'EmbeddedWantToWorkWith', 'EmbeddedAdmired', 'MiscTechHaveWorkedWith', 'MiscTechWantToWorkWith', 'MiscTechAdmired', 'ToolsTechHaveWorkedWith', 'ToolsTechWantToWorkWith', 'ToolsTechAdmired', 'NEWCollabToolsHaveWorkedWith', 'NEWCollabToolsWantToWorkWith', 'NEWCollabToolsAdmired', 'OpSysPersonal use', 'OpSysProfessional use', 'OfficeStackAsyncHaveWorkedWith', 'OfficeStackAsyncWantToWorkWith', 'OfficeStackAsyncAdmired', 'OfficeStackSyncHaveWorkedWith', 'OfficeStackSyncWantToWorkWith', 'OfficeStackSyncAdmired', 'AISearchDevHaveWorkedWith', 'AISearchDevWantToWorkWith', 'AISearchDevAdmired', 'NEWSOSites', 'SOVisitFreq', 'SOAccount', 'SOPartFreq', 'SOHow', 'SOComm', 'AISelect', 'AISent', 'AIBen', 'AIAcc', 'AIComplex', 'AIToolCurrently Using', 'AIToolInterested in Using', 'AIToolNot interested in Using', 'AINextMuch more integrated', 'AINextNo change', 'AINextMore integrated', 'AINextLess integrated', 'AINextMuch less integrated', 'AIThreat', 'AIEthics', 'AIChallenges', 'TBranch', 'ICorPM', 'WorkExp', 'Knowledge_1', 'Knowledge_2', 'Knowledge_3', 'Knowledge_4', 'Knowledge_5', 'Knowledge_6', 'Knowledge_7', 'Knowledge_8', 'Knowledge_9', 'Frequency_1', 'Frequency_2', 'Frequency_3', 'TimeSearching', 'TimeAnswering', 'Frustration', 'ProfessionalTech', 'ProfessionalCloud', 'ProfessionalQuestion', ...])"
      ]
     },
     "execution_count": 6,
     "metadata": {},
     "output_type": "execute_result"
    }
   ],
   "source": [
    "df.value_counts().index"
   ]
  },
  {
   "cell_type": "code",
   "execution_count": 7,
   "metadata": {},
   "outputs": [
    {
     "data": {
      "text/plain": [
       "(65437, 114)"
      ]
     },
     "execution_count": 7,
     "metadata": {},
     "output_type": "execute_result"
    }
   ],
   "source": [
    "df.shape"
   ]
  },
  {
   "cell_type": "code",
   "execution_count": 9,
   "metadata": {},
   "outputs": [
    {
     "data": {
      "text/html": [
       "<div>\n",
       "<style scoped>\n",
       "    .dataframe tbody tr th:only-of-type {\n",
       "        vertical-align: middle;\n",
       "    }\n",
       "\n",
       "    .dataframe tbody tr th {\n",
       "        vertical-align: top;\n",
       "    }\n",
       "\n",
       "    .dataframe thead th {\n",
       "        text-align: right;\n",
       "    }\n",
       "</style>\n",
       "<table border=\"1\" class=\"dataframe\">\n",
       "  <thead>\n",
       "    <tr style=\"text-align: right;\">\n",
       "      <th></th>\n",
       "      <th>ResponseId</th>\n",
       "      <th>CompTotal</th>\n",
       "      <th>WorkExp</th>\n",
       "      <th>JobSatPoints_1</th>\n",
       "      <th>JobSatPoints_4</th>\n",
       "      <th>JobSatPoints_5</th>\n",
       "      <th>JobSatPoints_6</th>\n",
       "      <th>JobSatPoints_7</th>\n",
       "      <th>JobSatPoints_8</th>\n",
       "      <th>JobSatPoints_9</th>\n",
       "      <th>JobSatPoints_10</th>\n",
       "      <th>JobSatPoints_11</th>\n",
       "      <th>ConvertedCompYearly</th>\n",
       "      <th>JobSat</th>\n",
       "    </tr>\n",
       "  </thead>\n",
       "  <tbody>\n",
       "    <tr>\n",
       "      <th>count</th>\n",
       "      <td>65437.000000</td>\n",
       "      <td>3.374000e+04</td>\n",
       "      <td>29658.000000</td>\n",
       "      <td>29324.000000</td>\n",
       "      <td>29393.000000</td>\n",
       "      <td>29411.000000</td>\n",
       "      <td>29450.000000</td>\n",
       "      <td>29448.00000</td>\n",
       "      <td>29456.000000</td>\n",
       "      <td>29456.000000</td>\n",
       "      <td>29450.000000</td>\n",
       "      <td>29445.000000</td>\n",
       "      <td>2.343500e+04</td>\n",
       "      <td>29126.000000</td>\n",
       "    </tr>\n",
       "    <tr>\n",
       "      <th>mean</th>\n",
       "      <td>32719.000000</td>\n",
       "      <td>2.963841e+145</td>\n",
       "      <td>11.466957</td>\n",
       "      <td>18.581094</td>\n",
       "      <td>7.522140</td>\n",
       "      <td>10.060857</td>\n",
       "      <td>24.343232</td>\n",
       "      <td>22.96522</td>\n",
       "      <td>20.278165</td>\n",
       "      <td>16.169432</td>\n",
       "      <td>10.955713</td>\n",
       "      <td>9.953948</td>\n",
       "      <td>8.615529e+04</td>\n",
       "      <td>6.935041</td>\n",
       "    </tr>\n",
       "    <tr>\n",
       "      <th>std</th>\n",
       "      <td>18890.179119</td>\n",
       "      <td>5.444117e+147</td>\n",
       "      <td>9.168709</td>\n",
       "      <td>25.966221</td>\n",
       "      <td>18.422661</td>\n",
       "      <td>21.833836</td>\n",
       "      <td>27.089360</td>\n",
       "      <td>27.01774</td>\n",
       "      <td>26.108110</td>\n",
       "      <td>24.845032</td>\n",
       "      <td>22.906263</td>\n",
       "      <td>21.775652</td>\n",
       "      <td>1.867570e+05</td>\n",
       "      <td>2.088259</td>\n",
       "    </tr>\n",
       "    <tr>\n",
       "      <th>min</th>\n",
       "      <td>1.000000</td>\n",
       "      <td>0.000000e+00</td>\n",
       "      <td>0.000000</td>\n",
       "      <td>0.000000</td>\n",
       "      <td>0.000000</td>\n",
       "      <td>0.000000</td>\n",
       "      <td>0.000000</td>\n",
       "      <td>0.00000</td>\n",
       "      <td>0.000000</td>\n",
       "      <td>0.000000</td>\n",
       "      <td>0.000000</td>\n",
       "      <td>0.000000</td>\n",
       "      <td>1.000000e+00</td>\n",
       "      <td>0.000000</td>\n",
       "    </tr>\n",
       "    <tr>\n",
       "      <th>25%</th>\n",
       "      <td>16360.000000</td>\n",
       "      <td>6.000000e+04</td>\n",
       "      <td>4.000000</td>\n",
       "      <td>0.000000</td>\n",
       "      <td>0.000000</td>\n",
       "      <td>0.000000</td>\n",
       "      <td>0.000000</td>\n",
       "      <td>0.00000</td>\n",
       "      <td>0.000000</td>\n",
       "      <td>0.000000</td>\n",
       "      <td>0.000000</td>\n",
       "      <td>0.000000</td>\n",
       "      <td>3.271200e+04</td>\n",
       "      <td>6.000000</td>\n",
       "    </tr>\n",
       "    <tr>\n",
       "      <th>50%</th>\n",
       "      <td>32719.000000</td>\n",
       "      <td>1.100000e+05</td>\n",
       "      <td>9.000000</td>\n",
       "      <td>10.000000</td>\n",
       "      <td>0.000000</td>\n",
       "      <td>0.000000</td>\n",
       "      <td>20.000000</td>\n",
       "      <td>15.00000</td>\n",
       "      <td>10.000000</td>\n",
       "      <td>5.000000</td>\n",
       "      <td>0.000000</td>\n",
       "      <td>0.000000</td>\n",
       "      <td>6.500000e+04</td>\n",
       "      <td>7.000000</td>\n",
       "    </tr>\n",
       "    <tr>\n",
       "      <th>75%</th>\n",
       "      <td>49078.000000</td>\n",
       "      <td>2.500000e+05</td>\n",
       "      <td>16.000000</td>\n",
       "      <td>22.000000</td>\n",
       "      <td>5.000000</td>\n",
       "      <td>10.000000</td>\n",
       "      <td>30.000000</td>\n",
       "      <td>30.00000</td>\n",
       "      <td>25.000000</td>\n",
       "      <td>20.000000</td>\n",
       "      <td>10.000000</td>\n",
       "      <td>10.000000</td>\n",
       "      <td>1.079715e+05</td>\n",
       "      <td>8.000000</td>\n",
       "    </tr>\n",
       "    <tr>\n",
       "      <th>max</th>\n",
       "      <td>65437.000000</td>\n",
       "      <td>1.000000e+150</td>\n",
       "      <td>50.000000</td>\n",
       "      <td>100.000000</td>\n",
       "      <td>100.000000</td>\n",
       "      <td>100.000000</td>\n",
       "      <td>100.000000</td>\n",
       "      <td>100.00000</td>\n",
       "      <td>100.000000</td>\n",
       "      <td>100.000000</td>\n",
       "      <td>100.000000</td>\n",
       "      <td>100.000000</td>\n",
       "      <td>1.625660e+07</td>\n",
       "      <td>10.000000</td>\n",
       "    </tr>\n",
       "  </tbody>\n",
       "</table>\n",
       "</div>"
      ],
      "text/plain": [
       "         ResponseId      CompTotal       WorkExp  JobSatPoints_1  \\\n",
       "count  65437.000000   3.374000e+04  29658.000000    29324.000000   \n",
       "mean   32719.000000  2.963841e+145     11.466957       18.581094   \n",
       "std    18890.179119  5.444117e+147      9.168709       25.966221   \n",
       "min        1.000000   0.000000e+00      0.000000        0.000000   \n",
       "25%    16360.000000   6.000000e+04      4.000000        0.000000   \n",
       "50%    32719.000000   1.100000e+05      9.000000       10.000000   \n",
       "75%    49078.000000   2.500000e+05     16.000000       22.000000   \n",
       "max    65437.000000  1.000000e+150     50.000000      100.000000   \n",
       "\n",
       "       JobSatPoints_4  JobSatPoints_5  JobSatPoints_6  JobSatPoints_7  \\\n",
       "count    29393.000000    29411.000000    29450.000000     29448.00000   \n",
       "mean         7.522140       10.060857       24.343232        22.96522   \n",
       "std         18.422661       21.833836       27.089360        27.01774   \n",
       "min          0.000000        0.000000        0.000000         0.00000   \n",
       "25%          0.000000        0.000000        0.000000         0.00000   \n",
       "50%          0.000000        0.000000       20.000000        15.00000   \n",
       "75%          5.000000       10.000000       30.000000        30.00000   \n",
       "max        100.000000      100.000000      100.000000       100.00000   \n",
       "\n",
       "       JobSatPoints_8  JobSatPoints_9  JobSatPoints_10  JobSatPoints_11  \\\n",
       "count    29456.000000    29456.000000     29450.000000     29445.000000   \n",
       "mean        20.278165       16.169432        10.955713         9.953948   \n",
       "std         26.108110       24.845032        22.906263        21.775652   \n",
       "min          0.000000        0.000000         0.000000         0.000000   \n",
       "25%          0.000000        0.000000         0.000000         0.000000   \n",
       "50%         10.000000        5.000000         0.000000         0.000000   \n",
       "75%         25.000000       20.000000        10.000000        10.000000   \n",
       "max        100.000000      100.000000       100.000000       100.000000   \n",
       "\n",
       "       ConvertedCompYearly        JobSat  \n",
       "count         2.343500e+04  29126.000000  \n",
       "mean          8.615529e+04      6.935041  \n",
       "std           1.867570e+05      2.088259  \n",
       "min           1.000000e+00      0.000000  \n",
       "25%           3.271200e+04      6.000000  \n",
       "50%           6.500000e+04      7.000000  \n",
       "75%           1.079715e+05      8.000000  \n",
       "max           1.625660e+07     10.000000  "
      ]
     },
     "execution_count": 9,
     "metadata": {},
     "output_type": "execute_result"
    }
   ],
   "source": [
    "df.describe()"
   ]
  },
  {
   "cell_type": "markdown",
   "metadata": {},
   "source": [
    "### Step 3: Handle Missing Data\n"
   ]
  },
  {
   "cell_type": "markdown",
   "metadata": {},
   "source": [
    "- Identify missing values in the dataset.\n",
    "\n",
    "- Impute or remove missing values as necessary to ensure data completeness.\n",
    "\n"
   ]
  },
  {
   "cell_type": "code",
   "execution_count": 10,
   "metadata": {},
   "outputs": [
    {
     "name": "stdout",
     "output_type": "stream",
     "text": [
      "ResponseId                 0\n",
      "MainBranch                 0\n",
      "Age                        0\n",
      "Employment                 0\n",
      "RemoteWork             10631\n",
      "                       ...  \n",
      "JobSatPoints_11        35992\n",
      "SurveyLength            9255\n",
      "SurveyEase              9199\n",
      "ConvertedCompYearly    42002\n",
      "JobSat                 36311\n",
      "Length: 114, dtype: int64\n"
     ]
    }
   ],
   "source": [
    "missing_values = df.isnull().sum()\n",
    "print(missing_values)"
   ]
  },
  {
   "cell_type": "code",
   "execution_count": 14,
   "metadata": {},
   "outputs": [
    {
     "name": "stdout",
     "output_type": "stream",
     "text": [
      "                             RemoteWork\n",
      "0  Hybrid (some remote, some in-person)\n",
      "1                                Remote\n",
      "2                             In-person\n"
     ]
    }
   ],
   "source": [
    "def impute_with_mode(df, RemoteWork):\n",
    "    mode_value = df['RemoteWork'].mode()[0]\n",
    "    df.fillna({'RemoteWork': mode_value}, inplace=True)\n",
    "    return df\n",
    "\n",
    "data = {'RemoteWork': ['Hybrid (some remote, some in-person)', 'Remote', 'In-person']}\n",
    "df = pd.DataFrame(data)\n",
    "df = impute_with_mode(df, 'RemoteWork')\n",
    "print(df)\n"
   ]
  },
  {
   "cell_type": "markdown",
   "metadata": {},
   "source": [
    "### Step 4: Analyze Key Columns\n"
   ]
  },
  {
   "cell_type": "markdown",
   "metadata": {},
   "source": [
    "- Examine key columns such as `Employment`, `JobSat` (Job Satisfaction), and `YearsCodePro` (Professional Coding Experience).\n",
    "\n",
    "- **Instruction**: Calculate the value counts for each column to understand the distribution of responses.\n",
    "\n"
   ]
  },
  {
   "cell_type": "code",
   "execution_count": 19,
   "metadata": {},
   "outputs": [
    {
     "data": {
      "text/plain": [
       "Index(['2', '3', '5', '10', '4', 'Less than 1 year', '6', '1', '8', '7', '12',\n",
       "       '15', '20', '9', '11', '13', '14', '25', '16', '18', '17', '30', '24',\n",
       "       '19', '22', '23', '26', '27', '21', '28', '35', '29', '40', '32', '34',\n",
       "       '38', '33', '36', '31', '37', '45', '42', '39', '41',\n",
       "       'More than 50 years', '44', '43', '46', '50', '48', '49', '47'],\n",
       "      dtype='object', name='YearsCodePro')"
      ]
     },
     "execution_count": 19,
     "metadata": {},
     "output_type": "execute_result"
    }
   ],
   "source": [
    "df.YearsCodePro.value_counts().index"
   ]
  },
  {
   "cell_type": "code",
   "execution_count": 18,
   "metadata": {},
   "outputs": [
    {
     "data": {
      "text/plain": [
       "Index([8.0, 7.0, 6.0, 9.0, 10.0, 5.0, 3.0, 4.0, 2.0, 0.0, 1.0], dtype='float64', name='JobSat')"
      ]
     },
     "execution_count": 18,
     "metadata": {},
     "output_type": "execute_result"
    }
   ],
   "source": [
    "df.JobSat.value_counts().index"
   ]
  },
  {
   "cell_type": "code",
   "execution_count": 17,
   "metadata": {},
   "outputs": [
    {
     "data": {
      "text/plain": [
       "Index(['Employed, full-time',\n",
       "       'Independent contractor, freelancer, or self-employed',\n",
       "       'Student, full-time',\n",
       "       'Employed, full-time;Independent contractor, freelancer, or self-employed',\n",
       "       'Not employed, but looking for work', 'Employed, part-time',\n",
       "       'Student, full-time;Employed, part-time',\n",
       "       'Employed, full-time;Student, full-time',\n",
       "       'Employed, full-time;Student, part-time',\n",
       "       'Student, full-time;Not employed, but looking for work',\n",
       "       ...\n",
       "       'Employed, full-time;Student, full-time;Not employed, but looking for work;Independent contractor, freelancer, or self-employed',\n",
       "       'Employed, full-time;Not employed, but looking for work;Not employed, and not looking for work;Employed, part-time',\n",
       "       'Employed, full-time;Student, full-time;Independent contractor, freelancer, or self-employed;Student, part-time;Retired',\n",
       "       'Employed, full-time;Student, full-time;Not employed, but looking for work;Student, part-time;Employed, part-time',\n",
       "       'Employed, full-time;Student, full-time;Not employed, but looking for work;Independent contractor, freelancer, or self-employed;Student, part-time;Employed, part-time;Retired',\n",
       "       'Not employed, but looking for work;Independent contractor, freelancer, or self-employed;Not employed, and not looking for work;Employed, part-time',\n",
       "       'Student, full-time;Retired',\n",
       "       'Employed, full-time;Not employed, but looking for work;Student, part-time',\n",
       "       'Not employed, and not looking for work;Student, part-time;Employed, part-time',\n",
       "       'Not employed, but looking for work;Independent contractor, freelancer, or self-employed;Student, part-time;Retired'],\n",
       "      dtype='object', name='Employment', length=110)"
      ]
     },
     "execution_count": 17,
     "metadata": {},
     "output_type": "execute_result"
    }
   ],
   "source": [
    "df.Employment.value_counts().index"
   ]
  },
  {
   "cell_type": "markdown",
   "metadata": {},
   "source": [
    "### Step 5: Visualize Job Satisfaction (Focus on JobSat)\n"
   ]
  },
  {
   "cell_type": "markdown",
   "metadata": {},
   "source": [
    "- Create a pie chart or KDE plot to visualize the distribution of `JobSat`.\n",
    "\n",
    "- Provide an interpretation of the plot, highlighting key trends in job satisfaction.\n"
   ]
  },
  {
   "cell_type": "code",
   "execution_count": 20,
   "metadata": {},
   "outputs": [
    {
     "data": {
      "image/png": "[encoded data removed]",
      "text/plain": [
       "<Figure size 640x480 with 1 Axes>"
      ]
     },
     "metadata": {},
     "output_type": "display_data"
    }
   ],
   "source": [
    "data = {'JobSat': [8.0, 7.0, 6.0, 9.0, 10.0, 5.0, 3.0, 4.0, 2.0, 0.0, 1.0]}\n",
    "df = pd.DataFrame(data)\n",
    "\n",
    "df.plot(kind='pie', y='JobSat', labels=df['JobSat'], autopct='%1.1f%%', startangle=90)\n",
    "plt.title('Distribution of Job Satisfaction')\n",
    "plt.ylabel('Job Satisfaction Score')\n",
    "plt.show()"
   ]
  },
  {
   "cell_type": "markdown",
   "metadata": {},
   "source": [
    "### Step 6: Programming Languages Analysis\n"
   ]
  },
  {
   "cell_type": "markdown",
   "metadata": {},
   "source": [
    "- Compare the frequency of programming languages in `LanguageHaveWorkedWith` and `LanguageWantToWorkWith`.\n",
    "  \n",
    "- Visualize the overlap or differences using a Venn diagram or a grouped bar chart.\n"
   ]
  },
  {
   "cell_type": "code",
   "execution_count": 34,
   "metadata": {},
   "outputs": [
    {
     "data": {
      "text/plain": [
       "LanguageHaveWorkedWith\n",
       "HTML/CSS;JavaScript;TypeScript                                                    1002\n",
       "Python                                                                             832\n",
       "HTML/CSS;JavaScript;PHP;SQL                                                        503\n",
       "C#                                                                                 452\n",
       "HTML/CSS;JavaScript                                                                452\n",
       "                                                                                  ... \n",
       "Dart;Java;JavaScript;Kotlin;PowerShell;Python;SQL;TypeScript                         1\n",
       "C#;Go;Java;JavaScript;Perl;Python;SQL;TypeScript                                     1\n",
       "C;HTML/CSS;JavaScript;MATLAB;PHP;Python;TypeScript                                   1\n",
       "C;Dart;Delphi;Java;Kotlin;Objective-C;PHP;SQL                                        1\n",
       "Bash/Shell (all shells);C;C#;C++;Go;HTML/CSS;JavaScript;Lua;PHP;SQL;TypeScript       1\n",
       "Name: count, Length: 23864, dtype: int64"
      ]
     },
     "execution_count": 34,
     "metadata": {},
     "output_type": "execute_result"
    }
   ],
   "source": [
    "df.LanguageHaveWorkedWith.value_counts()"
   ]
  },
  {
   "cell_type": "code",
   "execution_count": 30,
   "metadata": {},
   "outputs": [
    {
     "data": {
      "text/plain": [
       "LanguageWantToWorkWith\n",
       "Python                                                                          922\n",
       "Rust                                                                            737\n",
       "HTML/CSS;JavaScript;TypeScript                                                  632\n",
       "C#                                                                              538\n",
       "Go                                                                              460\n",
       "                                                                               ... \n",
       "Assembly;Bash/Shell (all shells);C;C++;HTML/CSS;Lua;MATLAB;PowerShell;Python      1\n",
       "Bash/Shell (all shells);HTML/CSS;Java;Kotlin;Python;Ruby;Rust;SQL;TypeScript      1\n",
       "Bash/Shell (all shells);Java;Rust;Scala;SQL;TypeScript                            1\n",
       "Dart;F#;TypeScript                                                                1\n",
       "C#;Dart;Go;HTML/CSS;JavaScript;Python;R;SQL;TypeScript                            1\n",
       "Name: count, Length: 22769, dtype: int64"
      ]
     },
     "execution_count": 30,
     "metadata": {},
     "output_type": "execute_result"
    }
   ],
   "source": [
    "df.LanguageWantToWorkWith.value_counts()"
   ]
  },
  {
   "cell_type": "code",
   "execution_count": 24,
   "metadata": {},
   "outputs": [
    {
     "data": {
      "text/plain": [
       "Index(['Python', 'Rust', 'HTML/CSS;JavaScript;TypeScript', 'C#', 'Go', 'Java',\n",
       "       'C#;HTML/CSS;JavaScript;SQL;TypeScript', 'Python;SQL', 'Python;Rust',\n",
       "       'JavaScript;TypeScript',\n",
       "       ...\n",
       "       'HTML/CSS;JavaScript;Python;Scala;Solidity;TypeScript',\n",
       "       'C;C++;Go;Java;JavaScript;Python;Rust;SQL',\n",
       "       'Assembly;C;C#;C++;HTML/CSS;Java;JavaScript;PHP;Python;TypeScript',\n",
       "       'Dart;Kotlin;Objective-C;SQL', 'GDScript;Go;Python;Rust',\n",
       "       'Assembly;Bash/Shell (all shells);C;C++;HTML/CSS;Lua;MATLAB;PowerShell;Python',\n",
       "       'Bash/Shell (all shells);HTML/CSS;Java;Kotlin;Python;Ruby;Rust;SQL;TypeScript',\n",
       "       'Bash/Shell (all shells);Java;Rust;Scala;SQL;TypeScript',\n",
       "       'Dart;F#;TypeScript',\n",
       "       'C#;Dart;Go;HTML/CSS;JavaScript;Python;R;SQL;TypeScript'],\n",
       "      dtype='object', name='LanguageWantToWorkWith', length=22769)"
      ]
     },
     "execution_count": 24,
     "metadata": {},
     "output_type": "execute_result"
    }
   ],
   "source": [
    "df.LanguageWantToWorkWith.value_counts().index"
   ]
  },
  {
   "cell_type": "code",
   "execution_count": 23,
   "metadata": {},
   "outputs": [
    {
     "data": {
      "text/plain": [
       "Index(['HTML/CSS;JavaScript;TypeScript', 'Python',\n",
       "       'HTML/CSS;JavaScript;PHP;SQL', 'C#', 'HTML/CSS;JavaScript',\n",
       "       'Python;SQL', 'Java', 'C#;HTML/CSS;JavaScript;SQL;TypeScript',\n",
       "       'JavaScript;TypeScript', 'C#;HTML/CSS;JavaScript;SQL',\n",
       "       ...\n",
       "       'Assembly;C++;Crystal;HTML/CSS;Java;JavaScript;Lisp;PHP;VBA;Visual Basic (.Net)',\n",
       "       'C#;HTML/CSS;PowerShell;Ruby;SQL;TypeScript',\n",
       "       'Bash/Shell (all shells);C;C++;Dart;HTML/CSS;Java;JavaScript;PHP;Python;R;SQL;TypeScript',\n",
       "       'Bash/Shell (all shells);C++;Clojure;Dart;HTML/CSS;Java;JavaScript;Python;Swift',\n",
       "       'Apex;Bash/Shell (all shells);C#;C++;MATLAB;SQL',\n",
       "       'Dart;Java;JavaScript;Kotlin;PowerShell;Python;SQL;TypeScript',\n",
       "       'C#;Go;Java;JavaScript;Perl;Python;SQL;TypeScript',\n",
       "       'C;HTML/CSS;JavaScript;MATLAB;PHP;Python;TypeScript',\n",
       "       'C;Dart;Delphi;Java;Kotlin;Objective-C;PHP;SQL',\n",
       "       'Bash/Shell (all shells);C;C#;C++;Go;HTML/CSS;JavaScript;Lua;PHP;SQL;TypeScript'],\n",
       "      dtype='object', name='LanguageHaveWorkedWith', length=23864)"
      ]
     },
     "execution_count": 23,
     "metadata": {},
     "output_type": "execute_result"
    }
   ],
   "source": [
    "df.LanguageHaveWorkedWith.value_counts().index"
   ]
  },
  {
   "cell_type": "code",
   "execution_count": 36,
   "metadata": {},
   "outputs": [
    {
     "name": "stdout",
     "output_type": "stream",
     "text": [
      "                     Team  Python  HTML/CSS;JavaScript;TypeScript  \\\n",
      "0  LanguageHaveWorkedWith     832                            1002   \n",
      "1  LanguageWantToWorkWith     922                             632   \n",
      "\n",
      "   HTML/CSS;JavaScript  Rust  HTML/CSS;JavaScript;PHP;SQL   C#   Go  \n",
      "0                  452     0                          503  452    0  \n",
      "1                    0   737                            0  538  460  \n"
     ]
    },
    {
     "data": {
      "text/plain": [
       "<Axes: title={'center': 'Popularity of Programming Languages'}, xlabel='Team'>"
      ]
     },
     "execution_count": 36,
     "metadata": {},
     "output_type": "execute_result"
    },
    {
     "data": {
      "image/png": "[encoded data removed]",
      "text/plain": [
       "<Figure size 640x480 with 1 Axes>"
      ]
     },
     "metadata": {},
     "output_type": "display_data"
    }
   ],
   "source": [
    "import matplotlib.pyplot as plt \n",
    "import pandas as pd \n",
    "  \n",
    "df = pd.DataFrame([['LanguageHaveWorkedWith', 832, 1002, 452, 0, 503, 452, 0], ['LanguageWantToWorkWith', 922, 632, 0, 737, 0, 538, 460]], \n",
    "                  columns=['Team', 'Python', 'HTML/CSS;JavaScript;TypeScript','HTML/CSS;JavaScript', 'Rust', 'HTML/CSS;JavaScript;PHP;SQL', 'C#', 'Go']) \n",
    "\n",
    "print(df) \n",
    "  \n",
    "\n",
    "df.plot(x='Team', \n",
    "        kind='bar', \n",
    "        stacked=False, \n",
    "        title='Popularity of Programming Languages') "
   ]
  },
  {
   "cell_type": "markdown",
   "metadata": {},
   "source": [
    "### Step 7: Analyze Remote Work Trends\n"
   ]
  },
  {
   "cell_type": "markdown",
   "metadata": {},
   "source": [
    "- Visualize the distribution of RemoteWork by region using a grouped bar chart or heatmap.\n"
   ]
  },
  {
   "cell_type": "code",
   "execution_count": null,
   "metadata": {},
   "outputs": [],
   "source": [
    "df = pd.DataFrame([['Hybrid', 10, 20, 10, 30], ['Remote', 20, 25, 15, 25], ['In-Person', 12, 15, 19, 6], \n",
    "                  columns=['Team', 'US', 'Germany', 'India', 'UK', 'Ukraine']) \n",
    "# view data \n",
    "print(df) \n",
    "  \n",
    "# plot grouped bar chart \n",
    "df.plot(x='Team', \n",
    "        kind='bar', \n",
    "        stacked=False, \n",
    "        title='Grouped Bar Graph with dataframe') "
   ]
  },
  {
   "cell_type": "code",
   "execution_count": 42,
   "metadata": {},
   "outputs": [
    {
     "data": {
      "text/plain": [
       "RemoteWork\n",
       "Hybrid (some remote, some in-person)    23015\n",
       "Remote                                  20831\n",
       "In-person                               10960\n",
       "Name: count, dtype: int64"
      ]
     },
     "execution_count": 42,
     "metadata": {},
     "output_type": "execute_result"
    }
   ],
   "source": [
    "df.RemoteWork.value_counts()"
   ]
  },
  {
   "cell_type": "code",
   "execution_count": 41,
   "metadata": {},
   "outputs": [
    {
     "data": {
      "text/plain": [
       "Country\n",
       "United States of America                                11095\n",
       "Germany                                                  4947\n",
       "India                                                    4231\n",
       "United Kingdom of Great Britain and Northern Ireland     3224\n",
       "Ukraine                                                  2672\n",
       "                                                        ...  \n",
       "Micronesia, Federated States of...                          1\n",
       "Nauru                                                       1\n",
       "Chad                                                        1\n",
       "Djibouti                                                    1\n",
       "Solomon Islands                                             1\n",
       "Name: count, Length: 185, dtype: int64"
      ]
     },
     "execution_count": 41,
     "metadata": {},
     "output_type": "execute_result"
    }
   ],
   "source": [
    "df.Country.value_counts()"
   ]
  },
  {
   "cell_type": "markdown",
   "metadata": {},
   "source": [
    "### Step 8: Correlation between Job Satisfaction and Experience\n"
   ]
  },
  {
   "cell_type": "markdown",
   "metadata": {},
   "source": [
    "- Analyze the correlation between overall job satisfaction (`JobSat`) and `YearsCodePro`.\n",
    "  \n",
    "- Calculate the Pearson or Spearman correlation coefficient.\n"
   ]
  },
  {
   "cell_type": "code",
   "execution_count": 26,
   "metadata": {},
   "outputs": [
    {
     "name": "stdout",
     "output_type": "stream",
     "text": [
      "0.6551019219404419\n",
      "-0.8594267801553208\n"
     ]
    }
   ],
   "source": [
    "import numpy as np\n",
    "\n",
    "x = [1.0, 2.0, 3.0, 4.0, 5.0, 6.0, 7.0, 8.0, 9.0, 10.0]\n",
    "y = [276, 772, 1165, 1130, 1956, 3751, 6379, 7509, 3626, 2251]\n",
    "correlation_matrix = np.corrcoef(x, y)\n",
    "JobSat_pearson_corr = correlation_matrix[0, 1]\n",
    "print(JobSat_pearson_corr)\n",
    "\n",
    "import numpy as np\n",
    "\n",
    "x = [0, 1, 2, 3, 4, 5, 6, 7, 8, 9, 10, 11, 12, 13, 14, 15, 16, 17, 18, 19, 20, 21, 22, 23, 24, 25, 26, 27, 28, 29, 30, 31, 32, 33, 34, 35, 36, 37, 38, 39, 40, 41, 42, 43, 44, 45, 46, 47, 48, 49, 50]\n",
    "y = [2856, 2639, 4168, 4093, 3215, 3526, 2843, 2517, 2549, 1493, 3251, 1312, 1777, 1127, 1082, 1635, 946, 814, 867, 516, 1549, 380, 492, 448, 632, 998, 426, 380, 342, 196, 689, 106, 194, 132, 169, 285, 119, 104, 134, 54, 194, 51, 55, 37, 42, 56, 21, 10, 14, 11, 50]\n",
    "correlation_matrix = np.corrcoef(x, y)\n",
    "YearsCodePro_pearson_corr = correlation_matrix[0, 1]\n",
    "print(YearsCodePro_pearson_corr)"
   ]
  },
  {
   "cell_type": "code",
   "execution_count": 23,
   "metadata": {},
   "outputs": [
    {
     "data": {
      "text/plain": [
       "YearsCodePro\n",
       "2                     4168\n",
       "3                     4093\n",
       "5                     3526\n",
       "10                    3251\n",
       "4                     3215\n",
       "Less than 1 year      2856\n",
       "6                     2843\n",
       "1                     2639\n",
       "8                     2549\n",
       "7                     2517\n",
       "12                    1777\n",
       "15                    1635\n",
       "20                    1549\n",
       "9                     1493\n",
       "11                    1312\n",
       "13                    1127\n",
       "14                    1082\n",
       "25                     998\n",
       "16                     946\n",
       "18                     867\n",
       "17                     814\n",
       "30                     689\n",
       "24                     632\n",
       "19                     516\n",
       "22                     492\n",
       "23                     448\n",
       "26                     426\n",
       "27                     380\n",
       "21                     380\n",
       "28                     342\n",
       "35                     285\n",
       "29                     196\n",
       "40                     194\n",
       "32                     194\n",
       "34                     169\n",
       "38                     134\n",
       "33                     132\n",
       "36                     119\n",
       "31                     106\n",
       "37                     104\n",
       "45                      56\n",
       "42                      55\n",
       "39                      54\n",
       "41                      51\n",
       "More than 50 years      50\n",
       "44                      42\n",
       "43                      37\n",
       "46                      21\n",
       "50                      14\n",
       "48                      14\n",
       "49                      11\n",
       "47                      10\n",
       "Name: count, dtype: int64"
      ]
     },
     "execution_count": 23,
     "metadata": {},
     "output_type": "execute_result"
    }
   ],
   "source": [
    "df.YearsCodePro.value_counts()"
   ]
  },
  {
   "cell_type": "code",
   "execution_count": 10,
   "metadata": {},
   "outputs": [
    {
     "data": {
      "text/plain": [
       "JobSat\n",
       "8.0     7509\n",
       "7.0     6379\n",
       "6.0     3751\n",
       "9.0     3626\n",
       "10.0    2251\n",
       "5.0     1956\n",
       "3.0     1165\n",
       "4.0     1130\n",
       "2.0      772\n",
       "0.0      311\n",
       "1.0      276\n",
       "Name: count, dtype: int64"
      ]
     },
     "execution_count": 10,
     "metadata": {},
     "output_type": "execute_result"
    }
   ],
   "source": [
    "df.JobSat.value_counts()"
   ]
  },
  {
   "cell_type": "markdown",
   "metadata": {},
   "source": [
    "### Step 9: Cross-tabulation Analysis (Employment vs. Education Level)\n"
   ]
  },
  {
   "cell_type": "markdown",
   "metadata": {},
   "source": [
    "- Analyze the relationship between employment status (`Employment`) and education level (`EdLevel`).\n",
    "\n",
    "- **Instruction**: Create a cross-tabulation using `pd.crosstab()` and visualize it with a stacked bar plot if possible.\n"
   ]
  },
  {
   "cell_type": "code",
   "execution_count": 29,
   "metadata": {},
   "outputs": [
    {
     "name": "stdout",
     "output_type": "stream",
     "text": [
      "EdLevel                                             Associate degree (A.A., A.S., etc.)  \\\n",
      "Employment                                                                                \n",
      "Employed, full-time                                                                1059   \n",
      "Employed, full-time;Employed, part-time                                               9   \n",
      "Employed, full-time;Independent contractor, fre...                                  104   \n",
      "Employed, full-time;Independent contractor, fre...                                   11   \n",
      "Employed, full-time;Independent contractor, fre...                                    0   \n",
      "...                                                                                 ...   \n",
      "Student, full-time;Student, part-time;Employed,...                                    0   \n",
      "Student, full-time;Student, part-time;Retired                                         0   \n",
      "Student, part-time                                                                   12   \n",
      "Student, part-time;Employed, part-time                                               24   \n",
      "Student, part-time;Retired                                                            0   \n",
      "\n",
      "EdLevel                                             Bachelor’s degree (B.A., B.S., B.Eng., etc.)  \\\n",
      "Employment                                                                                         \n",
      "Employed, full-time                                                                        16806   \n",
      "Employed, full-time;Employed, part-time                                                       90   \n",
      "Employed, full-time;Independent contractor, fre...                                          1381   \n",
      "Employed, full-time;Independent contractor, fre...                                            79   \n",
      "Employed, full-time;Independent contractor, fre...                                             0   \n",
      "...                                                                                          ...   \n",
      "Student, full-time;Student, part-time;Employed,...                                             1   \n",
      "Student, full-time;Student, part-time;Retired                                                  0   \n",
      "Student, part-time                                                                           105   \n",
      "Student, part-time;Employed, part-time                                                       184   \n",
      "Student, part-time;Retired                                                                     0   \n",
      "\n",
      "EdLevel                                             Master’s degree (M.A., M.S., M.Eng., MBA, etc.)  \\\n",
      "Employment                                                                                            \n",
      "Employed, full-time                                                                           11011   \n",
      "Employed, full-time;Employed, part-time                                                          61   \n",
      "Employed, full-time;Independent contractor, fre...                                              963   \n",
      "Employed, full-time;Independent contractor, fre...                                               45   \n",
      "Employed, full-time;Independent contractor, fre...                                                0   \n",
      "...                                                                                             ...   \n",
      "Student, full-time;Student, part-time;Employed,...                                                1   \n",
      "Student, full-time;Student, part-time;Retired                                                     0   \n",
      "Student, part-time                                                                               26   \n",
      "Student, part-time;Employed, part-time                                                           85   \n",
      "Student, part-time;Retired                                                                        2   \n",
      "\n",
      "EdLevel                                             Primary/elementary school  \\\n",
      "Employment                                                                      \n",
      "Employed, full-time                                                       160   \n",
      "Employed, full-time;Employed, part-time                                     1   \n",
      "Employed, full-time;Independent contractor, fre...                         25   \n",
      "Employed, full-time;Independent contractor, fre...                          1   \n",
      "Employed, full-time;Independent contractor, fre...                          0   \n",
      "...                                                                       ...   \n",
      "Student, full-time;Student, part-time;Employed,...                          1   \n",
      "Student, full-time;Student, part-time;Retired                               1   \n",
      "Student, part-time                                                         48   \n",
      "Student, part-time;Employed, part-time                                      4   \n",
      "Student, part-time;Retired                                                  0   \n",
      "\n",
      "EdLevel                                             Professional degree (JD, MD, Ph.D, Ed.D, etc.)  \\\n",
      "Employment                                                                                           \n",
      "Employed, full-time                                                                           2073   \n",
      "Employed, full-time;Employed, part-time                                                          8   \n",
      "Employed, full-time;Independent contractor, fre...                                             159   \n",
      "Employed, full-time;Independent contractor, fre...                                              10   \n",
      "Employed, full-time;Independent contractor, fre...                                               1   \n",
      "...                                                                                            ...   \n",
      "Student, full-time;Student, part-time;Employed,...                                               0   \n",
      "Student, full-time;Student, part-time;Retired                                                    0   \n",
      "Student, part-time                                                                               5   \n",
      "Student, part-time;Employed, part-time                                                           5   \n",
      "Student, part-time;Retired                                                                       0   \n",
      "\n",
      "EdLevel                                             Secondary school (e.g. American high school, German Realschule or Gymnasium, etc.)  \\\n",
      "Employment                                                                                                                               \n",
      "Employed, full-time                                                                              1460                                    \n",
      "Employed, full-time;Employed, part-time                                                             9                                    \n",
      "Employed, full-time;Independent contractor, fre...                                                181                                    \n",
      "Employed, full-time;Independent contractor, fre...                                                  6                                    \n",
      "Employed, full-time;Independent contractor, fre...                                                  0                                    \n",
      "...                                                                                               ...                                    \n",
      "Student, full-time;Student, part-time;Employed,...                                                  0                                    \n",
      "Student, full-time;Student, part-time;Retired                                                       1                                    \n",
      "Student, part-time                                                                                140                                    \n",
      "Student, part-time;Employed, part-time                                                            100                                    \n",
      "Student, part-time;Retired                                                                          0                                    \n",
      "\n",
      "EdLevel                                             Some college/university study without earning a degree  \\\n",
      "Employment                                                                                                   \n",
      "Employed, full-time                                                                              3579        \n",
      "Employed, full-time;Employed, part-time                                                            15        \n",
      "Employed, full-time;Independent contractor, fre...                                                492        \n",
      "Employed, full-time;Independent contractor, fre...                                                 14        \n",
      "Employed, full-time;Independent contractor, fre...                                                  0        \n",
      "...                                                                                               ...        \n",
      "Student, full-time;Student, part-time;Employed,...                                                  4        \n",
      "Student, full-time;Student, part-time;Retired                                                       0        \n",
      "Student, part-time                                                                                 75        \n",
      "Student, part-time;Employed, part-time                                                            103        \n",
      "Student, part-time;Retired                                                                          1        \n",
      "\n",
      "EdLevel                                             Something else  \n",
      "Employment                                                          \n",
      "Employed, full-time                                            377  \n",
      "Employed, full-time;Employed, part-time                          3  \n",
      "Employed, full-time;Independent contractor, fre...              41  \n",
      "Employed, full-time;Independent contractor, fre...               2  \n",
      "Employed, full-time;Independent contractor, fre...               0  \n",
      "...                                                            ...  \n",
      "Student, full-time;Student, part-time;Employed,...               0  \n",
      "Student, full-time;Student, part-time;Retired                    0  \n",
      "Student, part-time                                              17  \n",
      "Student, part-time;Employed, part-time                          14  \n",
      "Student, part-time;Retired                                       1  \n",
      "\n",
      "[106 rows x 8 columns]\n"
     ]
    }
   ],
   "source": [
    "cross_tab = pd.crosstab(df['Employment'], df['EdLevel'])\n",
    "print(cross_tab)"
   ]
  },
  {
   "cell_type": "markdown",
   "metadata": {},
   "source": [
    "### Step 10: Export Cleaned Data\n"
   ]
  },
  {
   "cell_type": "markdown",
   "metadata": {},
   "source": [
    "- Save the cleaned dataset to a new CSV file for further use or sharing.\n"
   ]
  },
  {
   "cell_type": "code",
   "execution_count": 30,
   "metadata": {},
   "outputs": [],
   "source": [
    "df.to_csv('cleaned_survey-data.csv', index=False)"
   ]
  },
  {
   "cell_type": "markdown",
   "metadata": {},
   "source": [
    "### Summary:\n"
   ]
  },
  {
   "cell_type": "markdown",
   "metadata": {},
   "source": [
    "In this lab, you practiced key skills in exploratory data analysis, including:\n"
   ]
  },
  {
   "cell_type": "markdown",
   "metadata": {},
   "source": [
    "- Examining the structure and content of the Stack Overflow survey dataset to understand its variables and data types.\n",
    "\n",
    "- Identifying and addressing missing data to ensure the dataset's quality and completeness.\n",
    "\n",
    "- Summarizing and visualizing key variables such as job satisfaction, programming languages, and remote work trends.\n",
    "\n",
    "- Analyzing relationships in the data using techniques like:\n",
    "    - Comparing programming languages respondents have worked with versus those they want to work with.\n",
    "      \n",
    "    - Exploring remote work preferences by region.\n",
    "\n",
    "- Investigating correlations between professional coding experience and job satisfaction.\n",
    "\n",
    "- Performing cross-tabulations to analyze relationships between employment status and education levels.\n"
   ]
  },
  {
   "cell_type": "markdown",
   "metadata": {},
   "source": [
    "## Authors:\n",
    "Ayushi Jain\n"
   ]
  },
  {
   "cell_type": "markdown",
   "metadata": {},
   "source": [
    "### Other Contributors:\n",
    "Rav Ahuja\n",
    "Lakshmi Holla\n",
    "Malika\n"
   ]
  },
  {
   "cell_type": "markdown",
   "metadata": {},
   "source": [
    "Copyright © IBM Corporation. All rights reserved.\n"
   ]
  }
 ],
 "metadata": {
  "kernelspec": {
   "display_name": "Python 3 (ipykernel)",
   "language": "python",
   "name": "python3"
  },
  "language_info": {
   "codemirror_mode": {
    "name": "ipython",
    "version": 3
   },
   "file_extension": ".py",
   "mimetype": "text/x-python",
   "name": "python",
   "nbconvert_exporter": "python",
   "pygments_lexer": "ipython3",
   "version": "3.12.8"
  },
  "prev_pub_hash": "1d85068db2e9321c0f82f53364642bad437fc727f27ebcc94dcddab25e9a8289"
 },
 "nbformat": 4,
 "nbformat_minor": 4
}
